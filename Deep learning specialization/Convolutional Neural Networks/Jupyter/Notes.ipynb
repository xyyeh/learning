{
 "cells": [
  {
   "cell_type": "markdown",
   "id": "0dec649e-f35e-43e4-8b74-947dd5c7d87b",
   "metadata": {},
   "source": [
    "### Week 1\n",
    "#### Strided Convolutions\n",
    "1. Stided convolution is the same as convolution other that the size of its steps. Say we use a stride of 2, what it means is that we are going to move 2 steps for the next convolution.\n",
    "2. In certain cases, if the stride results in limited entries for a complete convolution operation, we will not run it. As such, the eventual size is $floor [ \\frac{n+2p-f}{s} + 1 ] \\times floor [ \\frac{n+2p-f}{s} + 1 ]$"
   ]
  },
  {
   "cell_type": "markdown",
   "id": "c8da51ad-0d17-4cad-90f5-2c9209994e5e",
   "metadata": {},
   "source": [
    "#### One Layer of a Convolution Neural Network\n",
    "1. Convolutions over RGB image can also be done, for example, using an image of size $6 \\times 6 \\times 3$ and a convolution tensor of $3 \\times 3 \\times 3$ results in a $4 \\times 4$ output\n",
    "2. If layer $l$ is a convolution layer: $f^{[l]}$ is the filter size, $p^{[l]}$ is the padding size, $s^{[l]}$ is the stride. The input is sized such that $n^{[l-1]}_H \\times n^{[l-1]}_W \\times n^{[l-1]}_c$ while the output is sized such that $n^{[l]}_H \\times n^{[l]}_W \\times n^{[l]}_c$. The filters are of size $f^{[l]} \\times f^{[l]} \\times n^{[l-1]}_c$ and the activations are such that $a^{[l]} \\rightarrow n^{[l]}_H \\times n^{[l]}_W \\times n^{[l]}_c$ and $m \\times n^{[l]}_H \\times n^{[l]}_W \\times n^{[l]}_c$ for $m$ training examples"
   ]
  },
  {
   "cell_type": "markdown",
   "id": "503b55c0-0eec-40ca-a0ae-a2ffc1b5e340",
   "metadata": {},
   "source": [
    "#### Pooling Layers\n",
    "1. Pooling layers reduce the size of representation, speed up computation and make some of the feature detections more robust.\n",
    "2. There are two main variants of pooling, namely max pooling and average pooling. The former is generally used while the later is only used in cases where you want to collapse very deep neural networks.\n",
    "3. Since pooling does not contain parameters, we are going to count it **together** with the convolution layer."
   ]
  }
 ],
 "metadata": {
  "kernelspec": {
   "display_name": "Python 3 (ipykernel)",
   "language": "python",
   "name": "python3"
  },
  "language_info": {
   "codemirror_mode": {
    "name": "ipython",
    "version": 3
   },
   "file_extension": ".py",
   "mimetype": "text/x-python",
   "name": "python",
   "nbconvert_exporter": "python",
   "pygments_lexer": "ipython3",
   "version": "3.11.7"
  }
 },
 "nbformat": 4,
 "nbformat_minor": 5
}
