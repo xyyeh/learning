{
 "cells": [
  {
   "cell_type": "code",
   "execution_count": 3,
   "id": "62f7b4ce-7a2b-41a1-a5ca-418d43b87092",
   "metadata": {},
   "outputs": [],
   "source": [
    "import torch"
   ]
  },
  {
   "cell_type": "code",
   "execution_count": 9,
   "id": "032be234-6ae0-4247-825e-6b512b67b535",
   "metadata": {},
   "outputs": [
    {
     "name": "stdout",
     "output_type": "stream",
     "text": [
      "x = tensor([ 0.,  1.,  2.,  3.,  4.,  5.,  6.,  7.,  8.,  9., 10., 11.])\n",
      "numel = 12\n",
      "shape = torch.Size([12])\n",
      "reshaped to = torch.Size([3, 4])\n",
      "ones = tensor([[1., 1.]])\n"
     ]
    }
   ],
   "source": [
    "x = torch.arange(12, dtype=torch.float32)\n",
    "print(\"x = {}\".format(x))\n",
    "print(\"numel = {}\".format(x.numel()))\n",
    "\n",
    "print(\"shape = {}\".format(x.shape))\n",
    "print(\"reshaped to = {}\".format(x.reshape(3,-1).shape))\n",
    "\n",
    "print(\"ones = {}\".format(torch.ones((1,2))))"
   ]
  },
  {
   "cell_type": "code",
   "execution_count": 17,
   "id": "52f1a9ce-0a95-4fb5-ade6-2f7eb0cf34f9",
   "metadata": {},
   "outputs": [
    {
     "name": "stdout",
     "output_type": "stream",
     "text": [
      "tuple of indexed values = (tensor(11.), tensor([1., 2.]))\n",
      "x:y will take values from x to y-1 inclusive\n"
     ]
    }
   ],
   "source": [
    "y = x[-1], x[1:3]\n",
    "print(\"tuple of indexed values = {}\".format(y))\n",
    "print(\"x:y will take values from x to y-1 inclusive\")"
   ]
  },
  {
   "cell_type": "code",
   "execution_count": 19,
   "id": "e829def4-86f3-4da7-a2d5-a7e0f43dae35",
   "metadata": {},
   "outputs": [
    {
     "name": "stdout",
     "output_type": "stream",
     "text": [
      "tensor([[ 0.,  1.,  2.,  3.],\n",
      "        [ 4.,  5., 17.,  7.]])\n"
     ]
    }
   ],
   "source": [
    "z = torch.tensor([[ 0.,  1.,  2.,  3.],\n",
    "                  [ 4.,  5., 17.,  7.],\n",
    "                  [ 8.,  9., 10., 11.]])\n",
    "print(z[:2, :])"
   ]
  },
  {
   "cell_type": "code",
   "execution_count": 20,
   "id": "026d3d91-9918-492e-a169-7939867ad4d1",
   "metadata": {},
   "outputs": [
    {
     "data": {
      "text/plain": [
       "(tensor([ 3.,  4.,  6., 10.]),\n",
       " tensor([-1.,  0.,  2.,  6.]),\n",
       " tensor([ 2.,  4.,  8., 16.]),\n",
       " tensor([0.5000, 1.0000, 2.0000, 4.0000]),\n",
       " tensor([ 1.,  4., 16., 64.]))"
      ]
     },
     "execution_count": 20,
     "metadata": {},
     "output_type": "execute_result"
    }
   ],
   "source": [
    "x = torch.tensor([1.0, 2, 4, 8])\n",
    "y = torch.tensor([2, 2, 2, 2])\n",
    "x + y, x - y, x * y, x / y, x ** y"
   ]
  },
  {
   "cell_type": "code",
   "execution_count": 21,
   "id": "c56fe861-9734-4e9f-8b99-cb2f7681fee8",
   "metadata": {},
   "outputs": [
    {
     "data": {
      "text/plain": [
       "(tensor([[ 0.,  1.,  2.,  3.],\n",
       "         [ 4.,  5.,  6.,  7.],\n",
       "         [ 8.,  9., 10., 11.],\n",
       "         [ 2.,  1.,  4.,  3.],\n",
       "         [ 1.,  2.,  3.,  4.],\n",
       "         [ 4.,  3.,  2.,  1.]]),\n",
       " tensor([[ 0.,  1.,  2.,  3.,  2.,  1.,  4.,  3.],\n",
       "         [ 4.,  5.,  6.,  7.,  1.,  2.,  3.,  4.],\n",
       "         [ 8.,  9., 10., 11.,  4.,  3.,  2.,  1.]]))"
      ]
     },
     "execution_count": 21,
     "metadata": {},
     "output_type": "execute_result"
    }
   ],
   "source": [
    "X = torch.arange(12, dtype=torch.float32).reshape((3,4))\n",
    "Y = torch.tensor([[2.0, 1, 4, 3], [1, 2, 3, 4], [4, 3, 2, 1]])\n",
    "torch.cat((X,Y), dim=0), torch.cat((X,Y), dim=1) "
   ]
  }
 ],
 "metadata": {
  "kernelspec": {
   "display_name": "Python 3 (ipykernel)",
   "language": "python",
   "name": "python3"
  },
  "language_info": {
   "codemirror_mode": {
    "name": "ipython",
    "version": 3
   },
   "file_extension": ".py",
   "mimetype": "text/x-python",
   "name": "python",
   "nbconvert_exporter": "python",
   "pygments_lexer": "ipython3",
   "version": "3.9.19"
  }
 },
 "nbformat": 4,
 "nbformat_minor": 5
}
