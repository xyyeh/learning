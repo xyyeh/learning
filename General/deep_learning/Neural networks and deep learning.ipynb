{
 "cells": [
  {
   "cell_type": "markdown",
   "id": "058abadb-0f5b-46bd-9cd7-11b9d0cf7b1d",
   "metadata": {},
   "source": [
    "## Neural Networks and Deep Learning\n",
    "### Supervised learning\n",
    "1. Train a function approximator based on inputs to predict an output\n",
    "2. Image - usese CNN\n",
    "3. Audio/translation - RNN\n",
    "4. Autonomous driving - custom/hybrid NN\n",
    "5. Structure data - input/output databases; Unstructured data - raw audio, images, text\n",
    "6. One of the huge breakthroughs of NN is the switching of sigmoid to ReLU function. The signmoid function has close to zero gradients at both ends that slows down gradient descent."
   ]
  },
  {
   "cell_type": "markdown",
   "id": "5f3aa173-84f5-4544-9927-b73be5a9a478",
   "metadata": {},
   "source": []
  }
 ],
 "metadata": {
  "kernelspec": {
   "display_name": "Python 3",
   "language": "python",
   "name": "python3"
  },
  "language_info": {
   "codemirror_mode": {
    "name": "ipython",
    "version": 3
   },
   "file_extension": ".py",
   "mimetype": "text/x-python",
   "name": "python",
   "nbconvert_exporter": "python",
   "pygments_lexer": "ipython3",
   "version": "3.8.8"
  }
 },
 "nbformat": 4,
 "nbformat_minor": 5
}
