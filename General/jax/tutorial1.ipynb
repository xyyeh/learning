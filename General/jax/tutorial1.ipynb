{
 "cells": [
  {
   "cell_type": "markdown",
   "metadata": {},
   "source": [
    "### What is JAX\n",
    "1. JAX is a framework targeted at machine learning research. It's pretty much like **`numpy`** but uses the XLA compiler to compile native **`numpy`** code, allowing the program to be runnable on accelerators (GPU/TPU)\n",
    "2. JAX comes with useful features such as automatic differentiation, automatic vectorization, automatic device parallelization and just-in-time compilation. \n",
    "3. JAX expresses numerical programs as compositions but with certain constraints i.e. pure functions. A pure function is one that always returns the same value with invoked with the same arguments and has no side-effects of state change and non-local variables."
   ]
  },
  {
   "cell_type": "markdown",
   "metadata": {},
   "source": [
    "#### Device array\n",
    "1. The basic unit of jax is the **`DeviceArray`**, a specialized storage like **`numpy`**'s **`ndarray`** but is backed by a memory buffer on CPU/GPU/TPU devices.\n",
    "2. A **`DeviceArray`** is device agnostic, i.e. the same code runs on all devices. Also, a **`DeviceArray`** is lazy in that the contents is not immediately available and is only pulled when requested."
   ]
  },
  {
   "cell_type": "code",
   "execution_count": 1,
   "metadata": {},
   "outputs": [
    {
     "name": "stderr",
     "output_type": "stream",
     "text": [
      "WARNING:absl:No GPU/TPU found, falling back to CPU. (Set TF_CPP_MIN_LOG_LEVEL=0 and rerun for more info.)\n"
     ]
    },
    {
     "name": "stdout",
     "output_type": "stream",
     "text": [
      "Array created using numpy:  [0 1 2 3 4 5 6 7 8 9]\n",
      "Array created using JAX:  [0 1 2 3 4 5 6 7 8 9]\n",
      "array_numpy is of type : <class 'numpy.ndarray'>\n",
      "array_jax is of type : <class 'jaxlib.xla_extension.DeviceArray'>\n"
     ]
    }
   ],
   "source": [
    "import time\n",
    "import jax\n",
    "import numpy as np\n",
    "import jax.numpy as jnp\n",
    "\n",
    "array_numpy = np.arange(10, dtype=np.int32)\n",
    "array_jax = jnp.arange(10, dtype=jnp.int32)\n",
    "\n",
    "print(\"Array created using numpy: \", array_numpy)\n",
    "print(\"Array created using JAX: \", array_jax)\n",
    "\n",
    "print(\"array_numpy is of type : {}\".format(type(array_numpy)))\n",
    "print(\"array_jax is of type : {}\".format(type(array_jax)))"
   ]
  },
  {
   "cell_type": "markdown",
   "metadata": {},
   "source": [
    "3. JAX arrays are immutable, just like TensorFlow tensors. Meaning, JAX arrays don't support item assignment as you do in **`ndarray`**"
   ]
  },
  {
   "cell_type": "code",
   "execution_count": 2,
   "metadata": {},
   "outputs": [
    {
     "name": "stdout",
     "output_type": "stream",
     "text": [
      "Original ndarray:  [0 1 2 3 4]\n",
      "Original DeviceArray:  [0 1 2 3 4]\n",
      "\n",
      "Modified ndarray:  [ 0  1  2  3 10]\n",
      "\n",
      "Trying to modify DeviceArray->  TypeError\n",
      "'<class 'jaxlib.xla_extension.DeviceArray'>' object does not support item assignment. JAX arrays are immutable. Instead of ``x[idx] = y``, use ``x = x.at[idx].set(y)`` or another .at[] method: https://jax.readthedocs.io/en/latest/_autosummary/jax.numpy.ndarray.at.html\n",
      "Jax Modified DeviceArray:  [ 0  1  2  3 10]\n"
     ]
    }
   ],
   "source": [
    "array1 = np.arange(5, dtype=np.int32)\n",
    "array2 = jnp.arange(5, dtype=jnp.int32)\n",
    "\n",
    "print(\"Original ndarray: \", array1)\n",
    "print(\"Original DeviceArray: \", array2)\n",
    "\n",
    "# Item assignment\n",
    "array1[4] = 10\n",
    "print(\"\\nModified ndarray: \", array1)\n",
    "print(\"\\nTrying to modify DeviceArray-> \", end=\" \")\n",
    "\n",
    "try:\n",
    "    array2[4] = 10\n",
    "    print(\"Modified DeviceArray: \", array2)\n",
    "except Exception as ex:\n",
    "    print(\"{}\\n{}\".format(type(ex).__name__, ex))\n",
    "\n",
    "# Proper item assignment\n",
    "array2_modified = jax.ops.index_update(array2, 4, 10)\n",
    "print(\"Jax Modified DeviceArray: \", array2_modified)"
   ]
  }
 ],
 "metadata": {
  "interpreter": {
   "hash": "a056c220e358cd254f9e086c9fbc1600e1f6c115100e0ffe1e1fae2263f3989e"
  },
  "kernelspec": {
   "display_name": "Python 3 (ipykernel)",
   "language": "python",
   "name": "python3"
  },
  "language_info": {
   "codemirror_mode": {
    "name": "ipython",
    "version": 3
   },
   "file_extension": ".py",
   "mimetype": "text/x-python",
   "name": "python",
   "nbconvert_exporter": "python",
   "pygments_lexer": "ipython3",
   "version": "3.8.8"
  }
 },
 "nbformat": 4,
 "nbformat_minor": 2
}
