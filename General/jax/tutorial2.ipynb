{
 "cells": [
  {
   "cell_type": "markdown",
   "metadata": {},
   "source": [
    "#### Pure functions\n",
    "1. Pure functions are those that:\n",
    "    - Return the same values when invoked with the same inputs, i.e. stateless\n",
    "    - No side effects observed on the function call\n",
    "2. Several examples of impure functions are shown below:"
   ]
  },
  {
   "cell_type": "markdown",
   "metadata": {},
   "source": [
    "##### Case I: Globals\n",
    "1. In the following, two calls to the same function occurred with different value for the global variable. Both calls yield the same results. This is due to the fact that the function signature in the second call is identical to that of the first. As such, the compiler would return the cached operation of the first call instead of recompiling the updated function"
   ]
  },
  {
   "cell_type": "code",
   "execution_count": 1,
   "metadata": {},
   "outputs": [
    {
     "name": "stderr",
     "output_type": "stream",
     "text": [
      "WARNING:absl:No GPU/TPU found, falling back to CPU. (Set TF_CPP_MIN_LOG_LEVEL=0 and rerun for more info.)\n"
     ]
    },
    {
     "name": "stdout",
     "output_type": "stream",
     "text": [
      "[counter] = 5, calling y(x) gives 7\n",
      "[counter] = 10, calling y(x) gives 7\n"
     ]
    }
   ],
   "source": [
    "import numpy as onp\n",
    "import jax.numpy as jnp\n",
    "from jax import grad, jit, vmap, make_jaxpr, random, lax\n",
    "\n",
    "# A global variable\n",
    "counter = 5\n",
    "\n",
    "def add_global_value(x):\n",
    "    \"\"\"\n",
    "    A function that relies on the global variable `counter` for doing some computation.\n",
    "    \"\"\"\n",
    "    return x + counter\n",
    "\n",
    "x = 2\n",
    "\n",
    "# using global variable in first call\n",
    "y = jit(add_global_value)(x)\n",
    "print(\"[counter] = {}, calling y(x) gives {}\".format(counter, y))\n",
    "\n",
    "# using updated global variable in second call\n",
    "counter = 10\n",
    "y = jit(add_global_value)(x)\n",
    "print(\"[counter] = {}, calling y(x) gives {}\".format(counter, y))\n",
    "\n",
    "# output: first and second calls give the same results"
   ]
  },
  {
   "cell_type": "markdown",
   "metadata": {},
   "source": [
    "##### Case II: Iterators\n",
    "1. In the following, two functions of the same logic behavior are created. One iterates manually through the array and sums all the numbers, while the other uses an iterator object to do the same.\n",
    "2. The former method gives the right solution while the latter gets stuck at the first element. This is because an iterator object is a not a stateless/memoryless object, and this cannot be handled by the *fori_loop* function. The iterator is only 'traced' at compile time and hence not updated during runtime."
   ]
  },
  {
   "cell_type": "code",
   "execution_count": 2,
   "metadata": {},
   "outputs": [
    {
     "name": "stdout",
     "output_type": "stream",
     "text": [
      "Adding all elements yield 10\n",
      "Adding all elements yield 0\n"
     ]
    }
   ],
   "source": [
    "def add_elements(array, start, end, initial_value=0):\n",
    "\n",
    "    # loop_fn's usage should look like val = loop_fn(i, val)\n",
    "    def loop_fn(i, val):\n",
    "        return val + array[i]\n",
    "\n",
    "    return lax.fori_loop(start, end, loop_fn, initial_value)\n",
    "\n",
    "array = jnp.arange(5)\n",
    "print(\"Adding all elements yield {}\".format(add_elements(array, 0, len(array), 0)))\n",
    "\n",
    "def add_elements(iterator, start, end, initial_value=0):\n",
    "\n",
    "    # loop_fn's usage should look like val = loop_fn(i, val)\n",
    "    def loop_fn(i, val):\n",
    "        return val + next(iterator)\n",
    "\n",
    "    return lax.fori_loop(start, end, loop_fn, initial_value)\n",
    "\n",
    "iterator = iter(onp.arange(5))\n",
    "print(\"Adding all elements yield {}\".format(add_elements(iterator, 0, 5, 0)))"
   ]
  },
  {
   "cell_type": "markdown",
   "metadata": {},
   "source": [
    "##### Pure functions with stateful objects\n",
    "1. Not all stateful objects are impure. As long as the stateful object is not dependent on any external state, including the IO (print), a function is considered pure.\n",
    "2. An example is shown below. Clearly, *dict* is a stateful object, but since it is created inside the function, it's state is only updated within the function scope and thus do not depend on external states."
   ]
  },
  {
   "cell_type": "code",
   "execution_count": 3,
   "metadata": {},
   "outputs": [
    {
     "name": "stdout",
     "output_type": "stream",
     "text": [
      "Value returned on first call: {0: DeviceArray(10, dtype=int32), 1: DeviceArray(11, dtype=int32), 2: DeviceArray(12, dtype=int32), 3: DeviceArray(13, dtype=int32), 4: DeviceArray(14, dtype=int32)}\n",
      "\n",
      "Value returned on second call: {0: DeviceArray(10, dtype=int32), 1: DeviceArray(11, dtype=int32), 2: DeviceArray(12, dtype=int32), 3: DeviceArray(13, dtype=int32), 4: DeviceArray(14, dtype=int32)}\n"
     ]
    }
   ],
   "source": [
    "def pure_function_with_stateful_obejcts(array):\n",
    "    array_dict = {}\n",
    "    for i in range(len(array)):\n",
    "        array_dict[i] = array[i] + 10\n",
    "    return array_dict\n",
    "\n",
    "array = jnp.arange(5)\n",
    "\n",
    "# First call to the function\n",
    "print(f\"Value returned on first call: {jit(pure_function_with_stateful_obejcts)(array)}\")\n",
    "# Second call to the function with different value\n",
    "print(f\"\\nValue returned on second call: {jit(pure_function_with_stateful_obejcts)(array)}\")"
   ]
  }
 ],
 "metadata": {
  "interpreter": {
   "hash": "a056c220e358cd254f9e086c9fbc1600e1f6c115100e0ffe1e1fae2263f3989e"
  },
  "kernelspec": {
   "display_name": "Python 3.8.8 64-bit ('hdrm': conda)",
   "language": "python",
   "name": "python3"
  },
  "language_info": {
   "codemirror_mode": {
    "name": "ipython",
    "version": 3
   },
   "file_extension": ".py",
   "mimetype": "text/x-python",
   "name": "python",
   "nbconvert_exporter": "python",
   "pygments_lexer": "ipython3",
   "version": "3.8.8"
  }
 },
 "nbformat": 4,
 "nbformat_minor": 2
}
