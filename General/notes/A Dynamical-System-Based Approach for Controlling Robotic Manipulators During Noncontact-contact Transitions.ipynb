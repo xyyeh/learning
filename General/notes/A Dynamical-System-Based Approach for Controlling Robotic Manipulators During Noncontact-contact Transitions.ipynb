{
 "cells": [
  {
   "cell_type": "markdown",
   "metadata": {},
   "source": [
    "### Dynamical system for contact transition\n",
    "1. Since the position and velocity at the contact need to be controlled, the DS must be a function of both of them, i.e. $\\ddot x = M(x,\\dot x) f(x, \\dot x, t)$. $M(x,\\dot x)$ is the modulation function which shapes the nominal DS such that it complies with the contact surface based on the state of the robot. $M = Q \\Lambda Q^T$ where the first column of $Q$, $q_1$\n",
    "2. The nominal dynamical system is assumed to asymptotically stable to a fixed target ($x^t$) located above the surface, i.e. $0 < N^T x^t$ where the origin is located on the surface\n",
    "3. The nominal acceleration is non-zero everywhere except on the target, i.e. $f^T f \\neq 0 \\forall(x, \\dot x) \\setminus \\{x^t,0\\}$\n",
    "4. Uisng a distance function, the modulation using $M$ is active when we are close to the surface, i.e. $0 < \\Gamma (x) \\leq \\rho$. When $\\Gamma (x) > \\rho$, $\\Lambda = I$"
   ]
  },
  {
   "cell_type": "markdown",
   "metadata": {},
   "source": [
    "### Compliant modulation function\n",
    "1. For a given initial state, the motion generated and the contact made with the surface with zero normal velocity requires that:\n",
    "$\\lambda_{1j} = (-2 \\omega N^T \\dot x - w^2 N^T x) f_j (x, \\dot x, t)$ where $f_j = \\frac{f^T q_j}{f^T f}$ and $\\frac{|q_1^T \\dot x_0|}{q_1^T x_0} \\leq \\omega$. This results in the critical damping behavior $q_1^T \\ddot x = -2 \\omega N^T \\dot x - \\omega^2 N^T x$. For a given initial state $(x_0, \\dot x_0)$, the time response is $q_1^T x = e^{-t \\omega} (q_1^T x_0 + (q_1^T x_0 \\omega + q_1^T \\dot x_0))$\n",
    "2. The \"depth\" of the transition region has to be set considering the robot's physical limits. For a robot with $\\dot x_{max}$ and $\\ddot x_{max}$ limits, use $\\rho = \\frac{3(q_1^T \\dot x_{max})^2}{|q_1^T \\ddot x_{max}|}$, $\\omega = |\\frac{q_1^T \\ddot x_{max}}{3 q_1^T \\dot x_{max}}|$ with $q_1^T x_0 = \\rho$, we can make the robot approach the contact in a critically damped manner\n",
    "3. "
   ]
  },
  {
   "cell_type": "code",
   "execution_count": null,
   "metadata": {},
   "outputs": [],
   "source": []
  }
 ],
 "metadata": {
  "kernelspec": {
   "display_name": "Python 3",
   "language": "python",
   "name": "python3"
  },
  "language_info": {
   "codemirror_mode": {
    "name": "ipython",
    "version": 3
   },
   "file_extension": ".py",
   "mimetype": "text/x-python",
   "name": "python",
   "nbconvert_exporter": "python",
   "pygments_lexer": "ipython3",
   "version": "3.6.9"
  }
 },
 "nbformat": 4,
 "nbformat_minor": 4
}
