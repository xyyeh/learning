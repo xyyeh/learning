{
 "cells": [
  {
   "cell_type": "markdown",
   "id": "9beb396c",
   "metadata": {},
   "source": [
    "#### Dijkstra vs Astar\n",
    "1. A* is just like Dijstra, the only difference is that A* tries to look for a better path by using a heuristic function which gives priority to nodes that are supposed to be better than others while Dijkstra is using a BFS exploration of all paths\n",
    "\n",
    "##### Astar\n",
    "1. A* is optimal under two conditions:\n",
    "    - Using an admissible heuristic, i.e. the estimated cost from the heuristic is always lower than the real cost. The better it approximates the real cost, the fast the search is.\n",
    "    - Enough memory is available to find the solution and represent it.\n",
    "2. With an overestimating heuristic, A* would provide a faster albeit sub-optimal solution.\n",
    "\n",
    "##### Dijkstra\n",
    "1. If Dijkstra is used to find the shortest pat from a source vertex to all the other vertices in the graph, it would need to pass through all the vertices. If you only need to find the shortest path to a specific destination, then you do not need to visit all vertices.\n",
    "2. In the latter, it is the same as setting the edge cost to be 0 and using A*"
   ]
  },
  {
   "cell_type": "markdown",
   "id": "8486531b",
   "metadata": {},
   "source": []
  }
 ],
 "metadata": {
  "kernelspec": {
   "display_name": "Python 3.8.8 64-bit ('hdrm': conda)",
   "language": "python",
   "name": "python388jvsc74a57bd0a056c220e358cd254f9e086c9fbc1600e1f6c115100e0ffe1e1fae2263f3989e"
  },
  "language_info": {
   "codemirror_mode": {
    "name": "ipython",
    "version": 3
   },
   "file_extension": ".py",
   "mimetype": "text/x-python",
   "name": "python",
   "nbconvert_exporter": "python",
   "pygments_lexer": "ipython3",
   "version": "3.8.8"
  }
 },
 "nbformat": 4,
 "nbformat_minor": 5
}
