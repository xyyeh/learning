{
 "cells": [
  {
   "cell_type": "markdown",
   "id": "9beb396c",
   "metadata": {},
   "source": [
    "#### Dijkstra vs Astar\n",
    "1. A* is just like Dijstra, the only difference is that A* tries to look for a better path by using a heuristic function which gives priority to nodes that are supposed to be better than others while Dijkstra is using a BFS exploration of all paths\n",
    "2. A* is optimal under two conditions:\n",
    "    - The estimated cost from the heuristic is always lower than the real cost. The better it approximates the real cost, the fast the search is.\n",
    "    - Enough memory is available to find the solution and represent it"
   ]
  },
  {
   "cell_type": "code",
   "execution_count": null,
   "id": "f2fc01dd",
   "metadata": {},
   "outputs": [],
   "source": []
  }
 ],
 "metadata": {
  "kernelspec": {
   "display_name": "Python 3.8.8 64-bit ('hdrm': conda)",
   "language": "python",
   "name": "python388jvsc74a57bd0a056c220e358cd254f9e086c9fbc1600e1f6c115100e0ffe1e1fae2263f3989e"
  },
  "language_info": {
   "codemirror_mode": {
    "name": "ipython",
    "version": 3
   },
   "file_extension": ".py",
   "mimetype": "text/x-python",
   "name": "python",
   "nbconvert_exporter": "python",
   "pygments_lexer": "ipython3",
   "version": "3.8.8"
  }
 },
 "nbformat": 4,
 "nbformat_minor": 5
}
