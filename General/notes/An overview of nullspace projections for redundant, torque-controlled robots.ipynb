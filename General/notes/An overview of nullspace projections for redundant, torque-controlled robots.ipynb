{
 "cells": [
  {
   "cell_type": "markdown",
   "metadata": {},
   "source": [
    "### Nullspace projections\n",
    "1. Two methods were described and compared from static and dynamic consistency point of view\n",
    "2. Static consistency - subtask does not generate interferring forces in the operational spaces of all higher priority tasks in any static equilibrium. i.e. $(J_i ^{W+})^T N_j = 0$ where $i$ is of a strict higher priorit than $j$. For a robot $M \\ddot q = \\tau' + \\tau_{ext}$ and assume that the first tasks jacobian $J_1$ is associated with the \n",
    "3. "
   ]
  },
  {
   "cell_type": "code",
   "execution_count": null,
   "metadata": {},
   "outputs": [],
   "source": []
  }
 ],
 "metadata": {
  "kernelspec": {
   "display_name": "Python 3",
   "language": "python",
   "name": "python3"
  },
  "language_info": {
   "codemirror_mode": {
    "name": "ipython",
    "version": 3
   },
   "file_extension": ".py",
   "mimetype": "text/x-python",
   "name": "python",
   "nbconvert_exporter": "python",
   "pygments_lexer": "ipython3",
   "version": "3.6.9"
  }
 },
 "nbformat": 4,
 "nbformat_minor": 4
}
