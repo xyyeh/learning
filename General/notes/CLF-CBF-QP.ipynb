{
 "cells": [
  {
   "cell_type": "markdown",
   "id": "random-suicide",
   "metadata": {},
   "source": [
    "## CBF (Obstacle avoidance)\n",
    "1. For a simple manipulator, we can define the state space as $x_2 = \\dot x_1 = J \\dot q$ and $\\dot x_2 = \\dot J \\dot q + J \\ddot q$ where $\\ddot q = M^{-1} (\\tau - h)$. We can then set $f(q) = \\dot J \\dot q - J M^{-1} h$, $g(q) = J M^{-1}$ and $u = \\tau$\n",
    "2. Introducing a constraint equation for obstacle avoidace, $h(x) = (x_o - x_1)^T A (x_o - x_1) - 1 \\geq 0$"
   ]
  },
  {
   "cell_type": "code",
   "execution_count": null,
   "id": "crucial-arnold",
   "metadata": {},
   "outputs": [],
   "source": []
  }
 ],
 "metadata": {
  "kernelspec": {
   "display_name": "Python 3",
   "language": "python",
   "name": "python3"
  },
  "language_info": {
   "codemirror_mode": {
    "name": "ipython",
    "version": 3
   },
   "file_extension": ".py",
   "mimetype": "text/x-python",
   "name": "python",
   "nbconvert_exporter": "python",
   "pygments_lexer": "ipython3",
   "version": "3.8.5"
  }
 },
 "nbformat": 4,
 "nbformat_minor": 5
}
