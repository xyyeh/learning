{
 "cells": [
  {
   "cell_type": "markdown",
   "id": "6e02dd18",
   "metadata": {},
   "source": [
    "### Disturbance during task control\n",
    "1. When a robot is in contact with the environment, the eom becomes $M \\ddot q + C \\dot q + g + \\Gamma_c = \\Gamma$ where $\\Gamma_c$ is the contact force (force applied by the robot on the environment)\n",
    "2. The task dynamics is now $\\Lambda_t \\ddot x_t + \\mu_t + p_t + \\bar J_t^T \\Gamma_c = F_t$. Choosing $F_t$ as in the free space case leads to the behavior, $\\ddot x_t + \\Lambda_t^{-1} \\bar J_t^T \\Gamma_c = F^*$ where $F^*$ is the unit mass force control vector. To recover the unit mass control system, the disturbance compensated task force is $F_{t-dc} = \\hat \\Lambda_t F^* + \\hat \\mu_t + \\hat p_t + \\bar J_t^T \\Gamma_c$. To observe $\\Gamma_c$ reliably, the momentum observer can be used, resulting in $\\Gamma_c = -r$"
   ]
  },
  {
   "cell_type": "markdown",
   "id": "27c8c3ee",
   "metadata": {},
   "source": [
    "### Constraint consistent task control\n",
    "1. To formalize this "
   ]
  },
  {
   "cell_type": "code",
   "execution_count": null,
   "id": "895a0f5f",
   "metadata": {},
   "outputs": [],
   "source": []
  }
 ],
 "metadata": {
  "kernelspec": {
   "display_name": "Python 3 (ipykernel)",
   "language": "python",
   "name": "python3"
  },
  "language_info": {
   "codemirror_mode": {
    "name": "ipython",
    "version": 3
   },
   "file_extension": ".py",
   "mimetype": "text/x-python",
   "name": "python",
   "nbconvert_exporter": "python",
   "pygments_lexer": "ipython3",
   "version": "3.8.13"
  }
 },
 "nbformat": 4,
 "nbformat_minor": 5
}
