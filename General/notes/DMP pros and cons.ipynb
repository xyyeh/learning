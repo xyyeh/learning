{
 "cells": [
  {
   "cell_type": "markdown",
   "metadata": {},
   "source": [
    "### Dynamic movement primitives vs Stable estimator of dynamical system\n",
    "1. Though both DMP and SEDS represent robot motions as a DS, they are different in the way they encode a motion.\n",
    "<br> **SEDS > DMP**\n",
    "<br> a) SEDS model robot motions as a *time-independent* DS hance it is robust to temporal and spatial perturbations with any amplitude. In contrast, DMP is explicitly time-dependent through the canonical phase variable. To handle perturbations, higher level controller needs to reindex in time the canonical system\n",
    "<br> b) DMP is a one-shot learning algorithm, thus it cannot embed different ways of perfoming a task into a single model.\n",
    "<br> c) SEDS can learn from multiple demonstrations, it can thus generalize motion well in areas not covered with demonstrations.\n",
    "<br> **SEDS < DMP**\n",
    "<br> DMP being a one-shot learning algorithm learns faster. However, the execution time for both DMP and SEDS are the same."
   ]
  },
  {
   "cell_type": "code",
   "execution_count": null,
   "metadata": {},
   "outputs": [],
   "source": []
  }
 ],
 "metadata": {
  "kernelspec": {
   "display_name": "Python 3",
   "language": "python",
   "name": "python3"
  },
  "language_info": {
   "codemirror_mode": {
    "name": "ipython",
    "version": 3
   },
   "file_extension": ".py",
   "mimetype": "text/x-python",
   "name": "python",
   "nbconvert_exporter": "python",
   "pygments_lexer": "ipython3",
   "version": "3.6.9"
  }
 },
 "nbformat": 4,
 "nbformat_minor": 4
}
