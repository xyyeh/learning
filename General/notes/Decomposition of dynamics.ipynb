{
 "cells": [
  {
   "cell_type": "markdown",
   "id": "192d7d3a-b5a7-4826-b51d-76e761cf4494",
   "metadata": {},
   "source": [
    "## Problem description - Decomposition of the dynamics of branching and floating base systems\n",
    "1. To integrate distributed dynamic control into our subsystems, we will need to look for ways to decompose a full dynamic model of the system into the *base* and the *submechanism*(s)\n",
    "2. The choice of *base* and *submechanism* is expected to be fixed, though in general, they can be arbitrary. Spliting off the last 3 joints of a 7 dof robot arm as the *submechanism* and grouping the rest as the *base* is one of the many choices\n",
    "3. We will be looking at the dynamics of a **k+14** dof system, where the first **k** dof forms the *base* and the remaining **14** dofs are formed by the dual 7 dof manipulators"
   ]
  },
  {
   "cell_type": "markdown",
   "id": "03ee4d43-fa79-43ff-a768-a6c1cb8b575b",
   "metadata": {},
   "source": [
    "### Frames of references\n",
    "\n"
   ]
  }
 ],
 "metadata": {
  "kernelspec": {
   "display_name": "Python 3",
   "language": "python",
   "name": "python3"
  },
  "language_info": {
   "codemirror_mode": {
    "name": "ipython",
    "version": 3
   },
   "file_extension": ".py",
   "mimetype": "text/x-python",
   "name": "python",
   "nbconvert_exporter": "python",
   "pygments_lexer": "ipython3",
   "version": "3.8.8"
  }
 },
 "nbformat": 4,
 "nbformat_minor": 5
}
