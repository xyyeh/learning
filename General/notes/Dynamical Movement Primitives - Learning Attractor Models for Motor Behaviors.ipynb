{
 "cells": [
  {
   "cell_type": "markdown",
   "metadata": {},
   "source": [
    "### Dynamical Movement Primitives - Learning Attractor Models for Motor Behaviors\n",
    "1. Given the model of an attractor:\n",
    "<br> $\\tau \\dot z = \\alpha_z (\\beta_z (g-y)-z) + f$\n",
    "<br> $\\tau \\dot y = z$\n",
    "where $\\tau$ is the time constant and $\\alpha_z, \\beta_z > 0$. When this system is unforced, it is a globally stable system with the unique point attractor located at $(z,y)=(0,g)$. To critically damp the system, $\\beta_z = \\alpha_z/4$ in order for $y$ to monotonically converge to $g$\n",
    "2. The forcing function $f$ can be chosen such that $f=\\frac{\\sum^N_i \\psi_i(t) w_i}{\\sum^N_i \\psi_i(t)}$, allowing easy description of forcing function through a function approximator. The explicit time dependence of this nonlinearity, however, creates a non-autonomous dynamics system.\n",
    "3. To ensure stabilty, we replace time by a first-order linear dynamical system $\\tau \\dot x = -\\alpha_x x$. This systems starts with $x_0 = 1$ and converges monotonically to 0. We call $x$ the phase variable and the equation the *canonical system*. Now that the time dependency is gone, we have obtained an autonomous system. The forcing term can be reformulated to $f(x)=\\frac{\\sum^N_i \\psi_i(x) w_i}{\\sum^N_i \\psi_i(x)} x(g-y_0)$ with $N$ exponential basis functions $\\psi_i(x)$ where $\\psi_i(x) = e^{-\\frac{1}{2\\sigma_i^2}(x-c_i)^2}$\n",
    "4. "
   ]
  },
  {
   "cell_type": "markdown",
   "metadata": {},
   "source": [
    "### Spatial and temporal coupling\n",
    "1. Coupling terms can be added at the canonical or transformation system to incorporate interesting behaviors\n",
    "2. Spatial coupling can be added as:\n",
    "<br> $\\tau \\dot z = \\alpha_z (\\beta_z (g-y) - z) + f + C_t$\n",
    "<br> $\\tau \\dot y = z$\n",
    "The coupling term $C_t$ acts on the transformation system and affects the spatial evolution $(y,\\dot y, \\ddot y)$ and *less* the temporal evolution. An example would be to use a potential field as $C_t$ for obstacle avoidance.\n",
    "3. Temporal coupling can be added as:\n",
    "<br> $\\tau \\dot x = -\\alpha_x + C_c$\n",
    "The coupling term $C_c$ only affects the temporal evolution of our dynamical system without affecting the spatial behavior\n",
    "4. Spatial and temporal coupling can be added to mitigate issues of open loop tracking of DMPs.\n",
    "<br> $"
   ]
  },
  {
   "cell_type": "markdown",
   "metadata": {},
   "source": [
    "#### Obstacle avoidance"
   ]
  },
  {
   "cell_type": "markdown",
   "metadata": {},
   "source": [
    "### Error coupling\n",
    "1. One of the issues in implementing the DMP is that we have to be careful about how quickly the DMP trajectory moves, because while the DMP system isn't constrained by any physcial dynamics, the plant is.\n",
    "2. One simple way to deal with this is to included an error-related coupling. To do this, we just have to scale the timestep $dt$ using "
   ]
  }
 ],
 "metadata": {
  "kernelspec": {
   "display_name": "Python 3",
   "language": "python",
   "name": "python3"
  },
  "language_info": {
   "codemirror_mode": {
    "name": "ipython",
    "version": 3
   },
   "file_extension": ".py",
   "mimetype": "text/x-python",
   "name": "python",
   "nbconvert_exporter": "python",
   "pygments_lexer": "ipython3",
   "version": "3.6.9"
  }
 },
 "nbformat": 4,
 "nbformat_minor": 4
}
