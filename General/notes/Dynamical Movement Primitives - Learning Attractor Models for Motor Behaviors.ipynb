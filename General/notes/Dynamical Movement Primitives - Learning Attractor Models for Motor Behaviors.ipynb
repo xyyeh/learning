{
 "cells": [
  {
   "cell_type": "markdown",
   "metadata": {},
   "source": [
    "### Dynamical Movement Primitives - Learning Attractor Models for Motor Behaviors\n",
    "1. Given the model of an attractor:\n",
    "<br> $\\tau \\dot z = \\alpha_z (\\beta_z (g-y)-z) + f$\n",
    "<br> $\\tau \\dot y = z$\n",
    "where $\\tau$ is the time constant and $\\alpha_z, \\beta_z > 0$. When this system is unforced, it is a globally stable system with the unique point attractor located at $(z,y)=(0,g)$. To critically damp the system, $\\beta_z = \\alpha_z/4$ in order for $y$ to monotonically converge to $g$\n",
    "2. The forcing function $f$ can be chosen such that $f=\\frac{\\sum^N_i \\psi_i(t) w_i}{\\sum^N_i \\psi_i(t)}$, allowing easy description of forcing function through a function approximator. The explicit time dependence of this nonlinearity, however, creates a non-autonomous dynamics system.\n",
    "3. To ensure stabilty, we replace time by a first-order linear dynamical system $\\tau \\dot x = -\\alpha_x x$. This systems starts with $x_0 = 1$ and slowly "
   ]
  },
  {
   "cell_type": "code",
   "execution_count": null,
   "metadata": {},
   "outputs": [],
   "source": []
  }
 ],
 "metadata": {
  "kernelspec": {
   "display_name": "Python 3",
   "language": "python",
   "name": "python3"
  },
  "language_info": {
   "codemirror_mode": {
    "name": "ipython",
    "version": 3
   },
   "file_extension": ".py",
   "mimetype": "text/x-python",
   "name": "python",
   "nbconvert_exporter": "python",
   "pygments_lexer": "ipython3",
   "version": "3.6.9"
  }
 },
 "nbformat": 4,
 "nbformat_minor": 4
}
