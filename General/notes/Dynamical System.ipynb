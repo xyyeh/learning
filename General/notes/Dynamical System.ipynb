{
 "cells": [
  {
   "cell_type": "markdown",
   "metadata": {},
   "source": [
    "### Dynamical System\n",
    "1. Based only lypunov theorem for global asymtoptic statability. A DS is is GAS at $x^* \\in \\mathbb{R}^N$ iff there exists a $C^1$ lyapunov candidate function $V(x): \\mathbb{R}^N \\rightarrow \\mathbb{R}$ that is radially unbounded, i.e. $V(x) \\rightarrow \\infty$ as $||x|| \\Rightarrow \\infty$ and satisfies the following conditions:\n",
    "<br> $V(x^*)=0$\n",
    "<br> $V(x) > 0~\\forall x \\in \\mathbb{R}^N \\setminus x=x^*$\n",
    "<br> $\\dot V(x^*) = 0$\n",
    "<br> $\\dot V(x) < 0~\\forall x \\in \\mathbb{R}^N \\setminus x=x^*$ where $\\dot V(x) = \\frac{\\partial V}{\\partial x} f(x) < 0$\n",
    "2. $V$ should be non-increasing along all trajectories. Clearly, the angle subtended by $\\frac{\\partial V}{\\partial x}$ and $f(x)$ is obtuse\n",
    "3. To ensure that $\\dot V < 0$, we enforce that the eigenvalues of the $A$ matrix to be negative, i.e. $A^T+A < 0$\n",
    "4. Typical lyapunov function is a QLF or a P-QLF (parameterized as $P=P^T>0$). For the latter, $\\dot V < 0 \\rightarrow A^TP + PA < 0$\n",
    "\n",
    "#### Nonlinear dynamical  system\n",
    "1. Not easy to define and proof. Represent non-linear motions as a mixtures of linear DS, i.e. $f(x) = \\sum_k \\gamma_k(x) (A_k x + b_k)$ where $\\gamma_k(x)$ defines the activation/mixing of the kth DS"
   ]
  },
  {
   "cell_type": "markdown",
   "metadata": {},
   "source": [
    "### Learning non-linear DS via Gaussian Mixture Regression\n",
    "1. Take a density based approach to modeling dynamical systems, i.e. $\\dot x = f(x) = \\mathbb{E}\\{ p(\\dot x | x)\\}$\n",
    "2. Given a set of demonstrations, learn the joint density via GMM $p(x,\\dot x) = \\sum_k \\pi_k N(x, \\dot x | \\mu^k, \\Sigma^k)$"
   ]
  },
  {
   "cell_type": "markdown",
   "metadata": {},
   "source": [
    "### Reference\n",
    "https://www.youtube.com/watch?v=KnUYMuvgYIU"
   ]
  },
  {
   "cell_type": "markdown",
   "metadata": {},
   "source": [
    "### Passive Interaction Control With Dynamical Systems\n",
    "1. Passivity can no longer be ensured if the desired velocity is non-zero\n",
    "2. The loss of passivity during traking is an important drawback of impedance control and a problem that arises in any controller driven by time-indexed reference trajectories.\n",
    "3. Contributions: 1) Design of damping matrix, 2) Allow passive velocity feedback control in conservative DS, 3) Applying energy tanks to allow velocity feedback in non-conservative systems 4) Impedance specifications"
   ]
  }
 ],
 "metadata": {
  "kernelspec": {
   "display_name": "Python 3",
   "language": "python",
   "name": "python3"
  },
  "language_info": {
   "codemirror_mode": {
    "name": "ipython",
    "version": 3
   },
   "file_extension": ".py",
   "mimetype": "text/x-python",
   "name": "python",
   "nbconvert_exporter": "python",
   "pygments_lexer": "ipython3",
   "version": "3.6.9"
  }
 },
 "nbformat": 4,
 "nbformat_minor": 4
}
