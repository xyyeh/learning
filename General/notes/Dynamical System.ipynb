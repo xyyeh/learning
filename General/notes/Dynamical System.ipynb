{
 "cells": [
  {
   "cell_type": "markdown",
   "metadata": {},
   "source": [
    "### Dynamical System\n",
    "1. Based only lypunov theorem for global asymtoptic statability. A DS is is GAS at $x^* \\in \\mathbb{R}^N$ iff there exists a $C^1$ lyapunov candidate function $V(x): \\mathbb{R}^N \\rightarrow \\mathbb{R}$ that is radially unbounded, i.e. $V(x) \\rightarrow \\infty$ as $||x|| \\Rightarrow \\infty$ and satisfies the following conditions:\n",
    "<br> $V(x^*)=0$\n",
    "<br> $V(x) > 0~\\forall x \\in \\mathbb{R}^N \\setminus x=x^*$\n",
    "<br> $\\dot V(x^*) = 0$\n",
    "<br> $\\dot V(x) < 0~\\forall x \\in \\mathbb{R}^N \\setminus x=x^*$ where $\\dot V(x) = \\frac{\\partial V}{\\partial x} f(x) < 0$\n",
    "2. $V$ should be non-increasing along all trajectories. Clearly, the angle subtended by $\\frac{\\partial V}{\\partial x}$ and $f(x)$ is obtuse\n",
    "3. To ensure that $\\dot V < 0$, we enforce that the eigenvalues of the $A$ matrix to be negative, i.e. $A^T+A < 0$\n",
    "4. Typical lyapunov function is a QLF or a P-QLF (parameterized as $P=P^T>0$). For the latter, $\\dot V < 0 \\rightarrow A^TP + PA < 0$\n",
    "\n",
    "#### Nonlinear dynamical  system\n",
    "1. Not easy to define and proof. Represent non-linear motions as a mixtures of linear DS, i.e. $f(x) = \\sum_k \\gamma_k(x) (A_k x + b_k)$ where $\\gamma_k(x)$ defines the activation/mixing of the kth DS"
   ]
  },
  {
   "cell_type": "markdown",
   "metadata": {},
   "source": [
    "### Learning non-linear DS via Gaussian Mixture Regression\n",
    "1. Take a density based approach to modeling dynamical systems, i.e. $\\dot x = f(x) = \\mathbb{E}\\{ p(\\dot x | x)\\}$\n",
    "2. Given a set of demonstrations, learn the joint density via GMM $p(x,\\dot x) = \\sum_k \\pi_k N(x, \\dot x | \\mu^k, \\Sigma^k)$"
   ]
  },
  {
   "cell_type": "markdown",
   "metadata": {},
   "source": [
    "### Reference\n",
    "https://www.youtube.com/watch?v=KnUYMuvgYIU"
   ]
  },
  {
   "cell_type": "markdown",
   "metadata": {},
   "source": [
    "### Passive Interaction Control With Dynamical Systems\n",
    "1. Passivity can no longer be ensured if the desired velocity is non-zero\n",
    "2. The loss of passivity during traking is an important drawback of impedance control and a problem that arises in any controller driven by time-indexed reference trajectories.\n",
    "3. Contributions: 1) Design of damping matrix, 2) Allow passive velocity feedback control in conservative DS, 3) Applying energy tanks to allow velocity feedback in non-conservative systems 4) Impedance specifications\n",
    "\n",
    "#### Problem statement\n",
    "1. Given the state $\\xi$, the rigid body dynamics of the system is $M(\\xi) \\ddot \\xi + C(\\xi, \\dot \\xi) \\dot \\xi + g(\\xi) = \\tau_c + \\tau_e$. The controller should:  1) Ensure passivity $(\\tau_e,\\dot \\xi)$ 2) Move along $f$ and dissipate energy in directions perpendicular to $f$ 3) Variable task-based impedance of manipulator.\n",
    "\n",
    "#### Energy dissipation with task varying damping\n",
    "1. With a gravity plus damping controller, $\\tau_c = g(\\xi) - D \\dot \\xi$ and $D \\in \\mathbb{S}^+_N$, we can specify $D(\\xi) = Q(\\xi) \\Lambda Q(\\xi)^T$. $Q$ is setup such that one of the basis $e_1$ is pointing along $f(\\xi)$, i.e. $e_1 = \\frac{f(\\xi)}{||f(\\xi)||}$. \n",
    "\n",
    "2. Tracking in conservative DS: An autonomous dynamical system $f(\\xi)$ is conservative iff there exists a scalar potential function $V_f$ such that: $f(\\xi) = -\\nabla V_f(\\xi)$. Consider now a modified controller with negative velocity feedback:\n",
    "$\\tau_c = g(\\xi) - D(\\xi)(\\dot \\xi - f(\\xi)) = g(\\xi) - D(\\xi) \\dot \\xi + \\lambda_1 f(\\xi)$. It is easy to show that the system under control is passive wrt the input output pair $\\tau_e, \\dot \\xi$ with the storage function $W(\\xi, \\dot \\xi) = \\frac{1}{2} \\dot \\xi^T M(\\xi) \\xi + \\lambda_1 V_f(\\xi)$. $\\dot W = -\\dot \\xi^T D \\dot \\xi + \\dot \\xi^T \\tau_e$. Clearly, since the second term is negative semi-definite, the system is passive with respect to $(\\tau_e,\\dot \\xi)$\n",
    "\n",
    "3. Tracking in non-conservative DS: The restriction to conservative system was necessary to nullify the term $\\lambda_1 \\dot \\xi^T f(\\xi) + \\lambda_1 \\nabla V_f^T \\dot \\xi$. However, this term only needs to be canceled for $\\dot \\xi^T f(\\xi) > 0$. When $\\dot \\xi^T f(\\xi) \\leq 0$, the control is contributing to the decrease in KE. To ensure passivity, we can check that $W(t_1) \\leq W(t_0)$\n"
   ]
  },
  {
   "cell_type": "code",
   "execution_count": null,
   "metadata": {},
   "outputs": [],
   "source": []
  }
 ],
 "metadata": {
  "kernelspec": {
   "display_name": "Python 3",
   "language": "python",
   "name": "python3"
  },
  "language_info": {
   "codemirror_mode": {
    "name": "ipython",
    "version": 3
   },
   "file_extension": ".py",
   "mimetype": "text/x-python",
   "name": "python",
   "nbconvert_exporter": "python",
   "pygments_lexer": "ipython3",
   "version": "3.6.9"
  }
 },
 "nbformat": 4,
 "nbformat_minor": 4
}
