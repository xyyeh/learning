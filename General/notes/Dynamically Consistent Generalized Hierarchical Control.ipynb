{
 "cells": [
  {
   "cell_type": "markdown",
   "metadata": {},
   "source": [
    "### Dynamically Consistent Generalized Hierarchical Control\n",
    "1. Despite the widespread use of OPC in advanced robotic manipulation, several limitations exists:\n",
    "<br> Only supports equality constraints\n",
    "<br> Fixed prioririty assignment, i.e. tasks cannot be added or removed and priority adjusted online.\n",
    "\n",
    "2. The DCGHC addresses the second limitation, but I do foresee that the combination of HQP with DCGHC will lead to a solution addressing both issuues."
   ]
  }
 ],
 "metadata": {
  "kernelspec": {
   "display_name": "Python 3",
   "language": "python",
   "name": "python3"
  },
  "language_info": {
   "codemirror_mode": {
    "name": "ipython",
    "version": 3
   },
   "file_extension": ".py",
   "mimetype": "text/x-python",
   "name": "python",
   "nbconvert_exporter": "python",
   "pygments_lexer": "ipython3",
   "version": "3.6.9"
  }
 },
 "nbformat": 4,
 "nbformat_minor": 4
}
