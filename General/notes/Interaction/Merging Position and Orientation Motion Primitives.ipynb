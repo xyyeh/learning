{
 "cells": [
  {
   "cell_type": "markdown",
   "metadata": {},
   "source": [
    "## Merging Position and Orientation Motion Primitives\n",
    "1. The paper deals with the merging of sequential motion primitives considering both dmps for position and orientation levels. Three approaches are described and their performance compared.\n",
    "\n",
    "#### DMPS\n",
    "1. Position dmp: $\\tau \\mathbf{\\dot z} = K (\\mathbf{y_d} - \\mathbf{y})$ and $\\tau \\mathbf{\\dot y} = z$"
   ]
  },
  {
   "cell_type": "markdown",
   "metadata": {},
   "source": [
    "## Movement Reproduction and Obstacle Avoidance with Dynamic Movement Primitives and Potential Fields\n",
    "1. A modified Dmp is proposed. The new Dmp is able to learn movements with the same start and goal position.\n",
    "2. The forcing term does not scale with $g-y_0$. Thus, small values of $g-y_0$ does not caues huge accelerations when changing $g$.\n",
    "3. The formulation changed from $\\tau \\dot z = K(g-y) - Dz + (g-y_0) f$ to $\\tau \\dot z = K(g-y) - Dz - K(g-y_0)x + Kf$"
   ]
  },
  {
   "cell_type": "code",
   "execution_count": null,
   "metadata": {},
   "outputs": [],
   "source": []
  }
 ],
 "metadata": {
  "kernelspec": {
   "display_name": "Python 3",
   "language": "python",
   "name": "python3"
  },
  "language_info": {
   "codemirror_mode": {
    "name": "ipython",
    "version": 3
   },
   "file_extension": ".py",
   "mimetype": "text/x-python",
   "name": "python",
   "nbconvert_exporter": "python",
   "pygments_lexer": "ipython3",
   "version": "3.6.9"
  }
 },
 "nbformat": 4,
 "nbformat_minor": 4
}
