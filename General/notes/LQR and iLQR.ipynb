{
 "cells": [
  {
   "cell_type": "markdown",
   "id": "eab67aa8",
   "metadata": {},
   "source": [
    "## LQR\n",
    "1. One of the most standard controllers in control theory is LQR. There are two main variants, i.e. the finite horizon case (you are concerned with optimality wrt a given time span) and the infinite horizon case (optimality is not defined wrt time). https://en.wikipedia.org/wiki/Linear%E2%80%93quadratic_regulator\n",
    "2. Problem setup: As expected from the name itself, \"linear\" QR is used for system of the structure $\\dot x = A x + B u$. Also, the term quadratic also tells us that the cost is assumed to be quadratic, i.e. $J = \\int_0^T ((x-x_{des})^T Q (x-x_{des}) + u^T R u) dt$, where $x_{des}$ is the target state and $Q, R \\in \\mathbb{S}_+$. As discussed above, the finite/infinite horizon formulations depends on whether $T := \\infty$\n",
    "3. The goal: We want to find a linear control action $u = -K x$ that drives $x$ to $x_{des}$. There are lots of discussion on the derivation of LQR and finding the optimal gain $K$ using the Riccati equations"
   ]
  },
  {
   "cell_type": "markdown",
   "id": "f6e08199",
   "metadata": {},
   "source": [
    "### Using LQR for nonlinear systems using local linearization\n",
    "1. Given a nonlinear system, $\\dot x = f(x,u)$, how can we apply LQR?\n",
    "2. Let us assume we have a nominal trajectory $(\\boldsymbol{x_0, u_0})$, we can linearize along this trajectory to get a locally valid linear model of the system. Using taylor expansion, we hvae $\\dot x = \\frac{\\partial f(x,u)}{\\partial x}_{(x_0, u_0)} x + \\frac{\\partial f(x,u)}{\\partial u}_{(x_0, u_0)} u$"
   ]
  },
  {
   "cell_type": "markdown",
   "id": "e612605a",
   "metadata": {},
   "source": [
    "### Iterative LQR\n",
    "1. "
   ]
  },
  {
   "cell_type": "code",
   "execution_count": null,
   "id": "2b284d85",
   "metadata": {},
   "outputs": [],
   "source": []
  },
  {
   "cell_type": "code",
   "execution_count": null,
   "id": "103df96d",
   "metadata": {},
   "outputs": [],
   "source": []
  },
  {
   "cell_type": "code",
   "execution_count": null,
   "id": "4eeb8cf4",
   "metadata": {},
   "outputs": [],
   "source": []
  },
  {
   "cell_type": "markdown",
   "id": "8706a727",
   "metadata": {},
   "source": [
    "## References\n",
    "1. http://underactuated.mit.edu/lqr.html\n",
    "2. https://people.eecs.berkeley.edu/~pabbeel/cs287-fa19/"
   ]
  }
 ],
 "metadata": {
  "kernelspec": {
   "display_name": "Python 3 (ipykernel)",
   "language": "python",
   "name": "python3"
  },
  "language_info": {
   "codemirror_mode": {
    "name": "ipython",
    "version": 3
   },
   "file_extension": ".py",
   "mimetype": "text/x-python",
   "name": "python",
   "nbconvert_exporter": "python",
   "pygments_lexer": "ipython3",
   "version": "3.8.10"
  }
 },
 "nbformat": 4,
 "nbformat_minor": 5
}
