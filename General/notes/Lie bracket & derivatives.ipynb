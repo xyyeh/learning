{
 "cells": [
  {
   "cell_type": "markdown",
   "id": "brutal-executive",
   "metadata": {},
   "source": [
    "## Nonlinear system theory\n",
    "1. The discussion below will only focus on a control-affine systems, i.e.\n",
    "$$\\dot x = f(x) + g(x) u$$\n",
    "$$y = h(x)$$"
   ]
  },
  {
   "cell_type": "markdown",
   "id": "handled-platform",
   "metadata": {},
   "source": [
    "### Vector fields\n",
    "1. A *vector field* $f(x)$ on $\\mathbb R^n$ is the mapping which assigns to every point $p \\in M$ a tangent vectro $f(p)$ in the tangent space to $M$.\n",
    "2. A vector mapping $f$ is a *global diffeomorphism* if:\n",
    "- $f$ is invertible for $\\forall x \\in \\mathbb R^n$\n",
    "- $f$ and its inverse $f^{-1}$ are $C^{\\infty}$ functions"
   ]
  },
  {
   "cell_type": "markdown",
   "id": "compound-regular",
   "metadata": {},
   "source": [
    "## The Lie Algebra\n",
    "1. The derivative of a smooth (i.e. $C^\\infty$) function $\\lambda(x)$ *along* a smooth vector field $f$ is defined to be the *Lie Derivative*. The notation we use is $(L_f \\lambda) (p) = (f(p))(\\lambda)$, i.e. Lie Derivative is equal to the value of the tangent vector $f(p)$ at point p\n",
    "2. In local coordinates, one can represent this operator in the following manner:\n",
    "$$L_f \\lambda (x_1,\\dots,x_n) = (\\frac{\\partial \\lambda}{\\partial x_1} \\dots \\frac{\\partial \\lambda}{\\partial x_n}) (f_1 ... f_n)^T$$"
   ]
  },
  {
   "cell_type": "code",
   "execution_count": null,
   "id": "legislative-arkansas",
   "metadata": {},
   "outputs": [],
   "source": []
  }
 ],
 "metadata": {
  "kernelspec": {
   "display_name": "Python 3",
   "language": "python",
   "name": "python3"
  },
  "language_info": {
   "codemirror_mode": {
    "name": "ipython",
    "version": 3
   },
   "file_extension": ".py",
   "mimetype": "text/x-python",
   "name": "python",
   "nbconvert_exporter": "python",
   "pygments_lexer": "ipython3",
   "version": "3.8.5"
  }
 },
 "nbformat": 4,
 "nbformat_minor": 5
}
