{
 "cells": [
  {
   "cell_type": "markdown",
   "id": "664c2658",
   "metadata": {},
   "source": [
    "### Notes\n",
    "1. ODE vs DAE\n",
    "2. Directional derivative (of a multivariate scalar function) along a given vector $\\boldsymbol v$ at a given point $\\boldsymbol x$ intuitively represents the instantaneous rate of change of the function, moving through $\\boldsymbol x$ with a velocity specified by $\\boldsymbol v$, i.e. $\\boldsymbol{v} \\frac {\\partial f(\\boldsymbol{x})}{\\partial \\boldsymbol{x}}$"
   ]
  },
  {
   "cell_type": "code",
   "execution_count": 1,
   "id": "a9a81fc5",
   "metadata": {},
   "outputs": [],
   "source": [
    "# import packages\n",
    "import numpy as np\n",
    "import matplotlib.pyplot as plt\n",
    "from casadi import *"
   ]
  },
  {
   "cell_type": "markdown",
   "id": "90300b1e",
   "metadata": {},
   "source": [
    "#### Toy optimization problem\n",
    "1. Reference: https://web.casadi.org/docs/#sec-opti"
   ]
  },
  {
   "cell_type": "code",
   "execution_count": 2,
   "id": "5d110f60",
   "metadata": {},
   "outputs": [
    {
     "name": "stdout",
     "output_type": "stream",
     "text": [
      "\n",
      "******************************************************************************\n",
      "This program contains Ipopt, a library for large-scale nonlinear optimization.\n",
      " Ipopt is released as open source code under the Eclipse Public License (EPL).\n",
      "         For more information visit https://github.com/coin-or/Ipopt\n",
      "******************************************************************************\n",
      "\n",
      "2.6340001090856147e-05\n",
      "0.9999999998957204\n",
      "[[5.26800022e-05 2.00000000e+00]\n",
      " [1.00000000e+00 1.00000000e+00]]\n"
     ]
    }
   ],
   "source": [
    "# setup optimization problem context\n",
    "opti = Opti()\n",
    "\n",
    "# arguments\n",
    "x = opti.variable()\n",
    "y = opti.variable()\n",
    "\n",
    "# parameters\n",
    "p = opti.parameter()\n",
    "opti.set_value(p, 3)\n",
    "\n",
    "# optimization problem\n",
    "opti.minimize(  ((y-p)-x**2)**2   )\n",
    "opti.subject_to( x**2+y**2==1 )\n",
    "opti.subject_to(       x+y>=1 )\n",
    "\n",
    "# solve\n",
    "solver_options = {'print_time':0, 'ipopt.print_level':0}\n",
    "opti.solver('ipopt', solver_options)\n",
    "sol = opti.solve()\n",
    "\n",
    "# solution\n",
    "print(sol.value(x))\n",
    "print(sol.value(y))\n",
    "print(sol.value(jacobian(opti.g,opti.x)))"
   ]
  }
 ],
 "metadata": {
  "kernelspec": {
   "display_name": "Python 3",
   "language": "python",
   "name": "python3"
  },
  "language_info": {
   "codemirror_mode": {
    "name": "ipython",
    "version": 3
   },
   "file_extension": ".py",
   "mimetype": "text/x-python",
   "name": "python",
   "nbconvert_exporter": "python",
   "pygments_lexer": "ipython3",
   "version": "3.8.8"
  }
 },
 "nbformat": 4,
 "nbformat_minor": 5
}
