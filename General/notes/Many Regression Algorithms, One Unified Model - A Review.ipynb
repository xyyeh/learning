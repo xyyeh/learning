{
 "cells": [
  {
   "cell_type": "markdown",
   "metadata": {},
   "source": [
    "### Many Regression Algorithms, One Unified Model - A Review\n",
    "1. Function approximators are often used to capture learned paths, for example, in DMPs\n",
    "2. Despite their many flavours (LWR, GPR, GMR, etc), they form a special case of the unified model\n",
    "3. This papers contribution is:\n",
    "<br> A wide variety of regression algorithms fall into two main classes: a mixture of linear models or a weighted sum of basis functions\n",
    "<br> THe second class is a special case of the former"
   ]
  }
 ],
 "metadata": {
  "kernelspec": {
   "display_name": "Python 3",
   "language": "python",
   "name": "python3"
  },
  "language_info": {
   "codemirror_mode": {
    "name": "ipython",
    "version": 3
   },
   "file_extension": ".py",
   "mimetype": "text/x-python",
   "name": "python",
   "nbconvert_exporter": "python",
   "pygments_lexer": "ipython3",
   "version": "3.6.9"
  }
 },
 "nbformat": 4,
 "nbformat_minor": 4
}
