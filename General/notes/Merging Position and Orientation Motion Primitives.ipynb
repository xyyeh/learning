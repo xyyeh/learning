{
 "cells": [
  {
   "cell_type": "markdown",
   "metadata": {},
   "source": [
    "### Merging Position and Orientation Motion Primitives\n",
    "1. The paper deals with the merging of sequential motion primitives considering both dmps for position and orientation levels. Three approaches are described and their performance compared.\n",
    "\n",
    "#### DMPS$\\tau \\mathbf{\\dot y} = z$\n",
    "1. Position dmp: $\\tau \\mathbf{\\dot z} = K (\\mathbf{y_d} - \\mathbf{y})$ and $\\tau \\mathbf{\\dot y} = z$"
   ]
  },
  {
   "cell_type": "code",
   "execution_count": null,
   "metadata": {},
   "outputs": [],
   "source": []
  }
 ],
 "metadata": {
  "kernelspec": {
   "display_name": "Python 3",
   "language": "python",
   "name": "python3"
  },
  "language_info": {
   "codemirror_mode": {
    "name": "ipython",
    "version": 3
   },
   "file_extension": ".py",
   "mimetype": "text/x-python",
   "name": "python",
   "nbconvert_exporter": "python",
   "pygments_lexer": "ipython3",
   "version": "3.6.9"
  }
 },
 "nbformat": 4,
 "nbformat_minor": 4
}
