{
 "cells": [
  {
   "cell_type": "code",
   "execution_count": 2,
   "metadata": {},
   "outputs": [
    {
     "name": "stdout",
     "output_type": "stream",
     "text": [
      "You can open the visualizer by visiting the following URL:\n",
      "http://127.0.0.1:7001/static/\n"
     ]
    }
   ],
   "source": [
    "import numpy as np\n",
    "import os\n",
    "import time\n",
    "import meshcat\n",
    "import meshcat.geometry as g\n",
    "import meshcat.transformations as tf\n",
    "\n",
    "# Create and open a new visualizer\n",
    "vis = meshcat.Visualizer()\n",
    "vis.open()\n",
    "\n",
    "# Create a cart pole\n",
    "cart_pole = vis[\"cart_pole\"]\n",
    "cart_pole.delete()\n",
    "\n",
    "cart = cart_pole[\"cart\"]\n",
    "pivot = cart[\"pivot\"]\n",
    "pole = pivot[\"pole\"]\n",
    "\n",
    "cart.set_object(g.Box([0.5, 0.3, 0.2]),g.MeshPhongMaterial(color=0x55ff55))\n",
    "pole.set_object(g.Box([1, 0.05, 0.05]),g.MeshPhongMaterial(color=0xFF0000))\n",
    "pole.set_transform(tf.translation_matrix([0.5, 0, 0]))\n",
    "pivot.set_transform(tf.rotation_matrix(-np.pi/2, [0, 1, 0]))\n",
    "\n",
    "pole.set_property(\"color\", [1, 0, 0, 0.5])\n",
    "\n",
    "# vis[\"/Background\"].set_property(\"top_color\", [1, 0, 0])\n",
    "\n",
    "# Move\n",
    "for x in np.linspace(-np.pi, np.pi, 200):\n",
    "    cart.set_transform(tf.translation_matrix([np.sin(x), 0, 0]))\n",
    "    pivot.set_transform(tf.rotation_matrix(x / 4 - np.pi / 2, [0, 1, 0]))\n",
    "    time.sleep(0.01)\n",
    "    "
   ]
  },
  {
   "cell_type": "code",
   "execution_count": null,
   "metadata": {},
   "outputs": [],
   "source": []
  },
  {
   "cell_type": "code",
   "execution_count": null,
   "metadata": {},
   "outputs": [],
   "source": []
  }
 ],
 "metadata": {
  "kernelspec": {
   "display_name": "Python 3.8.8 64-bit ('rmp': conda)",
   "language": "python",
   "name": "python388jvsc74a57bd08a2ab0c5a9cdf38dc3ea9c38e3ba651bc83d278febdd235afcb1dfcf85bbf45f"
  },
  "language_info": {
   "codemirror_mode": {
    "name": "ipython",
    "version": 3
   },
   "file_extension": ".py",
   "mimetype": "text/x-python",
   "name": "python",
   "nbconvert_exporter": "python",
   "pygments_lexer": "ipython3",
   "version": "3.8.8"
  }
 },
 "nbformat": 4,
 "nbformat_minor": 4
}
