{
 "cells": [
  {
   "cell_type": "markdown",
   "id": "b6d5b687-a362-4bef-a067-2251cfe91c78",
   "metadata": {},
   "source": [
    "# Real-time perception meets reactive motion generation\n",
    "1. This is a systems paper comparing three common approaches for robotic grasping and manipulation. \n",
    "    * Sense plan act\n",
    "    * Reactive planning\n",
    "    * Local reactive control\n",
    "2. The sense plan act paradigm decomposes the operations three stages that is carried out sequentially, i.e. run the perception layer, plan a motion and finally execute the planned motion. For local reactive control, there is no planning other than using the local geometry of the environment to compute the next command. Local reactive control is highly susceptible to local minima. Reactive planning sits between the two paradigms, some examples include the elastic-strip framework, control funneling and DMPs."
   ]
  },
  {
   "cell_type": "markdown",
   "id": "c7814600-e2b8-4322-b3b9-d1ec2a2190ae",
   "metadata": {},
   "source": []
  },
  {
   "cell_type": "markdown",
   "id": "53ab6f4a-4fe7-42da-807b-27f1a68856ab",
   "metadata": {},
   "source": [
    "## Motion planning research directions\n",
    "1. DRM allows you to populate space with solutions using pre-computation, however, it gives awkward motions\n",
    "2. XXL solves the above problem by constraining the search using heuristics, e.g. a proximal link being at a certian region in workspace.\n",
    "3. Workspace decomposition is used in motion planning, especially in high-dof systems to guide search"
   ]
  },
  {
   "cell_type": "markdown",
   "id": "1a07feee-9ff7-4e20-8647-7ed150c1b933",
   "metadata": {},
   "source": [
    "### TODOs\n",
    "1. Understand optimal control and MPC\n",
    "2. Understand trajector optimization"
   ]
  },
  {
   "cell_type": "code",
   "execution_count": null,
   "id": "03c5a1ab-ff09-4c99-a4c3-31f8b9843cae",
   "metadata": {},
   "outputs": [],
   "source": []
  }
 ],
 "metadata": {
  "kernelspec": {
   "display_name": "Python 3",
   "language": "python",
   "name": "python3"
  },
  "language_info": {
   "codemirror_mode": {
    "name": "ipython",
    "version": 3
   },
   "file_extension": ".py",
   "mimetype": "text/x-python",
   "name": "python",
   "nbconvert_exporter": "python",
   "pygments_lexer": "ipython3",
   "version": "3.8.8"
  }
 },
 "nbformat": 4,
 "nbformat_minor": 5
}
