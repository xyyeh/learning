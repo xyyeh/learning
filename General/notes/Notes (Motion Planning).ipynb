{
 "cells": [
  {
   "cell_type": "markdown",
   "id": "b6d5b687-a362-4bef-a067-2251cfe91c78",
   "metadata": {},
   "source": [
    "# Real-time perception meets reactive motion generation\n",
    "1. This is a systems paper comparing three common approaches for robotic grasping and manipulation. \n",
    "    * Sense plan act\n",
    "    * Reactive planning\n",
    "    * Local reactive control\n",
    "2. The sense plan act paradigm decomposes the operations three stages that is carried out sequentially, i.e. run the perception layer, plan a motion and finally execute the planned motion. For local reactive control, there is no planning other than using the local geometry of the environment to compute the next command. Local reactive control is highly susceptible to local minima. Reactive planning sits between the two paradigms, some examples include the elastic-strip framework, control funneling and DMPs."
   ]
  },
  {
   "cell_type": "markdown",
   "id": "c7814600-e2b8-4322-b3b9-d1ec2a2190ae",
   "metadata": {},
   "source": [
    "# Humanoid motion planning for dual-arm manipulation and regrasping tasks\n",
    "1. "
   ]
  },
  {
   "cell_type": "markdown",
   "id": "0d10ffd6-6fa9-4104-80b0-c832c291a12c",
   "metadata": {},
   "source": [
    "# HDRM: A resolution complete dynamic roadmap for real-time motion planning in complex scenes\n",
    "1. This paper argues that optimization based methods are incomplete due to local minima. Sampling based methods are unfortunately also not complete. Most of them are at best probabilistically complete. This paper proposes a hierarchical dynamic roadmap to achieve resolution completeness.\n",
    "2. The general dynamic roadmap algorithm uses precomputation to create graphs $G = (V,E)$. To search for a solution in the graph, algorithms such as A* is used. When a collision is happening along an edge, the algorithm will invalidate that edge. The algorithm uses a continuous collision detection approach, which generally takes longer time than discrete collision detection.\n",
    "3. The authors argues that the conventional approach invalidates the whole edge upon detecting a colllision when the swept volume contains an invalidated voxel. As such, using heuristics, the authors propose to store more samples such that the edge is short enough to the point where the swept volume is equal to the occupancy of the initial and final robot configurations.\n",
    "\n",
    "## Hierarchical configuration structure\n",
    "1. The configuration structure is captured using $q(k(n)) = [q_1 (k_1), ..., q_n (k_n)]$ where the $k_i$ is the indices of the discrete values of the i-th joint from 1 to $K_i$. The author proposed a data structure to store all the vertices, $M = \\prod_i K_i$ where $K_i$ is the largest index in the discretized joint position vector. "
   ]
  },
  {
   "cell_type": "markdown",
   "id": "53ab6f4a-4fe7-42da-807b-27f1a68856ab",
   "metadata": {},
   "source": [
    "## Motion planning research directions\n",
    "1. DRM allows you to populate space with solutions using pre-computation, however, it gives awkward motions\n",
    "2. XXL solves the above problem by constraining the search using heuristics, e.g. a proximal link being at a certian region in workspace.\n",
    "3. Workspace decomposition is used in motion planning, especially in high-dof systems to guide search"
   ]
  },
  {
   "cell_type": "markdown",
   "id": "1a07feee-9ff7-4e20-8647-7ed150c1b933",
   "metadata": {},
   "source": [
    "### TODOs\n",
    "1. Understand optimal control and MPC\n",
    "2. Understand trajectory optimization"
   ]
  },
  {
   "cell_type": "code",
   "execution_count": null,
   "id": "03c5a1ab-ff09-4c99-a4c3-31f8b9843cae",
   "metadata": {},
   "outputs": [],
   "source": []
  }
 ],
 "metadata": {
  "kernelspec": {
   "display_name": "Python 3",
   "language": "python",
   "name": "python3"
  },
  "language_info": {
   "codemirror_mode": {
    "name": "ipython",
    "version": 3
   },
   "file_extension": ".py",
   "mimetype": "text/x-python",
   "name": "python",
   "nbconvert_exporter": "python",
   "pygments_lexer": "ipython3",
   "version": "3.8.8"
  }
 },
 "nbformat": 4,
 "nbformat_minor": 5
}
