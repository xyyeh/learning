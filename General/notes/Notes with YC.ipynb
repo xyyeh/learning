{
 "cells": [
  {
   "cell_type": "markdown",
   "id": "electrical-spoke",
   "metadata": {},
   "source": [
    "## Dual arm motion planning\n",
    "1. Thus far, many algorithms have been focused on configuration space due to its clear representation of common constraints found in robotic systems, for example, joint position, velocity and acceleration limits.\n",
    "2. Cartesian space planning methods remain few and far between. It is the preferred method in many applications since it provides an intuitive representation of trajectories. For example, trajectories for a robotic polishing application are often specified in cartesian space.\n",
    "3. Some useful dual arm literature can be found: https://wanweiwei07.github.io/\n",
    "\n",
    "\n",
    "Object representation\n",
    "1. Object and obstacle representation are crucial to any motion planning algorithms. The two most popular representations include truncated signed distance fields (TSDF) and octrees (Octomap). The latter is used in ROS.\n",
    "2. Compared with octomap, tsdf is fairly recent and is gaining popularity in many use cases. For example, see https://rosindustrial.org/news/2019/8/7/yak-3d-reconstruction-in-ros2. It's benefits over Octomap includes:\n",
    "- Natural gradient computation (often needed in gradient based motion planning such as CHOMP)\n",
    "- \n",
    "\n",
    "\n",
    "\n"
   ]
  },
  {
   "cell_type": "markdown",
   "id": "unavailable-spouse",
   "metadata": {},
   "source": [
    "## Motion planning algorithms\n",
    "1. CHOMP & variants - uses gradient-based optimization that generates **smooth** and **collision-free** paths\n",
    "2. STOMP - uses derivative-free stochastic optimization with guesses based on noisy trajectories\n",
    "3. TrajOpt - uses SQP\n",
    "4. GPMP - Gaussian process motion planning that allows fast replanning"
   ]
  },
  {
   "cell_type": "markdown",
   "id": "still-hartford",
   "metadata": {},
   "source": [
    "## Reactive/local motion planning\n",
    "1. More suitable for cartesian planning\n",
    "2. Some of the newer examples include RMP"
   ]
  },
  {
   "cell_type": "markdown",
   "id": "color-relation",
   "metadata": {},
   "source": [
    "## References\n",
    "1. Signed Distance Fields: A Natural Representation for Both Mapping and Planning\n",
    "2. Octomap: An Efficient Probabilistic 3D Mapping Framework Based on Octrees\n",
    "3. CHOMP: Gradient Optimization Techniques for Efficient Motion Planning"
   ]
  }
 ],
 "metadata": {
  "kernelspec": {
   "display_name": "Python 3",
   "language": "python",
   "name": "python3"
  },
  "language_info": {
   "codemirror_mode": {
    "name": "ipython",
    "version": 3
   },
   "file_extension": ".py",
   "mimetype": "text/x-python",
   "name": "python",
   "nbconvert_exporter": "python",
   "pygments_lexer": "ipython3",
   "version": "3.8.5"
  }
 },
 "nbformat": 4,
 "nbformat_minor": 5
}
