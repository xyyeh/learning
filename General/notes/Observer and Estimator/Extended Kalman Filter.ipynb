{
 "cells": [
  {
   "cell_type": "markdown",
   "id": "8aa178d6",
   "metadata": {},
   "source": [
    "## Extended Kalman Filter\n",
    "1. The EKF is pretty close to the linear KF in that it is linearized at an operating point and the similar equations from linear KF is applied.\n",
    "2. The linearization strategy used is a first-order taylor expansion, i.e. $f(x) \\approx f(a) + \\frac{\\partial f(x)}{\\partial x}|_{x=a} (x-a)$"
   ]
  },
  {
   "cell_type": "markdown",
   "id": "95ec4b3e",
   "metadata": {},
   "source": [
    "### Linearizing a nonlinear system\n",
    "1. To linearize our system model, we do:\n",
    "$$\n",
    "x_k = f_{k-1}(x_{k-1}, u_{k-1}, w_{k-1}) \\approx f_{k-1}(\\hat x_{k-1},u_{k-1},0) + \\frac{\\partial f_{k-1}}{\\partial x_{k-1}}|_{\\hat x_{k-1}, u_{k-1}, 0} (x_{k-1} - \\hat x_{k-1}) + \\frac{\\partial f_{k-1}}{\\partial w_{k-1}}|_{\\hat x_{k-1}, u_{k-1}, 0} w_{k-1}\n",
    "$$\n",
    "where the first and second jacobians are denoted as $F_{k-1}$ and $L_{k-1}$ respectively.\n",
    "2. To linearize the measurement model, we do:\n",
    "$$\n",
    "y_k = h(x_k, v_k) \\approx h_k(\\check x_k, 0) + \\frac{\\partial h_k}{\\partial x_k}|_{\\check x_k, 0} (x_k - \\check x_k) + \\frac{\\partial h_k}{\\partial v_k}|_{\\check x_k, 0} v_k\n",
    "$$\n",
    "where the first and second jacobians are denoted as $H_{k}$ and $M_{k}$ respectively."
   ]
  },
  {
   "cell_type": "markdown",
   "id": "b890c81c",
   "metadata": {},
   "source": [
    "### Prediction and correction steps\n",
    "1. Putting it all together, the perdiction step first updates our system model with the previous estimation $\\hat x_{k-1}$ and the previous control $\\hat u_{k-1}$, i.e. $x_k = f_{k-1} (\\hat x_{k-1}, u_{k-1}, 0) + F_k(x_k - \\hat x_{k-1}) + L_{k-1} w_{k-1}$. The prediction step then computes the prediction at time $k$, $\\check x_k$:\n",
    "\\begin{align}\n",
    "\\check x_{k} &= f_{k-1}(\\check x_{k-1}, u_{k-1}, 0) \\\\\n",
    "\\check P_k &= F_{k-1} \\hat P_{k-1} F_{k-1}^T + L_{k-1} Q_{k-1} L_{k-1}^T\n",
    "\\end{align}\n",
    "2. Using the measurement model $y_k = h_k(\\check x_k, 0) + H_k(x_k - \\check x_k) + M_k v_k$, the optimal kalman gain is $K_k = \\check P_k H_k^T (H_k \\check P_k H_k^T + M_k R_k M_k^T)^{-1}$. The correction values are then given by:\n",
    "\\begin{align}\n",
    "\\hat x_k &= \\check x_k + K_k (y_k - h_k(\\check x_k, 0)) \\\\\n",
    "\\hat P_k &= (I - K_k H_k) \\check P_k\n",
    "\\end{align}"
   ]
  },
  {
   "cell_type": "markdown",
   "id": "f415f5d7",
   "metadata": {},
   "source": [
    "#### References\n",
    "1. https://www.coursera.org/lecture/state-estimation-localization-self-driving-cars/lesson-3-going-nonlinear-the-extended-kalman-filter-qIyk3"
   ]
  }
 ],
 "metadata": {
  "kernelspec": {
   "display_name": "Python 3.8.8 64-bit ('hdrm': conda)",
   "language": "python",
   "name": "python388jvsc74a57bd0a056c220e358cd254f9e086c9fbc1600e1f6c115100e0ffe1e1fae2263f3989e"
  },
  "language_info": {
   "codemirror_mode": {
    "name": "ipython",
    "version": 3
   },
   "file_extension": ".py",
   "mimetype": "text/x-python",
   "name": "python",
   "nbconvert_exporter": "python",
   "pygments_lexer": "ipython3",
   "version": "3.8.8"
  }
 },
 "nbformat": 4,
 "nbformat_minor": 5
}
