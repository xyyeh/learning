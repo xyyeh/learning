{
 "cells": [
  {
   "cell_type": "markdown",
   "metadata": {},
   "source": [
    "### Operational Space Control (Khatib)\n",
    "\n",
    "1. The controller is defined as $\\Gamma = \\sum_{k=1}^N J_{k|prec(k)}^T F_{k|prec(k)}$\n",
    "2. The prioritized jacobian for task $k$ is given by $J_{k|prec(k)} := J_k N_{prec(k)}$\n",
    "3. $N_{prec(k)} = I - \\sum_{i=1}^{k-1} \\bar J_{i|prec(i)} J_{i|prec(i)}$\n",
    "4. $N_{prec(k)} = N_{k-1|prec(k-1)} N_{k-2|prec(k-2)} ... I$. See *sentis A.24*. This is equivalent to $N_{prec(k)} = N_{k-1|prec(k-1)} N_{prec(k-1)}$"
   ]
  },
  {
   "cell_type": "markdown",
   "metadata": {},
   "source": [
    "Algorithm\n",
    "1. Initialize $N_{prec(1)} = I$, $priority = 1$\n",
    "2. $N_{1|prec(1)} \\leftarrow (I-\\bar J_1 J_1)$\n",
    "3. For $t_i \\in T$\n",
    "<br> a) If $priority(t_i) > priority$,\n",
    "<br> $$N_{prec(i)} = N_{i-1|prec(i-1)} N_{prec(i-1)}$$\n",
    "<br> $$priority = priority(t_i)$$ \n",
    "<br> b) Set $N_{prec(i)}$ in current task\n",
    "<br> c) Calculate $J_{i|prec(i)} := J_i N_{prec(i)}$\n",
    "<br> d) Calculate $N_{i|prec(i)} := (I-\\bar J_{i|prec(i)} J_{i|prec(i)})$"
   ]
  },
  {
   "cell_type": "markdown",
   "metadata": {},
   "source": [
    "### Hierarchical Quadratic Programming (Mansard)\n",
    "\n",
    "1. The heart of operational space control is the implicit constrained minimization of the kinetic energy that is embedded within the dynamically consistent jacobian inverse $\\bar J$. We can appreciate this more clearly with the use of lagrange multipliers applied to the following problem: $$\\min_{\\dot q} \\frac{1}{2} \\dot q^T M \\dot q$$ $$st. \\dot x = J \\dot q$$\n",
    "2. The lagrangian is given by $L = \\dot q^T M \\dot q - \\lambda^T (\\dot x - J \\dot q)$ giving the partial derivatives $\\frac{\\partial L}{\\partial \\dot q} = M \\dot q - J^T \\lambda = 0$ and the trivial constraint equation $\\frac{\\partial L}{\\partial \\dot \\lambda} = \\dot x - J \\dot q = 0$. Premultiplying the first equation by $J$ and substituting the second, we have $J \\dot q = (J M^-1 J^T) \\lambda = \\Lambda^{-1} \\lambda \\rightarrow \\lambda = \\Lambda \\dot x$. Putting this result back to the first equation, we have $\\dot q = M^{-1} J^T \\Lambda \\dot x = \\bar J \\dot x$."
   ]
  },
  {
   "cell_type": "code",
   "execution_count": null,
   "metadata": {},
   "outputs": [],
   "source": []
  }
 ],
 "metadata": {
  "kernelspec": {
   "display_name": "Python 3",
   "language": "python",
   "name": "python3"
  },
  "language_info": {
   "codemirror_mode": {
    "name": "ipython",
    "version": 3
   },
   "file_extension": ".py",
   "mimetype": "text/x-python",
   "name": "python",
   "nbconvert_exporter": "python",
   "pygments_lexer": "ipython3",
   "version": "3.8.2"
  }
 },
 "nbformat": 4,
 "nbformat_minor": 4
}
