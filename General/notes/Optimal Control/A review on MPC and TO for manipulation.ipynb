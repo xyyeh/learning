{
 "cells": [
  {
   "cell_type": "markdown",
   "id": "8d3d1e1c",
   "metadata": {},
   "source": [
    "### Model predictive interaction control for industrial robots\n",
    "1. The mpc-based controller fuses prediction of the robot motion and the forces between robot and environment. External forces or torques are treated as additional state variables.\n",
    "2. A linear kalman filter is used for the stiffness estimation using a simple hooke's model of the environment. The dynamics used in the in the optimization is based on two flavors, i.e. a full dynamic model for motion control $x = \\begin{bmatrix} q \\\\ \\dot q\\end{bmatrix}$ and a decoupled dynamics with the state vector $x = \\begin{bmatrix} q \\\\ \\tau_{ext} \\end{bmatrix}$ (and $x = \\begin{bmatrix} q \\\\ F_{ext} \\end{bmatrix}$). Both controllers uses the **velocity** controller on their 6DOF robot"
   ]
  },
  {
   "cell_type": "markdown",
   "id": "f1f4642b",
   "metadata": {},
   "source": [
    "### High frequency model predictive control\n"
   ]
  }
 ],
 "metadata": {
  "kernelspec": {
   "display_name": "Python 3 (ipykernel)",
   "language": "python",
   "name": "python3"
  },
  "language_info": {
   "codemirror_mode": {
    "name": "ipython",
    "version": 3
   },
   "file_extension": ".py",
   "mimetype": "text/x-python",
   "name": "python",
   "nbconvert_exporter": "python",
   "pygments_lexer": "ipython3",
   "version": "3.8.13"
  }
 },
 "nbformat": 4,
 "nbformat_minor": 5
}
