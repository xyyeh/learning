{
 "cells": [
  {
   "cell_type": "markdown",
   "id": "a2fba092",
   "metadata": {},
   "source": [
    "### Constraint Handling in Continuous-Time DDP-Based Model Predictive Control\n",
    "1. The paper focuses on formulating constraints for SLQ methods using augmented lagrangian methods.\n",
    "2. Direct methods transforms an infinite-dimensional optimization problem in to a finite-dimensional one that could be solved with standard NLP. These methods naturally incorporate any form of *path constraints*.\n",
    "3. Indirect methods rely on fundamental principles that provide N/S conditions of optimality to solve the original control problem. One particular method is DDP. This technique relies on *Bellman's principle of optimality*\n",
    "4. To avoid \"curse of dimensionality\", DDP uses local quadratic approximation of the *stage cost*, *dynamics* and *cost-to-go* around nominal-state input trajectories to compute an affine control sequence from a backward Ricatti equation. Variants of the DDP method like ILQR and SLQ are similar except that they use first order approximations of the dynamics instead. This **reduces** computation time but result in **slower "
   ]
  },
  {
   "cell_type": "markdown",
   "id": "297ce5b7",
   "metadata": {},
   "source": []
  }
 ],
 "metadata": {
  "interpreter": {
   "hash": "278b906b1b8a8ea52a1e33dc8465c573c16e8dc123598b1bea4e577253fd0648"
  },
  "kernelspec": {
   "display_name": "Python 3.8.8 64-bit ('base': conda)",
   "language": "python",
   "name": "python3"
  },
  "language_info": {
   "name": "python",
   "version": "3.8.8"
  }
 },
 "nbformat": 4,
 "nbformat_minor": 5
}
