{
 "cells": [
  {
   "cell_type": "markdown",
   "id": "528939bc",
   "metadata": {},
   "source": [
    "1. There are several approaches to optimal control, namely \n",
    "   - Dynamic programming that suffers from Bellman's \"curse of dimensionality\"\n",
    "   - Indirect methods that use the necessary conditions of optimality of infinite problem to derive a BVP. Often described as \"first optimize, then discretize\"\n",
    "   - Direct methods transform the original infinite optimal control problem into a finite dimensional NLP. Often described as \"first discretize, then optimize\"\n",
    "2. Direct methods are further categorized into sequential and simultaneous methods\n",
    "   - Sequential methods regards state trajectory as an implicit function $u(t)$ and $x_0$. Simulation and optimization iterations proceed sequentially, one after another and the NLP has only the discretized control as optimization DOFs. One popular methods is **direct single shooting**\n",
    "   - Simultaneous methods keep a parameterization of the state trajectory as optimization variables within the NLP. Thus, simulation and optimization proceed simultaneously, and only at the solution do the states actually represent a valid ODE solution corresponding to the control trajectory. Two most popular variants are **direct collocation** and **direct multiple shooting**"
   ]
  }
 ],
 "metadata": {
  "kernelspec": {
   "display_name": "Python 3.8.8 64-bit ('hdrm': conda)",
   "language": "python",
   "name": "python388jvsc74a57bd0a056c220e358cd254f9e086c9fbc1600e1f6c115100e0ffe1e1fae2263f3989e"
  },
  "language_info": {
   "codemirror_mode": {
    "name": "ipython",
    "version": 3
   },
   "file_extension": ".py",
   "mimetype": "text/x-python",
   "name": "python",
   "nbconvert_exporter": "python",
   "pygments_lexer": "ipython3",
   "version": "3.8.8"
  }
 },
 "nbformat": 4,
 "nbformat_minor": 5
}
