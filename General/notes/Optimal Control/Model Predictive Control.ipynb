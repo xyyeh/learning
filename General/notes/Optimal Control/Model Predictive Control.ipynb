{
 "cells": [
  {
   "cell_type": "markdown",
   "metadata": {},
   "source": [
    "### Model Predictive Control (Maciejowski)\n",
    "1. Motivation behind MPC includes:\n",
    "<br> - Handles multivariable control problems naturally\n",
    "<br> - Account for constraints such as actuator limitations\n",
    "<br> - Allows operation closer to constraints\n",
    "<br> - Control updates are relatively slow in these applications, enabling online computations\n",
    "2. MPC is very different from linear optimal control. First, MPC is nonlinear in that the behavior in either direction of control may not be the same due to its constraint-aware capability. This is not possible with linear methods."
   ]
  },
  {
   "cell_type": "markdown",
   "metadata": {},
   "source": [
    "#### Receeding Horizon Idea\n",
    "1. At a particular time, the output is given by $y(k)$ which was controlled to track a given *set point trajectory* $s(t)$. Distinct from the set point trajectory is the *reference trajectory* that starts at the current output y(k) and defines an ideal trajectory along which the plant should return to the set point (for instance, after a disturbance occurs)\n",
    "2. Interestingly, the plant need not be driven back to the set point trajectory as fast as possible, although the choice remains open. Suppose that we want our deviation to diminish at a $T_{ref}$ time constant, our reference trajectory from sample $k$ is given by $r(k+i | k) = s(k+i) - e^{-i \\frac{T_s}{T_{ref}}} (s(k)-y(k))$"
   ]
  },
  {
   "cell_type": "code",
   "execution_count": null,
   "metadata": {},
   "outputs": [],
   "source": []
  }
 ],
 "metadata": {
  "kernelspec": {
   "display_name": "Python 3",
   "language": "python",
   "name": "python3"
  },
  "language_info": {
   "codemirror_mode": {
    "name": "ipython",
    "version": 3
   },
   "file_extension": ".py",
   "mimetype": "text/x-python",
   "name": "python",
   "nbconvert_exporter": "python",
   "pygments_lexer": "ipython3",
   "version": "3.8.2"
  }
 },
 "nbformat": 4,
 "nbformat_minor": 4
}
