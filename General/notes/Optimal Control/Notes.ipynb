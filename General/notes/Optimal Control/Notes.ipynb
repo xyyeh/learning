{
 "cells": [
  {
   "cell_type": "markdown",
   "id": "9a0086a4",
   "metadata": {},
   "source": [
    "### Problems with MPC"
   ]
  },
  {
   "cell_type": "markdown",
   "id": "cd9f180c",
   "metadata": {},
   "source": [
    "1. MPC and TO slows down when we deal with collisions. How to reduce mpc constraints for collision objects, how to speed it up?\n",
    "2. MPC is very bad at dealing disturbances. How can we effectively reject disturbance? Doing it at high rate on the actuator control layer?"
   ]
  }
 ],
 "metadata": {
  "kernelspec": {
   "display_name": "Python 3 (ipykernel)",
   "language": "python",
   "name": "python3"
  },
  "language_info": {
   "codemirror_mode": {
    "name": "ipython",
    "version": 3
   },
   "file_extension": ".py",
   "mimetype": "text/x-python",
   "name": "python",
   "nbconvert_exporter": "python",
   "pygments_lexer": "ipython3",
   "version": "3.8.13"
  }
 },
 "nbformat": 4,
 "nbformat_minor": 5
}
