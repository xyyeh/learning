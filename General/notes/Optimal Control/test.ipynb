{
 "cells": [
  {
   "cell_type": "code",
   "execution_count": 21,
   "metadata": {},
   "outputs": [
    {
     "data": {
      "text/plain": [
       "function"
      ]
     },
     "execution_count": 21,
     "metadata": {},
     "output_type": "execute_result"
    }
   ],
   "source": [
    "import numpy as np\n",
    "import sympy as sp\n",
    "from sympy import Matrix, Function, hessian\n",
    "\n",
    "def symbolic_dynamics_pendulum():\n",
    "    \"\"\"Symbolic dynamics for pendulum\n",
    "    \"\"\"\n",
    "    m, g, L, theta, theta_dot, u, dt = sp.symbols('m g L theta theta_dot u dt')\n",
    "\n",
    "    # inputs and states\n",
    "    inputs = Matrix([u])\n",
    "    states = Matrix([theta, theta_dot])\n",
    "\n",
    "    # dynamics for a pendulum of mass m and center of mass L\n",
    "    # ----------------\n",
    "    #        |\\\n",
    "    #        | \\\n",
    "    # \\theta |->\\\n",
    "    #        |  []\n",
    "    f = Matrix([theta_dot, (u-m*g*L*sp.sin(theta))/(m*L*L)])\n",
    "\n",
    "    # discretize the system using euler integration\n",
    "    f_disc = states + f*dt\n",
    "\n",
    "    # first derivatives wrt to (x, u)\n",
    "    f_x = f_disc.jacobian(states) # df/dx\n",
    "    f_u = f_disc.jacobian(inputs) # df/du\n",
    "\n",
    "    a = hessian(f_disc, (states, inputs))\n",
    "\n",
    "    # print(a[0,0])\n",
    "\n",
    "    # second derivatives wrt to (x, u)\n",
    "    # f_xx = f_x.(states) # d2f/dx2\n",
    "    # f_uu = f_u.jacobian(states) # d2f/du2\n",
    "\n",
    "    # define parameters\n",
    "    parameters = Matrix([m,g,L])\n",
    "\n",
    "    # create lambdas\n",
    "    f_func = sp.lambdify((states, inputs, dt, parameters), f_disc)\n",
    "    f_x_func = sp.lambdify((states, inputs, dt, parameters), f_x)\n",
    "    f_u_func = sp.lambdify((states, inputs, dt, parameters), f_u)\n",
    "    # f_xx_func = sp.lambdify((states, inputs, dt, parameters), f_xx)\n",
    "    # f_uu_func = sp.lambdify((states, inputs, dt, parameters), f_uu)\n",
    "\n",
    "    # return (f_func, f_x_func, f_u_func, f_xx_func, f_uu_func)\n",
    "    return (f_func, f_x_func, f_u_func)\n",
    "\n",
    "\n",
    "(f, f_x, f_u) = symbolic_dynamics_pendulum()\n",
    "\n",
    "# type(f)\n",
    "type(f_x)\n",
    "# type(f_u)"
   ]
  },
  {
   "cell_type": "code",
   "execution_count": 3,
   "metadata": {},
   "outputs": [],
   "source": [
    "import jax.numpy as jnp\n",
    "from jax import grad, jit, vmap\n",
    "from jax import random\n",
    "\n",
    "# key = random.PRNGKey(0)"
   ]
  }
 ],
 "metadata": {
  "interpreter": {
   "hash": "a056c220e358cd254f9e086c9fbc1600e1f6c115100e0ffe1e1fae2263f3989e"
  },
  "kernelspec": {
   "display_name": "Python 3.8.8 64-bit ('hdrm': conda)",
   "language": "python",
   "name": "python3"
  },
  "language_info": {
   "codemirror_mode": {
    "name": "ipython",
    "version": 3
   },
   "file_extension": ".py",
   "mimetype": "text/x-python",
   "name": "python",
   "nbconvert_exporter": "python",
   "pygments_lexer": "ipython3",
   "version": "3.8.8"
  },
  "orig_nbformat": 4
 },
 "nbformat": 4,
 "nbformat_minor": 2
}
