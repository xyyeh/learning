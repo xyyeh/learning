{
 "cells": [
  {
   "cell_type": "markdown",
   "id": "b71e9d51",
   "metadata": {},
   "source": [
    "#### Convex optimziation"
   ]
  },
  {
   "cell_type": "markdown",
   "id": "54de8dee",
   "metadata": {},
   "source": []
  },
  {
   "cell_type": "markdown",
   "id": "be3771be",
   "metadata": {},
   "source": [
    "#### Interior point method\n",
    "1. IPMs are a certain class of algorithms that solve linear and nonlinear **convex optimization** problems efficently. While it did not unseat Simplex in terms of computation speed, the fastest linear programming libraries today are typically based on IPMs\n",
    "2. "
   ]
  }
 ],
 "metadata": {
  "kernelspec": {
   "display_name": "Python 3 (ipykernel)",
   "language": "python",
   "name": "python3"
  },
  "language_info": {
   "codemirror_mode": {
    "name": "ipython",
    "version": 3
   },
   "file_extension": ".py",
   "mimetype": "text/x-python",
   "name": "python",
   "nbconvert_exporter": "python",
   "pygments_lexer": "ipython3",
   "version": "3.10.9"
  }
 },
 "nbformat": 4,
 "nbformat_minor": 5
}
