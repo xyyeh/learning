{
 "cells": [
  {
   "cell_type": "code",
   "execution_count": 14,
   "id": "a51b39c1-c806-49a6-b1f8-2cc9f52fd867",
   "metadata": {},
   "outputs": [
    {
     "name": "stdout",
     "output_type": "stream",
     "text": [
      "Load a ply point cloud, print it, and render it\n",
      "PointCloud with 196133 points.\n",
      "[[0.65234375 0.84686458 2.37890625]\n",
      " [0.65234375 0.83984375 2.38430572]\n",
      " [0.66737998 0.83984375 2.37890625]\n",
      " ...\n",
      " [2.00839925 2.39453125 1.88671875]\n",
      " [2.00390625 2.39488506 1.88671875]\n",
      " [2.00390625 2.39453125 1.88793314]]\n",
      "[[0.         0.         0.        ]\n",
      " [0.         0.         0.        ]\n",
      " [0.         0.         0.        ]\n",
      " ...\n",
      " [0.92941176 0.89019608 0.87058824]\n",
      " [0.87843137 0.81960784 0.79215686]\n",
      " [0.87843137 0.81960784 0.79215686]]\n"
     ]
    }
   ],
   "source": [
    "### Visualization\n",
    "import os\n",
    "import open3d as o3d\n",
    "import numpy as np\n",
    "from open3d import JVisualizer\n",
    "import ipywidgets as widgets\n",
    "\n",
    "camera_location = np.array([0.0, 0.0, 0.0])\n",
    "coord = o3d.geometry.TriangleMesh.create_coordinate_frame(size=0.5, origin=camera_location)\n",
    "\n",
    "print(\"Load a ply point cloud, print it, and render it\")\n",
    "pcd = o3d.io.read_point_cloud(\"../../../Open3D/examples/test_data/fragment.ply\")\n",
    "\n",
    "if (np.asarray(pcd.points).size == 0):\n",
    "    print(\"Point cloud file needs to be pointed to Open3d's repository\")\n",
    "else:\n",
    "    print(pcd)\n",
    "    print(np.asarray(pcd.points))\n",
    "    print(np.asarray(pcd.colors))\n",
    "\n",
    "# visualization\n",
    "o3d.visualization.draw_geometries([coord, pcd],\n",
    "                                  zoom=0.3412,\n",
    "                                  front=[0.4257, -0.2125, -0.8795],\n",
    "                                  lookat=[2.6172, 2.0475, 1.532],\n",
    "                                  up=[-0.0694, -0.9768, 0.2024],\n",
    "                                  mesh_show_back_face=True,mesh_show_wireframe=True)"
   ]
  },
  {
   "cell_type": "code",
   "execution_count": 4,
   "id": "46f68fc2-1858-4203-99ce-ffe8df2d3ed2",
   "metadata": {},
   "outputs": [],
   "source": [
    "### Downsampling via voxel buckets\n",
    "downpcd = pcd.voxel_down_sample(voxel_size=0.05)\n",
    "o3d.visualization.draw_geometries([coord, downpcd],\n",
    "                                  zoom=0.3412,\n",
    "                                  front=[0.4257, -0.2125, -0.8795],\n",
    "                                  lookat=[2.6172, 2.0475, 1.532],\n",
    "                                  up=[-0.0694, -0.9768, 0.2024])"
   ]
  },
  {
   "cell_type": "code",
   "execution_count": 5,
   "id": "308a5b7a-7b38-4a9e-83e2-00f2b7cfc8cd",
   "metadata": {},
   "outputs": [],
   "source": [
    "### Estimated normals (based on convariance analysis \"PCA\")\n",
    "### pressing [N] displays the point cloud normals\n",
    "### we will orient the normals to the camera location\n",
    "downpcd.orient_normals_towards_camera_location(camera_location)\n",
    "o3d.visualization.draw_geometries([coord, downpcd],\n",
    "                                  zoom=0.3412,\n",
    "                                  front=[0.4257, -0.2125, -0.8795],\n",
    "                                  lookat=[2.6172, 2.0475, 1.532],\n",
    "                                  up=[-0.0694, -0.9768, 0.2024])"
   ]
  },
  {
   "cell_type": "code",
   "execution_count": 6,
   "id": "f34e9516-263a-4703-8610-33fa699f4ee4",
   "metadata": {},
   "outputs": [
    {
     "name": "stdout",
     "output_type": "stream",
     "text": [
      "Load a polygon volume and use it to crop the original point cloud\n"
     ]
    }
   ],
   "source": [
    "### Point cloud selection via polygon volume (can be captured from CAD)\n",
    "print(\"Load a polygon volume and use it to crop the original point cloud\")\n",
    "vol = o3d.visualization.read_selection_polygon_volume(\"../../../Open3D/examples/test_data/Crop/cropped.json\")\n",
    "\n",
    "pcd_bound = o3d.geometry.PointCloud()\n",
    "pcd_bound.points = o3d.utility.Vector3dVector(vol.bounding_polygon)\n",
    "\n",
    "o3d.visualization.draw_geometries([coord, downpcd, pcd_bound],\n",
    "                                  zoom=0.3412,\n",
    "                                  front=[0.4257, -0.2125, -0.8795],\n",
    "                                  lookat=[2.6172, 2.0475, 1.532],\n",
    "                                  up=[-0.0694, -0.9768, 0.2024])"
   ]
  },
  {
   "cell_type": "code",
   "execution_count": 7,
   "id": "8c62e835-da3d-45fb-82c4-2f51e0669e37",
   "metadata": {},
   "outputs": [],
   "source": [
    "### Cropping point clouds\n",
    "chair = vol.crop_point_cloud(pcd)\n",
    "chair.paint_uniform_color([1, 1, 0])\n",
    "o3d.visualization.draw_geometries([chair],\n",
    "                                  zoom=0.7,\n",
    "                                  front=[0.5439, -0.2333, -0.8060],\n",
    "                                  lookat=[2.4615, 2.1331, 1.338],\n",
    "                                  up=[-0.1781, -0.9708, 0.1608])"
   ]
  },
  {
   "cell_type": "code",
   "execution_count": null,
   "id": "6a667b5c-7d6d-4a17-b5d1-3d67065076c4",
   "metadata": {},
   "outputs": [],
   "source": []
  }
 ],
 "metadata": {
  "kernelspec": {
   "display_name": "Python 3",
   "language": "python",
   "name": "python3"
  },
  "language_info": {
   "codemirror_mode": {
    "name": "ipython",
    "version": 3
   },
   "file_extension": ".py",
   "mimetype": "text/x-python",
   "name": "python",
   "nbconvert_exporter": "python",
   "pygments_lexer": "ipython3",
   "version": "3.8.8"
  }
 },
 "nbformat": 4,
 "nbformat_minor": 5
}
