{
 "cells": [
  {
   "cell_type": "markdown",
   "id": "quiet-visitor",
   "metadata": {},
   "source": [
    "Programming notes\n",
    "1. Copy constructor - it is used to (1) initialize an object from another of the same type. (2) copy an object to pass it as an argument to a function. (3) copy an object to return it from a function\n",
    "2. "
   ]
  }
 ],
 "metadata": {
  "kernelspec": {
   "display_name": "Python 3",
   "language": "python",
   "name": "python3"
  },
  "language_info": {
   "codemirror_mode": {
    "name": "ipython",
    "version": 3
   },
   "file_extension": ".py",
   "mimetype": "text/x-python",
   "name": "python",
   "nbconvert_exporter": "python",
   "pygments_lexer": "ipython3",
   "version": "3.8.5"
  }
 },
 "nbformat": 4,
 "nbformat_minor": 5
}
