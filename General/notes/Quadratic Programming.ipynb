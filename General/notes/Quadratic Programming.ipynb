{
 "cells": [
  {
   "cell_type": "markdown",
   "metadata": {},
   "source": [
    "### Convex Quadratic Programming\n",
    "1. A generic convex quadratic program can be expressed as the following:\n",
    "$$\\min_{x} \\frac{1}{2} \\dot x^T P \\dot x + q^T x$$\n",
    "$$st. G x \\leq h$$\n",
    "$$A x = b$$\n",
    "$$lb \\leq x \\leq ub$$\n",
    "Clearly, $P \\in \\mathbb{S}_{++}$"
   ]
  },
  {
   "cell_type": "code",
   "execution_count": 2,
   "metadata": {},
   "outputs": [
    {
     "name": "stdout",
     "output_type": "stream",
     "text": [
      "QP solution: [ 0.30769231 -0.69230769  1.38461538]\n"
     ]
    }
   ],
   "source": [
    "from numpy import array, dot\n",
    "from qpsolvers import solve_qp\n",
    "\n",
    "M = array([[1., 2., 0.], [-8., 3., 2.], [0., 1., 1.]])\n",
    "P = dot(M.T, M)  # quick way to build a symmetric matrix\n",
    "q = dot(array([3., 2., 3.]), M).reshape((3,))\n",
    "G = array([[1., 2., 1.], [2., 0., 1.], [-1., 2., -1.]])\n",
    "h = array([3., 2., -2.]).reshape((3,))\n",
    "A = array([1., 1., 1.])\n",
    "b = array([1.])\n",
    "\n",
    "print(\"QP solution:\", solve_qp(P, q, G, h, A, b))"
   ]
  },
  {
   "cell_type": "code",
   "execution_count": null,
   "metadata": {},
   "outputs": [],
   "source": []
  }
 ],
 "metadata": {
  "kernelspec": {
   "display_name": "Python 3",
   "language": "python",
   "name": "python3"
  },
  "language_info": {
   "codemirror_mode": {
    "name": "ipython",
    "version": 3
   },
   "file_extension": ".py",
   "mimetype": "text/x-python",
   "name": "python",
   "nbconvert_exporter": "python",
   "pygments_lexer": "ipython3",
   "version": "3.8.2"
  }
 },
 "nbformat": 4,
 "nbformat_minor": 4
}
