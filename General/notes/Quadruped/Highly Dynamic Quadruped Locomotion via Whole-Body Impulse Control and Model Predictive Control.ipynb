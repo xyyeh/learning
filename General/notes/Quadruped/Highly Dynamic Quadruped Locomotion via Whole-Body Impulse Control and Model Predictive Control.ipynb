{
 "cells": [
  {
   "cell_type": "markdown",
   "id": "0098e263",
   "metadata": {},
   "source": [
    "### Introduction\n",
    "1. The paper introduces a new MPC-WBC formulation. Top level trajectory generator is an MPC that runs a convex optimization on the motion of a rigid body motion subjected to leg reaction forces. The lower level controller is a WBC controller that delivers the reaction forces specified by the MPC controller\n",
    "2. Intuitive simplifications of the robot dynamics were done to ensure convexity of the MPC formulation\n",
    "\n",
    "### Rigid body motion\n",
    "1. The top level trajectory generator finds optimal reaction force profiles along one full gait cycle of locomotion using the following lumped mass model:\n",
    "\\begin{align*}\n",
    "  m \\mathbf{\\ddot p} &= \\sum_{i=1}^{n_c} \\mathbf{f_i} + \\mathbf{g} \\\\\n",
    "  \\frac{d}{dt} (\\mathbf{I \\omega}) &= \\sum_{i=1}^{n_c} \\mathbf{r_i} \\times \\mathbf{f_i}\n",
    "\\end{align*}\n",
    "2. Using row-pitch-yaw ($\\mathbf{\\Theta}$) as the rotational state of the lumped mass model, the state vector is defined as $[\\mathbf{\\Theta}^T \\mathbf{p}^T \\mathbf{\\omega}^T \\mathbf{\\dot p}^T]^T$ and the control input is given as $[\\mathbf{f_1}^T \\dots \\mathbf{f_n}^T]^T$. The continuous time state space model can be converted to a discrete time model using $$"
   ]
  },
  {
   "cell_type": "code",
   "execution_count": null,
   "id": "07fafcda",
   "metadata": {},
   "outputs": [],
   "source": []
  }
 ],
 "metadata": {
  "kernelspec": {
   "display_name": "Python 3.8.8 64-bit ('hdrm': conda)",
   "language": "python",
   "name": "python388jvsc74a57bd0a056c220e358cd254f9e086c9fbc1600e1f6c115100e0ffe1e1fae2263f3989e"
  },
  "language_info": {
   "codemirror_mode": {
    "name": "ipython",
    "version": 3
   },
   "file_extension": ".py",
   "mimetype": "text/x-python",
   "name": "python",
   "nbconvert_exporter": "python",
   "pygments_lexer": "ipython3",
   "version": "3.8.8"
  }
 },
 "nbformat": 4,
 "nbformat_minor": 5
}
