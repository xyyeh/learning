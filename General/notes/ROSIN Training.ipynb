{
 "cells": [
  {
   "cell_type": "markdown",
   "metadata": {},
   "source": [
    "### ROS industrial training day 1\n",
    "1. Covering sessions 1 and 2\n",
    "2. source /opt/ros/eloquent/setup.bash & source install/setup.bash in all terminal\n",
    "3. \"ros2 interface list\" to list all the message types. \"ros2 interface package <package_name>\" to show only the messages in the package. \"ros2 interface show <message>\" shows the details of the message\n",
    "4. https://ubuntu.com/blog/ros-2-command-line-interface"
   ]
  },
  {
   "cell_type": "markdown",
   "metadata": {},
   "source": [
    "### Services\n",
    "1. Services follow the following structure for their messages:\n",
    "#request\n",
    "---\n",
    "#response\n",
    "2. An explicit member of the response that indicates success or failure is usually good practice with services, often along with a string member that can provide error information when a failure does happens"
   ]
  },
  {
   "cell_type": "markdown",
   "metadata": {},
   "source": [
    "### Gazebo\n",
    "1. We can split this out and use a node to connect it with pybullet for example"
   ]
  }
 ],
 "metadata": {
  "kernelspec": {
   "display_name": "Python 3",
   "language": "python",
   "name": "python3"
  },
  "language_info": {
   "codemirror_mode": {
    "name": "ipython",
    "version": 3
   },
   "file_extension": ".py",
   "mimetype": "text/x-python",
   "name": "python",
   "nbconvert_exporter": "python",
   "pygments_lexer": "ipython3",
   "version": "3.6.9"
  }
 },
 "nbformat": 4,
 "nbformat_minor": 4
}
