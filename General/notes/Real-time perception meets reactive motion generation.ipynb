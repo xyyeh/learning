{
 "cells": [
  {
   "cell_type": "markdown",
   "id": "70641a3f-f8fe-46d3-87e2-7a21041a3ac7",
   "metadata": {},
   "source": [
    "## Background\n",
    "1. This is a systems paper comparing three common approaches for robotic grasping and manipulation. \n",
    "    * Sense plan act\n",
    "    * Reactive planning\n",
    "    * Local reactive control\n",
    "2. The sense plan act paradigm decomposes the operations three stages that is carried out sequentially, i.e. run the perception layer, plan a motion and finally execute the planned motion. For local reactive control, there is no planning other than using the local geometry of the environment to compute the next command. Local reactive control is highly susceptible to local minima. Reactive planning sits between the two paradigms, some examples include the elastic-strip framework, control funneling and DMPs."
   ]
  },
  {
   "cell_type": "code",
   "execution_count": null,
   "id": "925eb419-3fb5-4dd2-8834-44f4e0a59ac3",
   "metadata": {},
   "outputs": [],
   "source": []
  }
 ],
 "metadata": {
  "kernelspec": {
   "display_name": "Python 3",
   "language": "python",
   "name": "python3"
  },
  "language_info": {
   "codemirror_mode": {
    "name": "ipython",
    "version": 3
   },
   "file_extension": ".py",
   "mimetype": "text/x-python",
   "name": "python",
   "nbconvert_exporter": "python",
   "pygments_lexer": "ipython3",
   "version": "3.8.8"
  }
 },
 "nbformat": 4,
 "nbformat_minor": 5
}
