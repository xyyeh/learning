{
 "cells": [
  {
   "cell_type": "markdown",
   "id": "70641a3f-f8fe-46d3-87e2-7a21041a3ac7",
   "metadata": {},
   "source": [
    "## Background\n",
    "1. This is a systems paper comparing three common approaches for robotic grasping and manipulation. \n",
    "    * Sense plan act\n",
    "    * Reactive planning\n",
    "    * Local reactive control\n",
    "2. The sense plan act paradigm decomposes the operations three stages that is carried out sequentially, i.e. run the perception layer, plan a motion and finally execute the planned motion. For local reactive control, there is no planning other than using the local geometry of the environment to compute the next command. Local reactive control is highly susceptible to local minima. Reactive planning sits between the two paradigms, some examples include the elastic-strip framework, control funneling and DMPs."
   ]
  },
  {
   "cell_type": "markdown",
   "id": "477eadcd-2a3a-4d59-9b84-4269746d8aec",
   "metadata": {},
   "source": [
    "#"
   ]
  }
 ],
 "metadata": {
  "kernelspec": {
   "display_name": "Python 3",
   "language": "python",
   "name": "python3"
  },
  "language_info": {
   "codemirror_mode": {
    "name": "ipython",
    "version": 3
   },
   "file_extension": ".py",
   "mimetype": "text/x-python",
   "name": "python",
   "nbconvert_exporter": "python",
   "pygments_lexer": "ipython3",
   "version": "3.8.8"
  }
 },
 "nbformat": 4,
 "nbformat_minor": 5
}
