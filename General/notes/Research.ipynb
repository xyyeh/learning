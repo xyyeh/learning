{
 "cells": [
  {
   "cell_type": "markdown",
   "id": "precious-violence",
   "metadata": {},
   "source": [
    "# Research\n",
    "1. How to implement priority matrix with clf-cbf-qp\n",
    "2. Riemannian manifold stretching vs qp based methods\n",
    "3. TP-GMM\n",
    "4. On manifold optimization"
   ]
  },
  {
   "cell_type": "markdown",
   "id": "communist-surgery",
   "metadata": {},
   "source": [
    "## Quadratic programming\n",
    "1. Suppose we are "
   ]
  }
 ],
 "metadata": {
  "kernelspec": {
   "display_name": "Python 3",
   "language": "python",
   "name": "python3"
  },
  "language_info": {
   "codemirror_mode": {
    "name": "ipython",
    "version": 3
   },
   "file_extension": ".py",
   "mimetype": "text/x-python",
   "name": "python",
   "nbconvert_exporter": "python",
   "pygments_lexer": "ipython3",
   "version": "3.8.5"
  }
 },
 "nbformat": 4,
 "nbformat_minor": 5
}
