{
 "cells": [
  {
   "cell_type": "markdown",
   "id": "3a8cd454-276e-4cb5-ae84-fd78f52a0359",
   "metadata": {},
   "source": [
    "# Research\n",
    "1. How to implement priority matrix with clf-cbf-qp\n",
    "2. Riemannian manifold stretching vs qp based methods\n",
    "3. TP-GMM\n",
    "4. On manifold optimization"
   ]
  }
 ],
 "metadata": {
  "kernelspec": {
   "display_name": "Python 3",
   "language": "python",
   "name": "python3"
  },
  "language_info": {
   "codemirror_mode": {
    "name": "ipython",
    "version": 3
   },
   "file_extension": ".py",
   "mimetype": "text/x-python",
   "name": "python",
   "nbconvert_exporter": "python",
   "pygments_lexer": "ipython3",
   "version": "3.8.8"
  }
 },
 "nbformat": 4,
 "nbformat_minor": 5
}
