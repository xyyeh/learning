{
 "cells": [
  {
   "cell_type": "markdown",
   "id": "statistical-gates",
   "metadata": {},
   "source": [
    "## Riemannian motion policies\n",
    "1. A geometric framework to combine multiple motion policies and transforming such policies from one space to the other in geometrically consistent ways.\n",
    "2. The relevant operators are provably optimal and linear and are strongly analogous to covariant transformations of natural gradients.\n",
    "3. It allows fusion of different motion generation paradigms, such as DMPs, optimal control, operational space control, mpc and motion optimization.\n",
    "\n",
    "### Motion generation\n",
    "1. Spans the spectrum from collision-complete motion planning to local reactive motion. Between the extremes, we have motion optimization, e.g. CHOMP, ITOMP or inference based planning\n",
    "2. \n",
    "\n",
    "## Motivation\n",
    "\n",
    "## Method\n",
    "\n",
    "## Limitations"
   ]
  }
 ],
 "metadata": {
  "kernelspec": {
   "display_name": "Python 3",
   "language": "python",
   "name": "python3"
  },
  "language_info": {
   "codemirror_mode": {
    "name": "ipython",
    "version": 3
   },
   "file_extension": ".py",
   "mimetype": "text/x-python",
   "name": "python",
   "nbconvert_exporter": "python",
   "pygments_lexer": "ipython3",
   "version": "3.8.5"
  }
 },
 "nbformat": 4,
 "nbformat_minor": 5
}
