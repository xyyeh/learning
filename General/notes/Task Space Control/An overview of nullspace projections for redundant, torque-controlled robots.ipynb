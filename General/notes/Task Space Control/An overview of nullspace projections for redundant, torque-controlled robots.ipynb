{
 "cells": [
  {
   "cell_type": "markdown",
   "metadata": {},
   "source": [
    "### Nullspace projections\n",
    "1. Two methods were described and compared from static and dynamic consistency point of view\n",
    "2. Static consistency - subtask does not generate interferring forces in the operational spaces of all higher priority tasks in any static equilibrium. i.e. $(J_i ^{W+})^T N_j = 0$ where $i$ is of a strict higher priorit than $j$. For a robot $M \\ddot q = \\tau' + \\tau_{ext}$ and assume that the first tasks jacobian $J_1$ is associated with the end effector that is being constrained, we thus have $\\tau_{ext} = J_1^T F_d$. At static equilibirum, the condition $0 = N_2 \\tau_2 + J_1^T F_d$, implying that $F_d = -(J_1 ^{W+})^T N_2 \\tau_2$. Note further that $(J_1 ^{W+})^T (I - J_1^T J_1 ^{W+}) = 0$ implies that $F_d$ is not affected by any arbitary $\\tau_2$ for any admissible weighting matrix $W$.\n",
    "3. Dynamic consistency - subtask is statically consistent and never generates accelerations in the operational space of higher tasks. Consider the robot in task space $\\ddot x_1 = J_1 M^{-1} \\tau' + J_1 M^{-1} \\tau_{ext} + \\dot J_1 \\dot q$. Using the control $\\tau' = J_1^T F_1 + N_2 \\tau_2$, we have $\\ddot x_1 = \\Lambda_1^{-1} F_1 + J_1 M^{-1} N_2 \\tau_2 + J_1 M^{-1} \\tau_{ext} + \\dot J_1 \\dot q$. For any arbitrary $\\tau_2$, we need $J_1 M^{-1} N_2 = 0$"
   ]
  },
  {
   "cell_type": "markdown",
   "metadata": {},
   "source": [
    "### Successive vs augmented projections\n",
    "1. Successive projection involves using only the nullspace projector of the current task level, i.e. \n",
    "$\\tau_i = N_i \\tau_i$ where $N_i = N_{i-1}(I - J_{i-1}^T (J_{i-1}^\\#)^T )$. The total torques are computed such that $\\tau = \\tau_1 + \\sum_{i=2}^r \\tau_i$\n",
    "2. The augmented approach is similar to that of Khatib's opc where every nullspace projector uses all jacobian of higher priority tasks, i.e.\n",
    "$J^{aug}_{i-1} = \\begin{bmatrix} J_1 \\\\ J_2 \\\\ \\vdots \\\\ J_{i-1}\\end{bmatrix}$. In Khatib's approach, this is simplified with the use of the jacobian matrix that is projected into the nullspace of higher priority tasks."
   ]
  },
  {
   "cell_type": "code",
   "execution_count": null,
   "metadata": {},
   "outputs": [],
   "source": []
  }
 ],
 "metadata": {
  "kernelspec": {
   "display_name": "Python 3",
   "language": "python",
   "name": "python3"
  },
  "language_info": {
   "codemirror_mode": {
    "name": "ipython",
    "version": 3
   },
   "file_extension": ".py",
   "mimetype": "text/x-python",
   "name": "python",
   "nbconvert_exporter": "python",
   "pygments_lexer": "ipython3",
   "version": "3.6.9"
  }
 },
 "nbformat": 4,
 "nbformat_minor": 4
}
