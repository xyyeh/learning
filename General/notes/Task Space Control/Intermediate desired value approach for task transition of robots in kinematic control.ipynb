{
 "cells": [
  {
   "cell_type": "markdown",
   "id": "6f9c3d9b-8c8b-4227-bd43-a0a8c37ac616",
   "metadata": {},
   "source": [
    "### Intermediate Desired Value Approach for Task Transition of Robots in Kinematic Control"
   ]
  },
  {
   "cell_type": "code",
   "execution_count": null,
   "id": "5b763dd8-372a-406e-bf1d-ca00daafa8f6",
   "metadata": {},
   "outputs": [],
   "source": []
  }
 ],
 "metadata": {
  "kernelspec": {
   "display_name": "Python 3 (ipykernel)",
   "language": "python",
   "name": "python3"
  },
  "language_info": {
   "codemirror_mode": {
    "name": "ipython",
    "version": 3
   },
   "file_extension": ".py",
   "mimetype": "text/x-python",
   "name": "python",
   "nbconvert_exporter": "python",
   "pygments_lexer": "ipython3",
   "version": "3.8.13"
  }
 },
 "nbformat": 4,
 "nbformat_minor": 5
}
