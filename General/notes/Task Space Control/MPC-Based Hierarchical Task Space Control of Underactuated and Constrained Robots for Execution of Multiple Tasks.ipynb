{
 "cells": [
  {
   "cell_type": "markdown",
   "id": "a0cb58e3-cb56-400b-9ab1-92c8444e5dc6",
   "metadata": {},
   "source": [
    "### MPC-Based Hierarchical Task Space Control of Underactuated and Constrained Robots for Execution of Multiple Tasks"
   ]
  },
  {
   "cell_type": "markdown",
   "id": "c5fecb9f-c7ef-4379-854d-b940aa6fe95b",
   "metadata": {},
   "source": [
    "1. The method converts the operational space formulation into a QCQP problem. Soft and strict priorities are done through the error constraint functions.\n",
    "2. The algorithm：\n",
    "   - Takes in the the initial state vector $x_0$, the horizon $T_N = [t_0, t_f]_d$, the task trajectories $x_k^d(t)$ and the piority information, assumed to be $x_1 > x_2 > \\dots > x_{n_t}$\n",
    "   - Iteratively solve for the state and control trajectories, $X$ and $U$ starting from a short horizon up to the final horizon.\n",
    "3. We then execute our controls using the solution with the control law $u = u^* + K(x^*-x)$"
   ]
  },
  {
   "cell_type": "markdown",
   "id": "f6d3a5cb-8159-4abf-a550-34ae25b9b07e",
   "metadata": {},
   "source": [
    "#### Reformulation of operational space control as an optimization\n",
    "1. Given the linear least squares problem:\n",
    "$$\\arg \\min_{x} \\frac{1}{2} x^T W x \\\\ s.t. Ax=b$$ we can solve it using lagrange multipliers. Defining the lagrangian as $L = \\frac{1}{2} x^T W x + \\lambda^T(Ax-b)$, the partial derivatives are $\\frac{\\partial L}{\\partial x} = Wx-A^T \\lambda = 0$ and $\\frac{\\partial L}{\\partial \\lambda} = Ax-b = 0$. Assume that $W^{-1}$ exists, premultiplying $Wx-A^T\\lambda = 0$ with $A W^{-1}$ yields $Ax - AW^{-1}A^T \\lambda = 0$. Substituting $Ax = b$, we have $b = (AW^{-1}A^T) \\lambda \\rightarrow \\lambda = (AW^{-1}A^T)^{-1} b$. Using $\\lambda$ in $Wx-A^T \\lambda = 0$, we get the analytical solution of $x = W^{-1} A^T (AW^{-1}A^T)^{-1}b$\n",
    "\n",
    "2. Now, lets take $x \\rightarrow \\Gamma$, $W \\rightarrow M^{-1}$ and $Ax=b \\rightarrow JM^{-1} \\Gamma = \\ddot x_d - \\dot J \\dot q + JM^{-1} \\eta$ where $n = C \\dot q + g$. The resulting control $\\Gamma = M(JM^{-1})^T(JM^{-1} M (JM^{-1})^T)^{-1} (\\ddot x_d - \\dot J \\dot q + JM^{-1} \\eta) = J^T \\Lambda (\\ddot x_d - \\dot J \\dot q + JM^{-1} \\eta) = J^T \\Lambda (\\ddot x_d - \\dot J \\dot q) + J^T \\bar J^T \\eta)$. If there are no remaining degrees of redundancy, $J^T \\bar J^T = I$\n"
   ]
  },
  {
   "cell_type": "markdown",
   "id": "276d742b-ce4f-458b-afda-6873b2daf7d4",
   "metadata": {},
   "source": [
    "#### State space and OCP representation\n",
    "1. The state space of the robot dynamics is given by ${\\dot x} (t) = f({x} (t)) + g({x} (t)) {u} (t)$ where ${x} (t) = [q^T, \\dot q^T]^T$, $f(x(t)) = \\begin{bmatrix} \\dot q \\\\ -M^{-1} \\eta \\end{bmatrix}$, $g(x(t)) = \\begin{bmatrix} 0 \\\\ M^{-1} \\end{bmatrix}$ and $u = \\Gamma^T$\n",
    "2. The optimal control problem can be formulated as:\n",
    "$$\\min_{x(.),u(.)} \\ell_f (x(t_f)) + \\int_{t_0}^{t_f} \\ell(x(t), u(t)) dt \\\\ s.t. \\dot x (t) = f(x(t)) + g(x(t)) u(t) \\\\ h_i(x(t), u(t)) \\leq 0 \\\\ h_e(x(t), u(t)) = 0 \\\\ x(t_0) = x_0 $$\n",
    "3. To adapt operational space formulation into the OCP, we will first need to understand the performance index of the formulation. OPC computes controls based on Gauss's principle of least constraint minimizing the acceleration energy, i.e.\n",
    "$$\\min_{\\Gamma}~(\\Phi \\Gamma - \\psi)^T \\Lambda (\\Phi \\Gamma - \\psi)$$ where $\\Phi = JM^{-1}$ and $\\psi = \\ddot x_d - \\dot J \\dot q + JM^{-1} \\eta$. Clearly, $\\ell(.) = u^T Q_{uu} u - 2 \\psi^T Q_{\\psi u} u + \\psi^T Q_{\\psi \\psi} \\psi$ and $\\ell_f(x(t_f)) = \\psi^T Q_{\\psi \\psi} \\psi$ where the weights are $Q_{uu} = \\Phi^T \\Lambda \\Phi$, $Q_{\\psi u} = \\Lambda \\Phi$ and $Q_{\\psi \\psi} = \\Lambda$"
   ]
  },
  {
   "cell_type": "markdown",
   "id": "9d71709b-a1ee-4c18-8d75-e689b63d6fb8",
   "metadata": {},
   "source": [
    "$\\ell$"
   ]
  }
 ],
 "metadata": {
  "kernelspec": {
   "display_name": "Python 3 (ipykernel)",
   "language": "python",
   "name": "python3"
  },
  "language_info": {
   "codemirror_mode": {
    "name": "ipython",
    "version": 3
   },
   "file_extension": ".py",
   "mimetype": "text/x-python",
   "name": "python",
   "nbconvert_exporter": "python",
   "pygments_lexer": "ipython3",
   "version": "3.8.13"
  }
 },
 "nbformat": 4,
 "nbformat_minor": 5
}
