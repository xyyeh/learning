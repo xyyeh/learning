{
 "cells": [
  {
   "cell_type": "markdown",
   "metadata": {},
   "source": [
    "### Passivity\n",
    "1. An important property for controllers interacting with unknown environments is passivity\n",
    "2. Classical impedance controller is only passive in the regulation case; passivity can no longer be ensured if the desired velocity is non-zero. This issue arises in any controller driven by time-indexed reference trajectories. A solution is to encode tasks using time-independent velocity fields (first order DS)"
   ]
  },
  {
   "cell_type": "markdown",
   "metadata": {},
   "source": [
    "### Passive Interaction Control With Dynamical Systems\n",
    "1. Passivity can no longer be ensured if the desired velocity is non-zero\n",
    "2. The loss of passivity during traking is an important drawback of impedance control and a problem that arises in any controller driven by time-indexed reference trajectories.\n",
    "3. Contributions: 1) Design of damping matrix, 2) Allow passive velocity feedback control in conservative DS, 3) Applying energy tanks to allow velocity feedback in non-conservative systems 4) Impedance specifications\n",
    "\n",
    "#### Problem statement\n",
    "1. Given the state $\\xi$, the rigid body dynamics of the system is $M(\\xi) \\ddot \\xi + C(\\xi, \\dot \\xi) \\dot \\xi + g(\\xi) = \\tau_c + \\tau_e$. The controller should:  1) Ensure passivity $(\\tau_e,\\dot \\xi)$ 2) Move along $f$ and dissipate energy in directions perpendicular to $f$ 3) Variable task-based impedance of manipulator.\n",
    "\n",
    "#### Energy dissipation with task varying damping\n",
    "1. With a gravity plus damping controller, $\\tau_c = g(\\xi) - D \\dot \\xi$ and $D \\in \\mathbb{S}^+_N$, we can specify $D(\\xi) = Q(\\xi) \\Lambda Q(\\xi)^T$. $Q$ is setup such that one of the basis $e_1$ is pointing along $f(\\xi)$, i.e. $e_1 = \\frac{f(\\xi)}{||f(\\xi)||}$. \n",
    "\n",
    "2. Tracking in conservative DS: An autonomous dynamical system $f(\\xi)$ is conservative iff there exists a scalar potential function $V_f$ such that: $f(\\xi) = -\\nabla V_f(\\xi)$. Consider now a modified controller with negative velocity feedback:\n",
    "$\\tau_c = g(\\xi) - D(\\xi)(\\dot \\xi - f(\\xi)) = g(\\xi) - D(\\xi) \\dot \\xi + \\lambda_1 f(\\xi)$. It is easy to show that the system under control is passive wrt the input output pair $\\tau_e, \\dot \\xi$ with the storage function $W(\\xi, \\dot \\xi) = \\frac{1}{2} \\dot \\xi^T M(\\xi) \\xi + \\lambda_1 V_f(\\xi)$. $\\dot W = -\\dot \\xi^T D \\dot \\xi + \\dot \\xi^T \\tau_e$. Clearly, since the second term is negative semi-definite, the system is passive with respect to $(\\tau_e,\\dot \\xi)$\n",
    "\n",
    "3. Tracking in non-conservative DS: The restriction to conservative system was necessary to nullify the term $\\lambda_1 \\dot \\xi^T f(\\xi) + \\lambda_1 \\nabla V_f^T \\dot \\xi$. However, this term only needs to be canceled for $\\dot \\xi^T f(\\xi) > 0$. When $\\dot \\xi^T f(\\xi) \\leq 0$, the control is contributing to the decrease in KE. To ensure passivity, we can check that $W(t_1) \\leq W(t_0)$. Here we can consider the use of energy tanks. Let the dynamical system be decomposed as $f(\\xi) = f_C(\\xi) + f_R(\\xi)$ with $f_C(\\xi)$ is the conservative part and $f_R(\\xi)$ is the non-conservative part. We consider the dynamics coupled with the robot state as $\\dot s = \\alpha(s) \\dot \\xi^T D \\xi - \\beta_s (z,s) \\lambda_1 z$. $\\alpha$ and $\\beta$ control the flow of energy between the virtual storage $s$ and the robot.\n",
    "\n",
    "4. Tank parameters:\n",
    "<br> (1) With $\\bar s > 0$ denoting the upper bound, $\\alpha (s)$ should satisfy: $0 \\leq \\alpha(s) \\leq 1$ for $s < \\bar s$. $\\alpha(s) = 0$ if we are beyond the bound. \n",
    "<br> (2) For $\\beta_s (z,s)$ should satisfy:\n",
    "<br> $\\beta_s = 0, s \\leq 0, z \\geq 0$\n",
    "<br> $\\beta_s = 0, s \\geq \\bar s, z \\leq 0$\n",
    "<br> $ 0 \\leq \\beta_s \\leq 1$, otherwise\n",
    "where $z \\leq 0$ indicates transfer to the virtual storage when $s \\leq \\bar s$ and extraction of energy from the storage $z > 0$ as long as $s > 0$"
   ]
  },
  {
   "cell_type": "markdown",
   "metadata": {},
   "source": [
    "### Decomposition of task DS\n",
    "1. There are multiple ways to decompose the DS into conservative and non-conservative components.\n",
    "2. In this paper, the method used to learn and encode the DS is designed in a stability-preserving manner. In particular, LMDS (locally modulated DS) is used to locally reshape an existing model in a way that cannot alter the stability properties of the original model.\n",
    "3. If the original system is given by $f_o$, we have $f_c = f_o$ and $f_R$ is given by $f_R = (M-I)f_o$\n",
    "4. Another method is based on SEDS which allows straightforward decomposition given implicitly by the known Lyapunov function"
   ]
  },
  {
   "cell_type": "code",
   "execution_count": null,
   "metadata": {},
   "outputs": [],
   "source": []
  }
 ],
 "metadata": {
  "kernelspec": {
   "display_name": "Python 3",
   "language": "python",
   "name": "python3"
  },
  "language_info": {
   "codemirror_mode": {
    "name": "ipython",
    "version": 3
   },
   "file_extension": ".py",
   "mimetype": "text/x-python",
   "name": "python",
   "nbconvert_exporter": "python",
   "pygments_lexer": "ipython3",
   "version": "3.6.9"
  }
 },
 "nbformat": 4,
 "nbformat_minor": 4
}
