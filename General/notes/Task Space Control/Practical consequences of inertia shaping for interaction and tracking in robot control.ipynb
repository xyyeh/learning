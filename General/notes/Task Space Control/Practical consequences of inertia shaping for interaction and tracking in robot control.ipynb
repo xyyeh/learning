{
 "cells": [
  {
   "cell_type": "markdown",
   "id": "c062f870",
   "metadata": {},
   "source": [
    "### Comparison of various controllers\n",
    "1. Equations of motion of the robot $M(q) \\ddot q + C(q,\\dot q)\\dot q + g(q) = \\tau + \\tau_{ext}$\n",
    "2. Three control laws are being compared\n",
    "    * PD+ control: $\\tau = M(q) \\ddot q_d + C(q,\\dot q)\\dot q_d + g(q) + Ke - D\\dot e$ giving the closed loop dynamics M(q) \\ddot e + (C(q, \\dot q) + D) \\dot e"
   ]
  },
  {
   "cell_type": "code",
   "execution_count": null,
   "id": "7f0eaae0",
   "metadata": {},
   "outputs": [],
   "source": []
  }
 ],
 "metadata": {
  "kernelspec": {
   "display_name": "Python 3",
   "language": "python",
   "name": "python3"
  },
  "language_info": {
   "codemirror_mode": {
    "name": "ipython",
    "version": 3
   },
   "file_extension": ".py",
   "mimetype": "text/x-python",
   "name": "python",
   "nbconvert_exporter": "python",
   "pygments_lexer": "ipython3",
   "version": "3.8.8"
  }
 },
 "nbformat": 4,
 "nbformat_minor": 5
}
