{
 "cells": [
  {
   "cell_type": "markdown",
   "metadata": {},
   "source": [
    "module_name, package_name, ClassName, method_name, ExceptionName, function_name, GLOBAL_CONSTANT_NAME, global_var_name, instance_var_name, function_parameter_name, local_var_name"
   ]
  },
  {
   "cell_type": "code",
   "execution_count": 123,
   "metadata": {},
   "outputs": [
    {
     "name": "stdout",
     "output_type": "stream",
     "text": [
      "4\n"
     ]
    }
   ],
   "source": [
    "import numpy as np\n",
    "\n",
    "# class for task transition\n",
    "class TaskSwitchingScheme:\n",
    "    def __init__(self, numTasks, tasksize, DOFsize):\n",
    "        self.priorities = []\n",
    "        self.gravityCompensation = [] # probably do not need this\n",
    "        self.wrenches = {}\n",
    "        self.cartVelocities = {}\n",
    "        self.jacobians = {}\n",
    "        self.overallTasksize = 0\n",
    "        self.identityDOFsizeDOFsize = 0;\n",
    "        self.tasksize = tasksize\n",
    "        self.numTasks = numTasks\n",
    "        self.DOFsize = DOFsize\n",
    "        # nullspace projector matrices\n",
    "        self.jaugmented = []\n",
    "        self.weightingMat = []\n",
    "\n",
    "    @property\n",
    "    def numTasks(self):\n",
    "        return self.__numTasks\n",
    "    @numTasks.setter\n",
    "    def numTasks(self, val):\n",
    "        self.__numTasks = val\n",
    "        \n",
    "    @property\n",
    "    def tasksize(self):\n",
    "        return self.__tasksize\n",
    "    @tasksize.setter\n",
    "    def tasksize(self, val):\n",
    "        self.__tasksize = val\n",
    "        self.__overallTasksize = np.sum(val)\n",
    "        \n",
    "    @property\n",
    "    def DOFsize(self):\n",
    "        return self.__DOFsize\n",
    "    @DOFsize.setter\n",
    "    def DOFsize(self, val):\n",
    "        self.__DOFsize = val\n",
    "        self.__identityDOFsizeDOFsize = np.zeros((val, val))\n",
    "\n",
    "    @property\n",
    "    def priorities(self):\n",
    "        return self.__priorities\n",
    "    @priorities.setter\n",
    "    def priorities(self, val):\n",
    "        self.__priorities = val\n",
    "        \n",
    "    # nullspace projector related matrices that needs to be updated every cycle\n",
    "    @property\n",
    "    def jaugmented(self):\n",
    "        return self.__jaugmented\n",
    "    @numTasks.setter\n",
    "    def jacobians(self, val):\n",
    "        self.__jacobians = val\n",
    "        \n",
    "    @property\n",
    "    def weightingMat(self):\n",
    "        return self.__weightingMat\n",
    "    @weightingMat.setter\n",
    "    def weightingMat(self, val):\n",
    "        self.__weightingMat = val\n",
    "        \n",
    "    def info(self):\n",
    "        print(self.__overallTasksize)\n",
    "        \n",
    "\n",
    "A = TaskSwitchingScheme(1,2,7)\n",
    "\n",
    "# print(A.numTasks)\n",
    "# print(A.tasksize)\n",
    "# print(A.DOFsize)\n",
    "\n",
    "A.numTasks = 4\n",
    "A.tasksize = np.ones(A.numTasks, dtype='uint8')\n",
    "A.DOFsize = 4\n",
    "\n",
    "A.info()\n",
    "\n",
    "# print(\"__________\")\n",
    "# print(A.numTasks)\n",
    "# print(A.tasksize)\n",
    "# print(A.DOFsize)"
   ]
  },
  {
   "cell_type": "code",
   "execution_count": 89,
   "metadata": {},
   "outputs": [
    {
     "name": "stdout",
     "output_type": "stream",
     "text": [
      "{1: array([[0.],\n",
      "       [0.]]), 2: array([[1.],\n",
      "       [1.]])}\n"
     ]
    }
   ],
   "source": [
    "A = {}\n",
    "A[1] = np.zeros((2, 1))\n",
    "A[2] = np.ones((2, 1))\n",
    "pprint.pprint(A)"
   ]
  },
  {
   "cell_type": "code",
   "execution_count": 112,
   "metadata": {},
   "outputs": [
    {
     "name": "stdout",
     "output_type": "stream",
     "text": [
      "[[0]\n",
      " [0]]\n"
     ]
    }
   ],
   "source": [
    "print(np.zeros((2, 1), dtype='uint32'))"
   ]
  },
  {
   "cell_type": "code",
   "execution_count": 98,
   "metadata": {},
   "outputs": [
    {
     "name": "stdout",
     "output_type": "stream",
     "text": [
      "[[0.33576195 0.40754701]]\n"
     ]
    }
   ],
   "source": [
    "A = np.random.rand(1,2)\n",
    "print(A)\n"
   ]
  },
  {
   "cell_type": "code",
   "execution_count": 101,
   "metadata": {},
   "outputs": [
    {
     "name": "stdout",
     "output_type": "stream",
     "text": [
      "0.7433089631254437\n"
     ]
    }
   ],
   "source": [
    "print(np.sum(A))"
   ]
  },
  {
   "cell_type": "code",
   "execution_count": null,
   "metadata": {},
   "outputs": [],
   "source": []
  }
 ],
 "metadata": {
  "kernelspec": {
   "display_name": "Python 3",
   "language": "python",
   "name": "python3"
  },
  "language_info": {
   "codemirror_mode": {
    "name": "ipython",
    "version": 3
   },
   "file_extension": ".py",
   "mimetype": "text/x-python",
   "name": "python",
   "nbconvert_exporter": "python",
   "pygments_lexer": "ipython3",
   "version": "3.6.9"
  }
 },
 "nbformat": 4,
 "nbformat_minor": 4
}
