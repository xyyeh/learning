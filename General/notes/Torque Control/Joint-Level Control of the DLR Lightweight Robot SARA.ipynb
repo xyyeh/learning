{
 "cells": [
  {
   "cell_type": "markdown",
   "id": "986d5e65",
   "metadata": {},
   "source": [
    "### Comparison of two control methods\n",
    "1. The full state controller is given by:\n",
    "$$ \\tau_m = \\tau_d + (B B_d^{-1} - I)(\\tau_d - \\tau) + BK^{-1} \\ddot \\tau_d$$\n",
    "2. The feedback equivalent controller in the paper is given by:\n",
    "$$ \\tau_m = \\tau_d + (B B_d^{-1} - I)(\\tau_d - \\tau) + BK^{-1} \\ddot \\tau_d$$"
   ]
  },
  {
   "cell_type": "code",
   "execution_count": null,
   "id": "3fccf8a9",
   "metadata": {},
   "outputs": [],
   "source": []
  }
 ],
 "metadata": {
  "kernelspec": {
   "display_name": "Python 3",
   "language": "python",
   "name": "python3"
  },
  "language_info": {
   "codemirror_mode": {
    "name": "ipython",
    "version": 3
   },
   "file_extension": ".py",
   "mimetype": "text/x-python",
   "name": "python",
   "nbconvert_exporter": "python",
   "pygments_lexer": "ipython3",
   "version": "3.8.8"
  }
 },
 "nbformat": 4,
 "nbformat_minor": 5
}
