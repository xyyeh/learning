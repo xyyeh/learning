{
 "cells": [
  {
   "cell_type": "markdown",
   "metadata": {},
   "source": [
    "### Trajectory Optimization\n",
    "1. Trajectory optimization is concerned with finding the optimal trajectory given some objective functions, for example minimal force or minimal work:\n",
    "<br> $$\\min_{u(t),x(t),v(t)} \\int_{0}^1 u^2 (\\tau) d\\tau$$\n",
    "<br> $$\\min_{u(t),x(t),v(t)} \\int_{0}^1 |u (\\tau) v(\\tau)| d\\tau$$\n",
    "\n",
    "2. A standard trajectory optimization problem consists of two terms, a *mayer* term that captures boundary conditions and a *lagrange* term that is a path integral along the entire trajectory:\n",
    "<br> $$\\min_{t_0,t_f,u(t),\\mathbf{x}(t),\\mathbf{v}(t)} J(t_0,t_f,\\mathbf{x}(t_0),\\mathbf{x}(t_f)) + \\int_{t_0}^{t_f} w(\\tau,\\mathbf{x}(\\tau),\\mathbf{u}(\\tau)) d\\tau$$"
   ]
  },
  {
   "cell_type": "markdown",
   "metadata": {},
   "source": [
    "#### Direct Collocation Methods\n",
    "1. Direct collocation operates by transcribing a trajectory generation problem in to a nonlinear program.\n",
    "\n",
    "2. Simple example: Consider moving a unit mass from rest at $x=0$ to stop at $x=1$ in $1$ second.\n",
    "<br> $$\\min_{u(t),x(t),v(t)} \\int_{0}^1 u^2 (\\tau) d\\tau$$\n",
    "<br> $$u^* = 6-12t, x^* = 3t^2 - 2t^3$$\n",
    "where the second euqation is found from calculus of variations\n",
    "\n",
    "3. To begin, we need to discretize the trajectory, which gives a finite set of decision variables. This is done by setting up collocation points:\n",
    "$$t \\rightarrow t_0 ... t_k ... t_N$$\n",
    "$$x \\rightarrow x_0 ... x_k ... x_N$$\n",
    "$$v \\rightarrow v_0 ... v_k ... v_N$$\n",
    "Using trapezoidal collocation, we approximate the change in state in the continuous function $\\dot x = v$ as $x_{k+1}-x_k \\approx \\frac{1}{2} h_k (v_{k+1}+v_k)$. Also, for $\\ddot x = u$, we have $v_{k+1}-v_k \\approx \\frac{1}{2} h_k (u_{k+1}+u_k)$. The boundary conditions are $x_0 = v_0 = v_N = 0$ and $x_N = 1$. Discretizing the objective function, we have:\n",
    "<br> $$\\min_{u(t)} \\int_{t_0}^{t_N} u^2 (\\tau) d\\tau \\approx \\min_{u_0 .. u_N} \\sum_{k=0}^{N-1} \\frac{1}{2} h_k (u_k^2+u_{k+1}^2)$$\n",
    "\n",
    "4. *Initialization* - to kickstart the nonlinear program, we need initial guesses. A simple trajectory for our problem is a ramp. Evaluating the guessed trajectory at each collocation point, we can obtain values to pass to the nonlinear program.\n"
   ]
  },
  {
   "cell_type": "code",
   "execution_count": 1,
   "metadata": {},
   "outputs": [],
   "source": [
    "import pybullet as p\n",
    "import pybullet_data\n",
    "physicsClient = p.connect(p.GUI)#or p.DIRECT for non-graphical version\n",
    "p.setAdditionalSearchPath(pybullet_data.getDataPath()) #used by loadURDF\n",
    "p.setGravity(0, 0, -9.81)\n",
    "\n",
    "# Import cart pole\n",
    "planeId = p.loadURDF(\"plane.urdf\")\n",
    "startPos = [0,0,1.5]\n",
    "startOrientation = p.getQuaternionFromEuler([0,0,0])\n",
    "cartPoleId = p.loadURDF(\"./resource/cart_pole.urdf\",startPos, startOrientation)\n",
    "\n",
    "p.setJointMotorControl2(cartPoleId, 0, p.VELOCITY_CONTROL, force=0)\n",
    "p.setJointMotorControl2(cartPoleId, 1, p.VELOCITY_CONTROL, force=0)\n",
    "\n",
    "p.setRealTimeSimulation(1)\n",
    "for i in range(10000000):\n",
    "    pos, orn = p.getBasePositionAndOrientation(cartPoleId)\n",
    "#     print(cubePos,cubeOrn)\n",
    "p.disconnect()"
   ]
  }
 ],
 "metadata": {
  "kernelspec": {
   "display_name": "Python 3",
   "language": "python",
   "name": "python3"
  },
  "language_info": {
   "codemirror_mode": {
    "name": "ipython",
    "version": 3
   },
   "file_extension": ".py",
   "mimetype": "text/x-python",
   "name": "python",
   "nbconvert_exporter": "python",
   "pygments_lexer": "ipython3",
   "version": "3.8.2"
  }
 },
 "nbformat": 4,
 "nbformat_minor": 4
}
