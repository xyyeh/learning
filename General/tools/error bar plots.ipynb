{
 "cells": [
  {
   "cell_type": "code",
   "execution_count": 35,
   "id": "4d113289",
   "metadata": {},
   "outputs": [
    {
     "data": {
      "image/png": "[encoded data removed]",
      "text/plain": [
       "<Figure size 576x432 with 1 Axes>"
      ]
     },
     "metadata": {
      "needs_background": "light"
     },
     "output_type": "display_data"
    }
   ],
   "source": [
    "import matplotlib.pyplot as plt\n",
    "import numpy as np\n",
    "\n",
    "# Sample data with a skipped value at x=3\n",
    "vanilla_c = [123, 111, 122, 109, 104, 109, 117, 110, 102, 119]\n",
    "nesterov_c = [53, 33, 46, 48, 43, 64, 95, 70, 32, 34]\n",
    "vanilla_nc = [45, 34, 57, 34, 40, 46, 38, 37, 49, 33]\n",
    "nesterov_nc = [38, 32, 30, 35, 33, 26, 27, 34, 41, 26]\n",
    "\n",
    "x_values = ['Vanilla (colliding)', 'Nesterov (colliding)', 'Vanilla (close)', 'Nesterov (close)']\n",
    "y_values = [np.mean(vanilla_c), np.mean(nesterov_c), np.mean(vanilla_nc), np.mean(nesterov_nc)]\n",
    "y_errors = [np.std(vanilla_c), np.std(nesterov_c), np.std(vanilla_nc), np.std(nesterov_nc)]  # Error values for each data point\n",
    "\n",
    "# Set the size of the figure\n",
    "plt.figure(figsize=(8, 6))  # Adjust the width and height as needed\n",
    "\n",
    "# Plotting the bar plot with error bars\n",
    "bars = plt.bar(x_values, y_values, yerr=y_errors, capsize=5, color='blue', alpha=0.7, ecolor='black')\n",
    "# Change the color of the second and fourth bars to red\n",
    "bars[1].set_color('red')\n",
    "bars[3].set_color('red')\n",
    "\n",
    "# Adding labels and title\n",
    "# plt.xlabel('Trials')\n",
    "plt.ylabel('Elapsed time (us)')\n",
    "# plt.title('Bar Plot with Error Bars (Skipping x=3)')\n",
    "\n",
    "# Display the plot\n",
    "plt.show()"
   ]
  }
 ],
 "metadata": {
  "kernelspec": {
   "display_name": "Python 3 (ipykernel)",
   "language": "python",
   "name": "python3"
  },
  "language_info": {
   "codemirror_mode": {
    "name": "ipython",
    "version": 3
   },
   "file_extension": ".py",
   "mimetype": "text/x-python",
   "name": "python",
   "nbconvert_exporter": "python",
   "pygments_lexer": "ipython3",
   "version": "3.8.13"
  }
 },
 "nbformat": 4,
 "nbformat_minor": 5
}
