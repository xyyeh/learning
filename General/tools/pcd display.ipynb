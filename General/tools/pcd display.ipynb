{
 "cells": [
  {
   "cell_type": "code",
   "execution_count": 1,
   "id": "comprehensive-replication",
   "metadata": {},
   "outputs": [
    {
     "name": "stdout",
     "output_type": "stream",
     "text": [
      "Jupyter environment detected. Enabling Open3D WebVisualizer.\n",
      "[Open3D INFO] WebRTC GUI backend enabled.\n",
      "[Open3D INFO] WebRTCWindowSystem: HTTP handshake server disabled.\n"
     ]
    },
    {
     "ename": "ImportError",
     "evalue": "cannot import name 'JVisualizer' from 'open3d' (/home/xyyeh/anaconda3/envs/hdrm/lib/python3.8/site-packages/open3d/__init__.py)",
     "output_type": "error",
     "traceback": [
      "\u001b[0;31m---------------------------------------------------------------------------\u001b[0m",
      "\u001b[0;31mImportError\u001b[0m                               Traceback (most recent call last)",
      "\u001b[0;32m/tmp/ipykernel_341943/3813200945.py\u001b[0m in \u001b[0;36m<module>\u001b[0;34m\u001b[0m\n\u001b[1;32m      3\u001b[0m \u001b[0;32mimport\u001b[0m \u001b[0mopen3d\u001b[0m \u001b[0;32mas\u001b[0m \u001b[0mo3d\u001b[0m\u001b[0;34m\u001b[0m\u001b[0;34m\u001b[0m\u001b[0m\n\u001b[1;32m      4\u001b[0m \u001b[0;32mimport\u001b[0m \u001b[0mnumpy\u001b[0m \u001b[0;32mas\u001b[0m \u001b[0mnp\u001b[0m\u001b[0;34m\u001b[0m\u001b[0;34m\u001b[0m\u001b[0m\n\u001b[0;32m----> 5\u001b[0;31m \u001b[0;32mfrom\u001b[0m \u001b[0mopen3d\u001b[0m \u001b[0;32mimport\u001b[0m \u001b[0mJVisualizer\u001b[0m\u001b[0;34m\u001b[0m\u001b[0;34m\u001b[0m\u001b[0m\n\u001b[0m\u001b[1;32m      6\u001b[0m \u001b[0;32mimport\u001b[0m \u001b[0mipywidgets\u001b[0m \u001b[0;32mas\u001b[0m \u001b[0mwidgets\u001b[0m\u001b[0;34m\u001b[0m\u001b[0;34m\u001b[0m\u001b[0m\n\u001b[1;32m      7\u001b[0m \u001b[0;34m\u001b[0m\u001b[0m\n",
      "\u001b[0;31mImportError\u001b[0m: cannot import name 'JVisualizer' from 'open3d' (/home/xyyeh/anaconda3/envs/hdrm/lib/python3.8/site-packages/open3d/__init__.py)"
     ]
    }
   ],
   "source": [
    "### Visualization\n",
    "import os\n",
    "import open3d as o3d\n",
    "import numpy as np\n",
    "from open3d import JVisualizer\n",
    "import ipywidgets as widgets\n",
    "\n",
    "camera_location = np.array([0.0, 0.0, 0.0])\n",
    "coord = o3d.geometry.TriangleMesh.create_coordinate_frame(size=0.5, origin=camera_location)\n",
    "\n",
    "print(\"Load a ply point cloud, print it, and render it\")\n",
    "pcd = o3d.io.read_point_cloud(\"../../../Open3D/examples/test_data/fragment.ply\")\n",
    "\n",
    "if (np.asarray(pcd.points).size == 0):\n",
    "    print(\"Point cloud file needs to be pointed to Open3d's repository\")\n",
    "else:\n",
    "    print(pcd)\n",
    "    print(np.asarray(pcd.points))\n",
    "    print(np.asarray(pcd.colors))\n",
    "\n",
    "# visualization\n",
    "o3d.visualization.draw_geometries([coord, pcd],\n",
    "                                  zoom=0.3412,\n",
    "                                  front=[0.4257, -0.2125, -0.8795],\n",
    "                                  lookat=[2.6172, 2.0475, 1.532],\n",
    "                                  up=[-0.0694, -0.9768, 0.2024],\n",
    "                                  mesh_show_back_face=True,mesh_show_wireframe=True)"
   ]
  },
  {
   "cell_type": "code",
   "execution_count": 2,
   "id": "4a30a5f4",
   "metadata": {},
   "outputs": [
    {
     "ename": "SyntaxError",
     "evalue": "invalid syntax (2239143692.py, line 1)",
     "output_type": "error",
     "traceback": [
      "\u001b[0;36m  File \u001b[0;32m\"/tmp/ipykernel_341943/2239143692.py\"\u001b[0;36m, line \u001b[0;32m1\u001b[0m\n\u001b[0;31m    python -c \"from open3d.j_visualizer import JVisualizer\"\u001b[0m\n\u001b[0m              ^\u001b[0m\n\u001b[0;31mSyntaxError\u001b[0m\u001b[0;31m:\u001b[0m invalid syntax\n"
     ]
    }
   ],
   "source": [
    "python -c \"\""
   ]
  },
  {
   "cell_type": "code",
   "execution_count": null,
   "id": "analyzed-thickness",
   "metadata": {},
   "outputs": [],
   "source": [
    "### Downsampling via voxel buckets\n",
    "downpcd = pcd.voxel_down_sample(voxel_size=0.05)\n",
    "o3d.visualization.draw_geometries([coord, downpcd],\n",
    "                                  zoom=0.3412,\n",
    "                                  front=[0.4257, -0.2125, -0.8795],\n",
    "                                  lookat=[2.6172, 2.0475, 1.532],\n",
    "                                  up=[-0.0694, -0.9768, 0.2024])"
   ]
  },
  {
   "cell_type": "code",
   "execution_count": 4,
   "id": "korean-istanbul",
   "metadata": {},
   "outputs": [],
   "source": [
    "### Estimated normals (based on convariance analysis \"PCA\")\n",
    "### pressing [N] displays the point cloud normals\n",
    "### we will orient the normals to the camera location\n",
    "downpcd.orient_normals_towards_camera_location(camera_location)\n",
    "o3d.visualization.draw_geometries([coord, downpcd],\n",
    "                                  zoom=0.3412,\n",
    "                                  front=[0.4257, -0.2125, -0.8795],\n",
    "                                  lookat=[2.6172, 2.0475, 1.532],\n",
    "                                  up=[-0.0694, -0.9768, 0.2024])"
   ]
  },
  {
   "cell_type": "code",
   "execution_count": 5,
   "id": "organized-sitting",
   "metadata": {},
   "outputs": [
    {
     "name": "stdout",
     "output_type": "stream",
     "text": [
      "Load a polygon volume and use it to crop the original point cloud\n"
     ]
    }
   ],
   "source": [
    "### Point cloud selection via polygon volume (can be captured from CAD)\n",
    "print(\"Load a polygon volume and use it to crop the original point cloud\")\n",
    "vol = o3d.visualization.read_selection_polygon_volume(\"../../../Open3D/examples/test_data/Crop/cropped.json\")\n",
    "\n",
    "pcd_bound = o3d.geometry.PointCloud()\n",
    "pcd_bound.points = o3d.utility.Vector3dVector(vol.bounding_polygon)\n",
    "\n",
    "o3d.visualization.draw_geometries([coord, downpcd, pcd_bound],\n",
    "                                  zoom=0.3412,\n",
    "                                  front=[0.4257, -0.2125, -0.8795],\n",
    "                                  lookat=[2.6172, 2.0475, 1.532],\n",
    "                                  up=[-0.0694, -0.9768, 0.2024])"
   ]
  },
  {
   "cell_type": "code",
   "execution_count": 6,
   "id": "contemporary-stage",
   "metadata": {},
   "outputs": [],
   "source": [
    "### Cropping point clouds\n",
    "chair = vol.crop_point_cloud(pcd)\n",
    "chair.paint_uniform_color([1, 1, 0])\n",
    "o3d.visualization.draw_geometries([chair],\n",
    "                                  zoom=0.7,\n",
    "                                  front=[0.5439, -0.2333, -0.8060],\n",
    "                                  lookat=[2.4615, 2.1331, 1.338],\n",
    "                                  up=[-0.1781, -0.9708, 0.1608])"
   ]
  },
  {
   "cell_type": "code",
   "execution_count": null,
   "id": "hollywood-mediterranean",
   "metadata": {},
   "outputs": [],
   "source": []
  }
 ],
 "metadata": {
  "kernelspec": {
   "display_name": "Python 3.8.8 64-bit ('hdrm': conda)",
   "language": "python",
   "name": "python388jvsc74a57bd0a056c220e358cd254f9e086c9fbc1600e1f6c115100e0ffe1e1fae2263f3989e"
  },
  "language_info": {
   "codemirror_mode": {
    "name": "ipython",
    "version": 3
   },
   "file_extension": ".py",
   "mimetype": "text/x-python",
   "name": "python",
   "nbconvert_exporter": "python",
   "pygments_lexer": "ipython3",
   "version": "3.8.8"
  }
 },
 "nbformat": 4,
 "nbformat_minor": 5
}
