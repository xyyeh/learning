{
 "cells": [
  {
   "cell_type": "markdown",
   "id": "e7310453",
   "metadata": {},
   "source": [
    "### Symbolic manipulation with sympy"
   ]
  },
  {
   "cell_type": "code",
   "execution_count": 12,
   "id": "634cc210",
   "metadata": {},
   "outputs": [
    {
     "name": "stdout",
     "output_type": "stream",
     "text": [
      "\n",
      "E is given by Matrix([[0, -sin(z), cos(y)*cos(z)], [0, cos(z), sin(z)*cos(y)], [1, 0, -sin(y)]])\n",
      "Einv is given by Matrix([[cos(z)*tan(y), sin(z)*tan(y), 1], [-sin(z), cos(z), 0], [cos(z)/cos(y), sin(z)/cos(y), 0]])\n",
      "\n",
      "Flipping from zyx -> xyz, E is given by Matrix([[cos(y)*cos(z), -sin(z), 0], [sin(z)*cos(y), cos(z), 0], [-sin(y), 0, 1]])\n",
      "Flipping from zyx -> xyz, Einv is given by Matrix([[cos(z)/cos(y), sin(z)/cos(y), 0], [-sin(z), cos(z), 0], [cos(z)*tan(y), sin(z)*tan(y), 1]])\n"
     ]
    }
   ],
   "source": [
    "from sympy import *\n",
    "\n",
    "# declare symbols\n",
    "z, y, x = symbols('z y x')\n",
    "\n",
    "# time derivative of orientation using moving euler zyx convention (yaw pitch roll)\n",
    "# w = E * d(ypr)/dt -> d(ypr)/dt = E^{-1} w\n",
    "Ezyx = Matrix([\n",
    "    [0, -sin(z), cos(y)*cos(z)],\n",
    "    [0,  cos(z), cos(y)*sin(z)],\n",
    "    [1,       0,       -sin(y)]\n",
    "])\n",
    "\n",
    "print(\"\\nE is given by {}\".format(Ezyx))\n",
    "print(\"Einv is given by {}\".format(simplify(Ezyx.inv())))\n",
    "\n",
    "Ezyx = Matrix([\n",
    "    [cos(y)*cos(z), -sin(z), 0],\n",
    "    [cos(y)*sin(z),  cos(z), 0],\n",
    "    [-sin(y),             0, 1]\n",
    "])\n",
    "\n",
    "print(\"\\nFlipping from zyx -> xyz, E is given by {}\".format(Ezyx))\n",
    "print(\"Flipping from zyx -> xyz, Einv is given by {}\".format(simplify(Ezyx.inv())))\n"
   ]
  },
  {
   "cell_type": "markdown",
   "id": "604b97f5",
   "metadata": {},
   "source": [
    "#### References\n",
    "1. Documentation for sympy - https://docs.sympy.org/latest/index.html"
   ]
  }
 ],
 "metadata": {
  "kernelspec": {
   "display_name": "Python 3.8.8 64-bit ('hdrm': conda)",
   "language": "python",
   "name": "python388jvsc74a57bd0a056c220e358cd254f9e086c9fbc1600e1f6c115100e0ffe1e1fae2263f3989e"
  },
  "language_info": {
   "codemirror_mode": {
    "name": "ipython",
    "version": 3
   },
   "file_extension": ".py",
   "mimetype": "text/x-python",
   "name": "python",
   "nbconvert_exporter": "python",
   "pygments_lexer": "ipython3",
   "version": "3.8.8"
  }
 },
 "nbformat": 4,
 "nbformat_minor": 5
}
