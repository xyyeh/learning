{
 "cells": [
  {
   "cell_type": "code",
   "execution_count": 6,
   "id": "721c8cb5",
   "metadata": {},
   "outputs": [
    {
     "name": "stdout",
     "output_type": "stream",
     "text": [
      "PointCloud with 44470 points.\n",
      "[[ 0.48923299 -0.63281202 -0.36328101]\n",
      " [ 0.49217001 -0.62695301 -0.36328101]\n",
      " [ 0.502873   -0.62109399 -0.36328101]\n",
      " ...\n",
      " [ 0.65039098  0.087891    0.053606  ]\n",
      " [ 0.175781   -0.26953101 -0.023661  ]\n",
      " [ 0.181641   -0.26953101 -0.024979  ]]\n"
     ]
    }
   ],
   "source": [
    "import open3d as o3d\n",
    "import numpy as np\n",
    "\n",
    "camera_location = np.array([0.0, 0.0, 0.0])\n",
    "coord = o3d.geometry.TriangleMesh.create_coordinate_frame(size=0.5, origin=camera_location)\n",
    "\n",
    "pcd = o3d.io.read_point_cloud(\"tableAndBox.pcd\")\n",
    "print(pcd)\n",
    "print(np.asarray(pcd.points))\n",
    "# o3d.visualization.draw_geometries([pcd])\n",
    "\n",
    "o3d.visualization.draw_geometries([coord, pcd],\n",
    "                                  mesh_show_back_face=True,mesh_show_wireframe=True)"
   ]
  },
  {
   "cell_type": "code",
   "execution_count": null,
   "id": "f5e7d68a",
   "metadata": {},
   "outputs": [],
   "source": []
  }
 ],
 "metadata": {
  "kernelspec": {
   "display_name": "Python 3 (ipykernel)",
   "language": "python",
   "name": "python3"
  },
  "language_info": {
   "codemirror_mode": {
    "name": "ipython",
    "version": 3
   },
   "file_extension": ".py",
   "mimetype": "text/x-python",
   "name": "python",
   "nbconvert_exporter": "python",
   "pygments_lexer": "ipython3",
   "version": "3.8.13"
  }
 },
 "nbformat": 4,
 "nbformat_minor": 5
}
