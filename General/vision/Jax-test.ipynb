{
 "cells": [
  {
   "cell_type": "code",
   "execution_count": null,
   "id": "444f58bc",
   "metadata": {},
   "outputs": [],
   "source": [
    "import cv2\n",
    "import matplotlib.pyplot as plt\n",
    "\n",
    "from random import randrange, uniform\n",
    "from scipy.spatial.transform import Rotation as SciR\n",
    "\n",
    "import jax.numpy as jnp\n",
    "from jax import grad, jit, vmap\n",
    "from jax import random"
   ]
  },
  {
   "cell_type": "code",
   "execution_count": null,
   "id": "0d07872b",
   "metadata": {},
   "outputs": [],
   "source": [
    "\n",
    "\n",
    "coord_root_global = (433, 470)  # x, y\n",
    "img = cv2.imread(\"plant.bmp\", cv2.IMREAD_GRAYSCALE)\n",
    "\n",
    "n_points_back_up = 300\n",
    "img2 = img[(coord_root_global[1]-n_points_back_up):coord_root_global[1], coord_root_global[0]]\n",
    "img2_jnp = jnp.asarray(img2)\n",
    "\n",
    "\n",
    "def find_y_coord_min(y_column):\n",
    "    return jnp.where(y_column < 100)[0][-1]\n",
    "    \n",
    "# %time find_y_coord_min(img2_jnp)\n",
    "\n",
    "# %time jnp.where(img2_jnp < 100)[0][-1]\n",
    "\n",
    "a = jnp.array(img2, dtype=int)\n",
    "\n",
    "find_y_coord_min_jit = jit(find_y_coord_min)\n",
    "\n",
    "find_y_coord_min(a)\n",
    "find_y_coord_min_jit(a)\n",
    "\n",
    "# find_y_coord_min_jit = jit(find_y_coord_min, static_argnums=(0,))\n",
    "\n",
    "# np.put(img, )\n",
    "\n",
    "\n",
    "# %time jnp.where(img < 100)[0][-1]\n",
    "\n",
    "# %time find_y_coord_min_jit(img2_jnp)\n",
    "\n",
    "# print(jax.make_jaxpr(find_y_coord_min)(img2_jnp))\n",
    "\n",
    "# print(img2_jnp)"
   ]
  },
  {
   "cell_type": "code",
   "execution_count": null,
   "id": "5c93fa24",
   "metadata": {},
   "outputs": [],
   "source": [
    "import jax\n",
    "import jax.numpy as jnp\n",
    "import numpy as np\n",
    "from jax import grad, jit, vmap\n",
    "\n",
    "# Create two random arrays sampled from a uniform distribution\n",
    "array1 = np.random.uniform(size=(800, 800)).astype(np.float32)\n",
    "array2 = jax.random.uniform(jax.random.PRNGKey(0), (800, 800), dtype=jnp.float32) # More on PRNGKey later!\n",
    "# print(\"Shape of ndarray: \", array1.shape)\n",
    "# print(\"Shape of DeviceArray: \", array2.shape)\n",
    "\n",
    "def get_dot_product(W, X):\n",
    "    return jnp.dot(W, X)\n",
    "\n",
    "dot_jit = jax.jit(get_dot_product)\n",
    "\n",
    "%time _ = np.dot(array1, array1)\n",
    "%time _ = get_dot_product(array2, array2).block_until_ready()\n",
    "\n",
    "dot_jit(array2, array2)\n",
    "%time _ = dot_jit(array2, array2).block_until_ready()"
   ]
  },
  {
   "cell_type": "markdown",
   "id": "b13b7baa",
   "metadata": {},
   "source": [
    "jaxpr depends on tracing. The behavior of any transformed function is dependent on the traced values. You may notice the side effect on the first run but not necessarily on the subsequent calls. Hence jaxpr isn't even bothered about the global list in this case."
   ]
  },
  {
   "cell_type": "code",
   "execution_count": null,
   "id": "e7ca3cea",
   "metadata": {},
   "outputs": [],
   "source": [
    "import jax\n",
    "import jax.numpy as jnp\n",
    "import numpy as np\n",
    "from jax import grad, jit, vmap\n",
    "\n",
    "squared_numbers = []\n",
    "\n",
    "# An impure function (using a global state)\n",
    "def number_squared(num):\n",
    "    global squared_numbers\n",
    "    print(num)\n",
    "    squared = num ** 2\n",
    "    squared_numbers.append(squared)\n",
    "    return squared\n",
    "\n",
    "# Compiled verison\n",
    "number_squared_jit = jit(number_squared)\n",
    "\n",
    "# Make jaxpr\n",
    "print(jax.make_jaxpr(number_squared_jit)(2))\n",
    "print(jax.make_jaxpr(number_squared_jit)(3))"
   ]
  },
  {
   "cell_type": "code",
   "execution_count": 182,
   "id": "802a310a",
   "metadata": {},
   "outputs": [
    {
     "name": "stdout",
     "output_type": "stream",
     "text": [
      "numpy\n",
      "14.2 ms ± 5.56 ms per loop (mean ± std. dev. of 7 runs, 100 loops each)\n",
      "compile\n",
      "CPU times: user 321 ms, sys: 644 ms, total: 965 ms\n",
      "Wall time: 144 ms\n",
      "compiled run\n",
      "14.6 ms ± 110 µs per loop (mean ± std. dev. of 7 runs, 100 loops each)\n"
     ]
    }
   ],
   "source": [
    "import numpy as np\n",
    "import jax.numpy as jnp\n",
    "import jax\n",
    "\n",
    "def f(x):  # function we're benchmarking (works in both NumPy & JAX)\n",
    "  return x.T @ (x - x.mean(axis=0))\n",
    "\n",
    "print(\"numpy\")\n",
    "x_np = np.ones((1000, 1000), dtype=np.float32)  # same as JAX default dtype\n",
    "%timeit f(x_np)  # measure NumPy runtime\n",
    "# print(\"transfer\")\n",
    "# %time x_jax = jax.device_put(x_np)  # measure JAX device transfer time\n",
    "f_jit = jax.jit(f)\n",
    "print(\"compile\")\n",
    "\n",
    "%time f_jit(x_jax).block_until_ready()  # measure JAX compilation time\n",
    "print(\"compiled run\")\n",
    "%timeit f_jit(x_jax).block_until_ready()  # measure JAX runtime"
   ]
  }
 ],
 "metadata": {
  "interpreter": {
   "hash": "a056c220e358cd254f9e086c9fbc1600e1f6c115100e0ffe1e1fae2263f3989e"
  },
  "kernelspec": {
   "display_name": "Python 3.8.8 64-bit ('hdrm': conda)",
   "language": "python",
   "name": "python3"
  },
  "language_info": {
   "codemirror_mode": {
    "name": "ipython",
    "version": 3
   },
   "file_extension": ".py",
   "mimetype": "text/x-python",
   "name": "python",
   "nbconvert_exporter": "python",
   "pygments_lexer": "ipython3",
   "version": "3.8.8"
  }
 },
 "nbformat": 4,
 "nbformat_minor": 5
}
