{
 "cells": [
  {
   "cell_type": "code",
   "execution_count": 90,
   "id": "444f58bc",
   "metadata": {},
   "outputs": [],
   "source": [
    "import cv2\n",
    "import matplotlib.pyplot as plt\n",
    "\n",
    "from random import randrange, uniform\n",
    "from scipy.spatial.transform import Rotation as SciR\n",
    "\n",
    "import jax.numpy as jnp\n",
    "from jax import grad, jit, vmap\n",
    "from jax import random\n",
    "\n",
    "import numpy as onp"
   ]
  },
  {
   "cell_type": "code",
   "execution_count": 92,
   "id": "0d07872b",
   "metadata": {},
   "outputs": [
    {
     "data": {
      "text/plain": [
       "49"
      ]
     },
     "execution_count": 92,
     "metadata": {},
     "output_type": "execute_result"
    }
   ],
   "source": [
    "coord_root_global = (433, 470)  # x, y\n",
    "img = cv2.imread(\"plant.bmp\", cv2.IMREAD_GRAYSCALE)\n",
    "\n",
    "n_points_back_up = 300\n",
    "img2 = img[(coord_root_global[1]-n_points_back_up):coord_root_global[1], coord_root_global[0]]\n",
    "\n",
    "def find_y_coord_min(y_column, cutoff):\n",
    "    return np.where(y_column < cutoff)[0][-1]\n",
    "\n",
    "find_y_coord_min(img2, 100)\n"
   ]
  },
  {
   "cell_type": "code",
   "execution_count": 94,
   "id": "f74993d0",
   "metadata": {},
   "outputs": [
    {
     "name": "stdout",
     "output_type": "stream",
     "text": [
      "<class 'tuple'>\n"
     ]
    }
   ],
   "source": [
    "t = (1,2,3)\n",
    "print(type(t))"
   ]
  }
 ],
 "metadata": {
  "interpreter": {
   "hash": "a056c220e358cd254f9e086c9fbc1600e1f6c115100e0ffe1e1fae2263f3989e"
  },
  "kernelspec": {
   "display_name": "Python 3.8.8 64-bit ('hdrm': conda)",
   "language": "python",
   "name": "python3"
  },
  "language_info": {
   "codemirror_mode": {
    "name": "ipython",
    "version": 3
   },
   "file_extension": ".py",
   "mimetype": "text/x-python",
   "name": "python",
   "nbconvert_exporter": "python",
   "pygments_lexer": "ipython3",
   "version": "3.8.8"
  }
 },
 "nbformat": 4,
 "nbformat_minor": 5
}
