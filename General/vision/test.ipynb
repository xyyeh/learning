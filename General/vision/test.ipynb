{
 "cells": [
  {
   "cell_type": "code",
   "execution_count": 4,
   "metadata": {},
   "outputs": [
    {
     "name": "stdout",
     "output_type": "stream",
     "text": [
      "numpy\n",
      "The slowest run took 4.64 times longer than the fastest. This could mean that an intermediate result is being cached.\n",
      "3.91 ms ± 2.02 ms per loop (mean ± std. dev. of 7 runs, 1,000 loops each)\n",
      "compile\n",
      "CPU times: user 288 ms, sys: 645 ms, total: 933 ms\n",
      "Wall time: 149 ms\n",
      "compiled run\n",
      "CPU times: user 10.5 ms, sys: 4.42 ms, total: 14.9 ms\n",
      "Wall time: 2.93 ms\n"
     ]
    },
    {
     "data": {
      "text/plain": [
       "DeviceArray([[-2.3748726e-05, -2.3748726e-05, -2.3748726e-05, ...,\n",
       "               0.0000000e+00,  0.0000000e+00,  0.0000000e+00],\n",
       "             [-2.3748726e-05, -2.3748726e-05, -2.3748726e-05, ...,\n",
       "               0.0000000e+00,  0.0000000e+00,  0.0000000e+00],\n",
       "             [-2.3748726e-05, -2.3748726e-05, -2.3748726e-05, ...,\n",
       "               0.0000000e+00,  0.0000000e+00,  0.0000000e+00],\n",
       "             ...,\n",
       "             [-2.3748726e-05, -2.3748726e-05, -2.3748726e-05, ...,\n",
       "               0.0000000e+00,  0.0000000e+00,  0.0000000e+00],\n",
       "             [-2.3748726e-05, -2.3748726e-05, -2.3748726e-05, ...,\n",
       "               0.0000000e+00,  0.0000000e+00,  0.0000000e+00],\n",
       "             [-2.3748726e-05, -2.3748726e-05, -2.3748726e-05, ...,\n",
       "               0.0000000e+00,  0.0000000e+00,  0.0000000e+00]],            dtype=float32)"
      ]
     },
     "execution_count": 4,
     "metadata": {},
     "output_type": "execute_result"
    }
   ],
   "source": [
    "import numpy as np\n",
    "import jax.numpy as jnp\n",
    "import jax\n",
    "\n",
    "def f(x):  # function we're benchmarking (works in both NumPy & JAX)\n",
    "  return x.T @ (x - x.mean(axis=0))\n",
    "\n",
    "print(\"numpy\")\n",
    "x_np = np.ones((500, 500), dtype=np.float32)  # same as JAX default dtype\n",
    "%timeit f(x_np)  # measure NumPy runtime\n",
    "# print(\"transfer\")\n",
    "# %time x_jax = jax.device_put(x_np)  # measure JAX device transfer time\n",
    "x_jax = jnp.asarray(x_np)\n",
    "f_jit = jax.jit(f)\n",
    "print(\"compile\")\n",
    "\n",
    "%time f_jit(x_jax).block_until_ready()  # measure JAX compilation time\n",
    "print(\"compiled run\")\n",
    "%time f_jit(x_jax).block_until_ready()  # measure JAX runtime"
   ]
  }
 ],
 "metadata": {
  "interpreter": {
   "hash": "a056c220e358cd254f9e086c9fbc1600e1f6c115100e0ffe1e1fae2263f3989e"
  },
  "kernelspec": {
   "display_name": "Python 3.8.8 64-bit ('hdrm': conda)",
   "language": "python",
   "name": "python3"
  },
  "language_info": {
   "codemirror_mode": {
    "name": "ipython",
    "version": 3
   },
   "file_extension": ".py",
   "mimetype": "text/x-python",
   "name": "python",
   "nbconvert_exporter": "python",
   "pygments_lexer": "ipython3",
   "version": "3.8.8"
  },
  "orig_nbformat": 4
 },
 "nbformat": 4,
 "nbformat_minor": 2
}
