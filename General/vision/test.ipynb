{
 "cells": [
  {
   "cell_type": "markdown",
   "metadata": {},
   "source": [
    "### JAX's JIT\n",
    "1. A function must be pure, i.e. the output of the function should not be conditioned on the values of the input."
   ]
  },
  {
   "cell_type": "code",
   "execution_count": 36,
   "metadata": {},
   "outputs": [
    {
     "name": "stdout",
     "output_type": "stream",
     "text": [
      "Compile\n",
      "CPU times: user 58.1 ms, sys: 1.54 ms, total: 59.6 ms\n",
      "Wall time: 58.7 ms\n",
      "CPU times: user 110 µs, sys: 0 ns, total: 110 µs\n",
      "Wall time: 81.1 µs\n",
      "[[ 0. -4.  3.]\n",
      " [ 4.  0. -2.]\n",
      " [-3.  2.  0.]]\n"
     ]
    }
   ],
   "source": [
    "import numpy as onp\n",
    "import jax.numpy as jnp\n",
    "import jax\n",
    "from jax import grad, jit, vmap, make_jaxpr\n",
    "\n",
    "@jit\n",
    "def cross_matrix(v):\n",
    "  print(\"Compile\")\n",
    "  flatten_v = jnp.reshape(v, (-1,))\n",
    "  cross_mat = jnp.array(\n",
    "      [[0.0, -flatten_v[2], flatten_v[1]],\n",
    "       [flatten_v[2], 0.0, -flatten_v[0]],\n",
    "       [-flatten_v[1], flatten_v[0], 0.0]])\n",
    "  return cross_mat\n",
    "\n",
    "a = onp.array([1,2,3])\n",
    "b = onp.array([2,3,4])\n",
    "\n",
    "%time cross_matrix(a)\n",
    "%time c = cross_matrix(b)\n",
    "\n",
    "print(onp.asarray(c))"
   ]
  },
  {
   "cell_type": "markdown",
   "metadata": {},
   "source": [
    "2. If there are variables that you would not like to be traced, they can be marked as static for the purposes of JIT compilation. Note that the static arguments will trigger a recompilation if it's changed. However, both the original and the new implementations are all stored and thus can be retrieved for fast computation"
   ]
  },
  {
   "cell_type": "code",
   "execution_count": 37,
   "metadata": {},
   "outputs": [
    {
     "name": "stdout",
     "output_type": "stream",
     "text": [
      "Compile\n",
      "CPU times: user 13.4 ms, sys: 0 ns, total: 13.4 ms\n",
      "Wall time: 14 ms\n",
      "CPU times: user 67 µs, sys: 0 ns, total: 67 µs\n",
      "Wall time: 73 µs\n",
      "Compile\n",
      "CPU times: user 1.13 ms, sys: 0 ns, total: 1.13 ms\n",
      "Wall time: 1.23 ms\n",
      "CPU times: user 475 µs, sys: 0 ns, total: 475 µs\n",
      "Wall time: 487 µs\n",
      "CPU times: user 282 µs, sys: 29 µs, total: 311 µs\n",
      "Wall time: 258 µs\n"
     ]
    },
    {
     "data": {
      "text/plain": [
       "DeviceArray(-1, dtype=int32, weak_type=True)"
      ]
     },
     "execution_count": 37,
     "metadata": {},
     "output_type": "execute_result"
    }
   ],
   "source": [
    "from functools import partial\n",
    "\n",
    "@partial(jit, static_argnums=(1,))\n",
    "def f(x, neg):\n",
    "    print(\"Compile\")\n",
    "    return -x if neg else x\n",
    "\n",
    "%time f(1, True)\n",
    "%time f(1, True)\n",
    "\n",
    "%time f(1, False)\n",
    "%time f(1, False)\n",
    "\n",
    "%time f(1, True)"
   ]
  }
 ],
 "metadata": {
  "interpreter": {
   "hash": "a056c220e358cd254f9e086c9fbc1600e1f6c115100e0ffe1e1fae2263f3989e"
  },
  "kernelspec": {
   "display_name": "Python 3.8.8 64-bit ('hdrm': conda)",
   "language": "python",
   "name": "python3"
  },
  "language_info": {
   "codemirror_mode": {
    "name": "ipython",
    "version": 3
   },
   "file_extension": ".py",
   "mimetype": "text/x-python",
   "name": "python",
   "nbconvert_exporter": "python",
   "pygments_lexer": "ipython3",
   "version": "3.8.8"
  },
  "orig_nbformat": 4
 },
 "nbformat": 4,
 "nbformat_minor": 2
}
