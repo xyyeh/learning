{
 "cells": [
  {
   "cell_type": "markdown",
   "metadata": {},
   "source": [
    "### JAX's JIT\n",
    "1. A function must be pure, i.e. the output of the function should not be conditioned on the values of the input."
   ]
  },
  {
   "cell_type": "code",
   "execution_count": 7,
   "metadata": {},
   "outputs": [
    {
     "name": "stdout",
     "output_type": "stream",
     "text": [
      "Compile\n",
      "CPU times: user 637 ms, sys: 0 ns, total: 637 ms\n",
      "Wall time: 667 ms\n",
      "CPU times: user 3.05 ms, sys: 426 µs, total: 3.47 ms\n",
      "Wall time: 3.01 ms\n",
      "[[ 0. -4.  3.]\n",
      " [ 4.  0. -2.]\n",
      " [-3.  2.  0.]]\n"
     ]
    }
   ],
   "source": [
    "import numpy as onp\n",
    "import jax.numpy as jnp\n",
    "import jax\n",
    "from jax import grad, jit, vmap, make_jaxpr, random\n",
    "\n",
    "@jit\n",
    "def cross_matrix(v):\n",
    "  print(\"Compile\")\n",
    "  flatten_v = jnp.reshape(v, (-1,))\n",
    "  cross_mat = jnp.array(\n",
    "      [[0.0, -flatten_v[2], flatten_v[1]],\n",
    "       [flatten_v[2], 0.0, -flatten_v[0]],\n",
    "       [-flatten_v[1], flatten_v[0], 0.0]])\n",
    "  return cross_mat\n",
    "\n",
    "a = onp.array([1,2,3])\n",
    "b = onp.array([2,3,4])\n",
    "\n",
    "%time cross_matrix(a)\n",
    "%time c = cross_matrix(b)\n",
    "\n",
    "print(onp.asarray(c))"
   ]
  },
  {
   "cell_type": "markdown",
   "metadata": {},
   "source": [
    "2. If there are variables that you would not like to be traced, they can be marked as static for the purposes of JIT compilation. Note that the static arguments will trigger a recompilation if it's changed. However, both the original and the new implementations are all stored and thus can be retrieved for fast computation"
   ]
  },
  {
   "cell_type": "code",
   "execution_count": 6,
   "metadata": {},
   "outputs": [
    {
     "name": "stdout",
     "output_type": "stream",
     "text": [
      "Compile\n",
      "CPU times: user 10.7 ms, sys: 0 ns, total: 10.7 ms\n",
      "Wall time: 8.77 ms\n",
      "CPU times: user 405 µs, sys: 0 ns, total: 405 µs\n",
      "Wall time: 278 µs\n",
      "Compile\n",
      "CPU times: user 677 µs, sys: 0 ns, total: 677 µs\n",
      "Wall time: 640 µs\n",
      "CPU times: user 262 µs, sys: 0 ns, total: 262 µs\n",
      "Wall time: 269 µs\n",
      "CPU times: user 48 µs, sys: 0 ns, total: 48 µs\n",
      "Wall time: 54.1 µs\n"
     ]
    },
    {
     "data": {
      "text/plain": [
       "DeviceArray(-1, dtype=int32, weak_type=True)"
      ]
     },
     "execution_count": 6,
     "metadata": {},
     "output_type": "execute_result"
    }
   ],
   "source": [
    "from functools import partial\n",
    "\n",
    "@partial(jit, static_argnums=(1,))\n",
    "def f(x, neg):\n",
    "    print(\"Compile\")\n",
    "    return -x if neg else x\n",
    "\n",
    "%time f(1, True)\n",
    "%time f(1, True)\n",
    "\n",
    "%time f(1, False)\n",
    "%time f(1, False)\n",
    "\n",
    "%time f(1, True)"
   ]
  },
  {
   "cell_type": "markdown",
   "metadata": {},
   "source": [
    "3. Automatic vectorization is another very useful feature of jax"
   ]
  },
  {
   "cell_type": "code",
   "execution_count": 16,
   "metadata": {},
   "outputs": [
    {
     "name": "stdout",
     "output_type": "stream",
     "text": [
      "-0.9812892\n",
      "-0.55406797\n",
      "-0.4960655\n",
      "-1.1210011\n",
      "-1.5675282\n"
     ]
    }
   ],
   "source": [
    "key = jax.random.PRNGKey(100)\n",
    "\n",
    "a = jax.random.normal(key)\n",
    "print(a)\n",
    "\n",
    "k1, k2 = jax.random.split(key)\n",
    "print(jax.random.normal(k1))\n",
    "print(jax.random.normal(k2))\n",
    "\n",
    "k1, k2 = jax.random.split(k1)\n",
    "print(jax.random.normal(k1))\n",
    "print(jax.random.normal(k2))"
   ]
  },
  {
   "cell_type": "code",
   "execution_count": 24,
   "metadata": {},
   "outputs": [
    {
     "name": "stdout",
     "output_type": "stream",
     "text": [
      "(20, 2)\n",
      "(20,)\n"
     ]
    }
   ],
   "source": [
    "key = jax.random.PRNGKey(100)\n",
    "ks = jax.random.split(key, 20)  # we want to generate 20 draws\n",
    "print(ks.shape)\n",
    "draws = vmap(random.normal)(ks)\n",
    "print(draws.shape)"
   ]
  },
  {
   "cell_type": "code",
   "execution_count": 27,
   "metadata": {},
   "outputs": [
    {
     "name": "stdout",
     "output_type": "stream",
     "text": [
      "CPU times: user 30.2 ms, sys: 3.99 ms, total: 34.2 ms\n",
      "Wall time: 33 ms\n",
      "CPU times: user 53 µs, sys: 0 ns, total: 53 µs\n",
      "Wall time: 58.7 µs\n",
      "(10,)\n",
      "(10,)\n",
      "CPU times: user 24.5 ms, sys: 0 ns, total: 24.5 ms\n",
      "Wall time: 24.2 ms\n"
     ]
    },
    {
     "data": {
      "text/plain": [
       "DeviceArray([0., 0., 0., 0., 0., 0., 0., 0., 0., 0.], dtype=float32, weak_type=True)"
      ]
     },
     "execution_count": 27,
     "metadata": {},
     "output_type": "execute_result"
    }
   ],
   "source": [
    "import cv2\n",
    "import numpy as onp\n",
    "import jax.numpy as jnp\n",
    "import jax\n",
    "from jax import grad, jit, vmap, make_jaxpr, random\n",
    "\n",
    "key = jax.random.PRNGKey(100)\n",
    "\n",
    "def selu(x, alpha=1.67, lmbda=1.05):\n",
    "  return lmbda * jnp.where(x > 0, x, alpha * jnp.exp(x) - alpha)\n",
    "\n",
    "v = random.normal(key, (10,))\n",
    "%time selu(v).block_until_ready()\n",
    "\n",
    "selu_jit = jax.jit(selu)\n",
    "selu_jit(v)\n",
    "%time selu_jit(v).block_until_ready()\n",
    "\n",
    "img = cv2.imread(\"plant.bmp\", cv2.IMREAD_GRAYSCALE)\n",
    "img2 = onp.array(img[0,0:10])\n",
    "\n",
    "print(v.shape)\n",
    "print(img2.shape)\n",
    "\n",
    "%time selu_jit(img2).block_until_ready()"
   ]
  }
 ],
 "metadata": {
  "interpreter": {
   "hash": "a056c220e358cd254f9e086c9fbc1600e1f6c115100e0ffe1e1fae2263f3989e"
  },
  "kernelspec": {
   "display_name": "Python 3.8.8 64-bit ('hdrm': conda)",
   "language": "python",
   "name": "python3"
  },
  "language_info": {
   "codemirror_mode": {
    "name": "ipython",
    "version": 3
   },
   "file_extension": ".py",
   "mimetype": "text/x-python",
   "name": "python",
   "nbconvert_exporter": "python",
   "pygments_lexer": "ipython3",
   "version": "3.8.8"
  },
  "orig_nbformat": 4
 },
 "nbformat": 4,
 "nbformat_minor": 2
}
