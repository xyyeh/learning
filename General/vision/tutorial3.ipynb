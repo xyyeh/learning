{
 "cells": [
  {
   "cell_type": "markdown",
   "id": "ba51cfbd",
   "metadata": {},
   "source": [
    "#### Random numbers\n",
    "1. Jax's random number generator is designed with a different algorithm than that of **`numpy`**. To make sure that we can parallelize the transformations and still get reproducible results, JAX applies two rules\n",
    "    - Don't depend on global seed for generating random sequences\n",
    "    - Random functions should explicitly consume a state(seed), this will ensure that these functions would reproduce the same results when given the same seed"
   ]
  },
  {
   "cell_type": "code",
   "execution_count": 5,
   "id": "c1211c28",
   "metadata": {},
   "outputs": [
    {
     "name": "stdout",
     "output_type": "stream",
     "text": [
      "[2 4 9 9 4]\n"
     ]
    }
   ],
   "source": [
    "import numpy as onp\n",
    "import jax.numpy as jnp\n",
    "from jax import grad, jit, vmap, make_jaxpr, random, lax\n",
    "\n",
    "key = random.PRNGKey(1234)\n",
    "random_integers = random.randint(key=key, minval=0, maxval=10, shape=[5])\n",
    "print(random_integers)"
   ]
  }
 ],
 "metadata": {
  "interpreter": {
   "hash": "a056c220e358cd254f9e086c9fbc1600e1f6c115100e0ffe1e1fae2263f3989e"
  },
  "kernelspec": {
   "display_name": "Python 3.8.8 64-bit ('hdrm': conda)",
   "language": "python",
   "name": "python3"
  },
  "language_info": {
   "codemirror_mode": {
    "name": "ipython",
    "version": 3
   },
   "file_extension": ".py",
   "mimetype": "text/x-python",
   "name": "python",
   "nbconvert_exporter": "python",
   "pygments_lexer": "ipython3",
   "version": "3.8.8"
  }
 },
 "nbformat": 4,
 "nbformat_minor": 5
}
