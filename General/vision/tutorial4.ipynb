{
 "cells": [
  {
   "cell_type": "markdown",
   "metadata": {},
   "source": [
    "#### JIT in JAX\n",
    "1. JAX uses XLA for compilation to transform your normal python functions so that they can be executed **more efficiently** in XLA\n",
    "2. In the following example, two functions will be called twice. For both, the first time is taking much longer. This is because JAX is doing **`tracing`** on the first call. Depending on the inputs, the tracers convert the code into an intermediate language, **`jaxprs`**. **`jaxprs`** is then compiled by XLA. The subsequent calls will just use the compiled code"
   ]
  },
  {
   "cell_type": "code",
   "execution_count": 14,
   "metadata": {},
   "outputs": [
    {
     "name": "stdout",
     "output_type": "stream",
     "text": [
      "Compile\n",
      "CPU times: user 48.9 ms, sys: 630 µs, total: 49.5 ms\n",
      "Wall time: 58.7 ms\n",
      "Compile\n",
      "CPU times: user 66.3 ms, sys: 0 ns, total: 66.3 ms\n",
      "Wall time: 96.6 ms\n",
      "CPU times: user 25.2 ms, sys: 0 ns, total: 25.2 ms\n",
      "Wall time: 13.5 ms\n",
      "CPU times: user 1.06 ms, sys: 0 ns, total: 1.06 ms\n",
      "Wall time: 917 µs\n"
     ]
    }
   ],
   "source": [
    "import os\n",
    "import time\n",
    "import requests\n",
    "\n",
    "import jax\n",
    "import jax.numpy as jnp\n",
    "from jax import jit, grad, random\n",
    "\n",
    "from jax.config import config\n",
    "\n",
    "def apply_activation(x):\n",
    "    print(\"Compile\")\n",
    "    return jnp.maximum(0.0, x)\n",
    "\n",
    "def get_dot_product(W, X):\n",
    "    print(\"Compile\")\n",
    "    return jnp.dot(W, X)\n",
    "\n",
    "# Always use a seed\n",
    "key = random.PRNGKey(1234)\n",
    "W = random.normal(key=key, shape=[100, 1000], dtype=jnp.float32)\n",
    "\n",
    "# Never reuse the key\n",
    "key, subkey = random.split(key)\n",
    "X = random.normal(key=subkey, shape=[1000, 2000], dtype=jnp.float32)\n",
    "\n",
    "# JIT the functions we have\n",
    "dot_product_jit  = jit(get_dot_product)\n",
    "activation_jit = jit(apply_activation)\n",
    "\n",
    "%time Z = dot_product_jit(W, X).block_until_ready()\n",
    "%time A = activation_jit(Z).block_until_ready()\n",
    "\n",
    "%time Z = dot_product_jit(W, X).block_until_ready()\n",
    "%time A = activation_jit(Z).block_until_ready()"
   ]
  },
  {
   "cell_type": "markdown",
   "metadata": {},
   "source": [
    "##### Jaxprs\n",
    "1. A **`jaxprs`** instance represents a function with one or more typed parameters (input variables) and one ore more typed results\n",
    "2. The inputs/outputs have **`types`** and are represented as abstract values\n",
    "3. Not all python programs can be represented by **`jaxprs`**  but many scientific computations can be"
   ]
  },
  {
   "cell_type": "code",
   "execution_count": 15,
   "metadata": {},
   "outputs": [
    {
     "name": "stdout",
     "output_type": "stream",
     "text": [
      "Compile\n",
      "{ lambda ; a:f32[100,2000]. let\n",
      "    b:f32[100,2000] = xla_call[\n",
      "      call_jaxpr={ lambda ; c:f32[100,2000]. let\n",
      "          d:f32[100,2000] = max 0.0 c\n",
      "        in (d,) }\n",
      "      name=apply_activation\n",
      "    ] a\n",
      "  in (b,) }\n"
     ]
    }
   ],
   "source": [
    "# Make jaxpr for the activation function\n",
    "print(jax.make_jaxpr(activation_jit)(Z))"
   ]
  },
  {
   "cell_type": "markdown",
   "metadata": {},
   "source": [
    "##### Printing\n",
    "1. Nothing stops you from running an impure function. Below is an interesting example:"
   ]
  },
  {
   "cell_type": "code",
   "execution_count": 16,
   "metadata": {},
   "outputs": [
    {
     "name": "stdout",
     "output_type": "stream",
     "text": [
      "Received:  Traced<ShapedArray(int32[], weak_type=True)>with<DynamicJaxprTrace(level=1/1)>\n",
      "{ lambda ; a:i32[]. let\n",
      "    b:i32[] = xla_call[\n",
      "      call_jaxpr={ lambda ; c:i32[]. let d:i32[] = integer_pow[y=2] c in (d,) }\n",
      "      name=number_squared\n",
      "    ] a\n",
      "  in (b,) }\n"
     ]
    }
   ],
   "source": [
    "def number_squared(num):\n",
    "    print(\"Received: \", num)\n",
    "    return num ** 2\n",
    "\n",
    "# Compiled version\n",
    "number_squared_jit = jit(number_squared)\n",
    "\n",
    "# Make jaxprs\n",
    "print(jax.make_jaxpr(number_squared_jit)(2))"
   ]
  },
  {
   "cell_type": "markdown",
   "metadata": {},
   "source": [
    "2. Notice that the variable *num* is traced since the first call will run the python code. The subsequent **`jaxprs`** remains the same as before."
   ]
  },
  {
   "cell_type": "code",
   "execution_count": 17,
   "metadata": {},
   "outputs": [
    {
     "name": "stdout",
     "output_type": "stream",
     "text": [
      "Iteration:  1\n",
      "Received:  Traced<ShapedArray(int32[], weak_type=True)>with<DynamicJaxprTrace(level=0/1)>\n",
      "Result:  4\n",
      "==================================================\n",
      "Iteration:  2\n",
      "Result:  16\n",
      "==================================================\n",
      "Iteration:  3\n",
      "Result:  64\n",
      "==================================================\n"
     ]
    }
   ],
   "source": [
    "for i, num in enumerate([2,4,8]):\n",
    "    print(\"Iteration: \", i+1)\n",
    "    print(\"Result: \", number_squared_jit(num))\n",
    "    print(\"=\"*50)"
   ]
  },
  {
   "cell_type": "markdown",
   "metadata": {},
   "source": [
    "##### JIT and Python Control Flow\n",
    "1. There are several situations where JIT would fail. One of the most common one is the dependence on the variable. This usually manifests in control flows conditioned on the value of the input."
   ]
  },
  {
   "cell_type": "code",
   "execution_count": 18,
   "metadata": {},
   "outputs": [
    {
     "name": "stdout",
     "output_type": "stream",
     "text": [
      "ConcretizationTypeError Abstract tracer value encountered where concrete value is expected: Traced<ShapedArray(bool[], weak_type=True)>with<DynamicJaxprTrace(level=0/1)>\n",
      "The problem arose with the `bool` function. \n",
      "While tracing the function square_or_cube at /tmp/ipykernel_188426/2554669772.py:1 for jit, this concrete value was not available in Python because it depends on the value of the argument 'x'.\n",
      "\n",
      "See https://jax.readthedocs.io/en/latest/errors.html#jax.errors.ConcretizationTypeError\n"
     ]
    }
   ],
   "source": [
    "def square_or_cube(x):\n",
    "    if x % 2 == 0:\n",
    "        return x ** 2\n",
    "    else:\n",
    "        return x * x * x\n",
    "\n",
    "# JIT transformation\n",
    "square_or_cube_jit = jit(square_or_cube) # no error here\n",
    "\n",
    "# Run the jitted function\n",
    "try:\n",
    "    val = square_or_cube_jit(2)\n",
    "except Exception as ex:\n",
    "    print(type(ex).__name__, ex)\n"
   ]
  },
  {
   "cell_type": "markdown",
   "metadata": {},
   "source": [
    "2. Lets go through what's happening here. When we jit a function, we aim to get a compiled version of that function, so that we can cache and reuse the compiled code for different values. To achieve this, JAX traces it on abstract values that represent sets of possible inputs\n",
    "3. There are different levels of abstraction that are used during tracing, and the kind of abstraction used for a particular function tracing depends on the kind of transformation done. By default, jit traces code on the **`ShapedArray`** abstraction level.\n",
    "4. For example, if we trace using the abstract value **`ShapedArray((3,), jnp.float32)`**, we get a view of the function that can be reused for any concrete value that is of the same shape"
   ]
  }
 ],
 "metadata": {
  "interpreter": {
   "hash": "a056c220e358cd254f9e086c9fbc1600e1f6c115100e0ffe1e1fae2263f3989e"
  },
  "kernelspec": {
   "display_name": "Python 3.8.8 64-bit ('hdrm': conda)",
   "language": "python",
   "name": "python3"
  },
  "language_info": {
   "codemirror_mode": {
    "name": "ipython",
    "version": 3
   },
   "file_extension": ".py",
   "mimetype": "text/x-python",
   "name": "python",
   "nbconvert_exporter": "python",
   "pygments_lexer": "ipython3",
   "version": "3.8.8"
  },
  "orig_nbformat": 4
 },
 "nbformat": 4,
 "nbformat_minor": 2
}
