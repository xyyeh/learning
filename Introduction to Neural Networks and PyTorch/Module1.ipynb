{
 "cells": [
  {
   "cell_type": "markdown",
   "id": "3200ede1-1e98-4e12-872d-a40cb25b473d",
   "metadata": {},
   "source": [
    "## Tensors 1D\n",
    "1. Tensors can be changed into different dimensions using the `view([...])` method. Both tensor uses the same memory and when one as altered, the other will will change too. Note that `view([...])` only works for contiguous memory and thus, operations like transpose will throw an error. You can also use `reshape([...])` if you prefer automatic handling of non-contiguous memory allocation issues. "
   ]
  },
  {
   "cell_type": "code",
   "execution_count": 62,
   "id": "cf3f7df3-a95d-4c1d-a98a-e3ec6d94d954",
   "metadata": {},
   "outputs": [
    {
     "name": "stdout",
     "output_type": "stream",
     "text": [
      "a is tensor([[ 1.0669, -2.2107],\n",
      "        [ 0.6472, -0.6350]])\n",
      "a.view is tensor([[ 1.0669],\n",
      "        [-2.2107],\n",
      "        [ 0.6472],\n",
      "        [-0.6350]])\n",
      "b is tensor([[ 1.0669,  0.6472],\n",
      "        [-2.2107, -0.6350]])\n",
      "b.view, after contiguous memory allocation is tensor([[ 1.0669],\n",
      "        [ 0.6472],\n",
      "        [-2.2107],\n",
      "        [-0.6350]])\n",
      "After updating a[0,0], a is tensor([[ 1.0000, -2.2107],\n",
      "        [ 0.6472, -0.6350]])\n",
      "After updating a[0,0], the change is not reflected in b as it is tensor([[ 1.0669,  0.6472],\n",
      "        [-2.2107, -0.6350]])\n"
     ]
    }
   ],
   "source": [
    "import torch\n",
    "a = torch.randn([2,2])\n",
    "print(f\"a is {a}\")\n",
    "print(f\"a.view is {a.view([-1,1])}\")\n",
    "b = a.T\n",
    "print(f\"b is {b}\")\n",
    "b = b.contiguous()\n",
    "print(f\"b.view, after contiguous memory allocation is {b.view([-1,1])}\")\n",
    "\n",
    "a[0,0] = 1\n",
    "print(f\"After updating a[0,0], a is {a}\")\n",
    "print(f\"After updating a[0,0], the change is not reflected in b as it is {b}\")"
   ]
  },
  {
   "cell_type": "markdown",
   "id": "6de2f3b6-c36c-4139-ae59-7c6239ab55e6",
   "metadata": {},
   "source": [
    "2. When tensors are multiplied, you can choose to use the `hadamard` product with the operator `*` or the `dot` product with the function `dot()`\n",
    "3. Tensors can be moved to numpy format using `numpy()`. Note that only `cpu` tensors are supported. To move between cpu and gpu, you can use the functions `cpu()` and `gpu()` respectively\n",
    "4. Converting numpy arrays to tensors can be achieved through the `from_numpy()` function.\n",
    "5. Note that these arrays and tensors all point to the same memory location in the cpu. As such, updates to any of them will update the rest"
   ]
  },
  {
   "cell_type": "code",
   "execution_count": 92,
   "id": "cda3c901-e39b-4d90-a55d-8a5e5d3ab07e",
   "metadata": {},
   "outputs": [
    {
     "name": "stdout",
     "output_type": "stream",
     "text": [
      "The dtype of new tensor: torch.float64\n",
      "The type of new tensor: torch.DoubleTensor\n",
      "The new tensor points to numpy_array :  tensor([0., 0., 0., 0., 0.], dtype=torch.float64)\n",
      "and back to numpy array points to the tensor:  [0. 0. 0. 0. 0.]\n"
     ]
    }
   ],
   "source": [
    "import numpy as np\n",
    "numpy_array = np.array([0.0, 1.0, 2.0, 3.0, 4.0])\n",
    "new_tensor = torch.from_numpy(numpy_array)\n",
    "back_to_numpy = new_tensor.numpy()\n",
    "\n",
    "# Properties of new tensor\n",
    "print(f\"The dtype of new tensor: {new_tensor.dtype}\")\n",
    "print(f\"The type of new tensor: {new_tensor.type()}\")\n",
    "\n",
    "# Set all elements in numpy array to zero \n",
    "numpy_array[:] = 0\n",
    "print(\"The new tensor points to numpy_array : \", new_tensor)\n",
    "print(\"and back to numpy array points to the tensor: \", back_to_numpy)"
   ]
  },
  {
   "cell_type": "markdown",
   "id": "581bbed9-d8b8-44cb-aa47-48df5430fce3",
   "metadata": {},
   "source": [
    "6. To access a particular element, the `item()` method can be used."
   ]
  },
  {
   "cell_type": "code",
   "execution_count": 98,
   "id": "1d61103e-74df-4bfc-b656-ebc76ff42458",
   "metadata": {},
   "outputs": [
    {
     "name": "stdout",
     "output_type": "stream",
     "text": [
      "The first element is 0\n",
      "tensor: tensor([0, 0, 0, 0]) \n",
      "list: [0, 1, 2, 3]\n"
     ]
    }
   ],
   "source": [
    "this_tensor=torch.tensor([0, 1, 2, 3])\n",
    "print(f\"The first element is {this_tensor[0].item()}\")"
   ]
  }
 ],
 "metadata": {
  "kernelspec": {
   "display_name": "Python [conda env:base] *",
   "language": "python",
   "name": "conda-base-py"
  },
  "language_info": {
   "codemirror_mode": {
    "name": "ipython",
    "version": 3
   },
   "file_extension": ".py",
   "mimetype": "text/x-python",
   "name": "python",
   "nbconvert_exporter": "python",
   "pygments_lexer": "ipython3",
   "version": "3.12.7"
  }
 },
 "nbformat": 4,
 "nbformat_minor": 5
}
