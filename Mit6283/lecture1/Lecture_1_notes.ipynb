{
 "cells": [
  {
   "cell_type": "markdown",
   "metadata": {},
   "source": [
    "### Lecture 1\n",
    "#### Underactuation\n",
    "1. A second order mechanical system can be described as $\\ddot q = f(q,\\dot q,u) = f_1(q,\\dot q) + f_2(q,\\dot q)u$. We can further say that such a structure is \"control affine\" due to the second term\n",
    "\n",
    "2. **Def**: Fully actuated systems - A system is fuly actuated in state $(q,\\dot q)$ if f_2(q, \\dot q) is full row rank. Say, $dim(q) = n, dim(u) = m$ such that $f_2 \\in \\mathbb{R}^{n \\times m}$. If $rank[f_2] = n \\Rightarrow$ fully actuated.\n",
    "<br> **Def**: Underactuated systems - iff $rank[f_2] \\leq n$"
   ]
  },
  {
   "cell_type": "markdown",
   "metadata": {},
   "source": [
    "#### Feedback linearization\n",
    "1. Consider $\\ddot q = f(q,\\dot q,u) = f_1(q,\\dot q) + f_2(q,\\dot q)u$. Due to the control affine structure, the desired acceleration $\\ddot q_d$ can be controlled using the control input $u = f_2^{-1} (\\ddot q_d - f_1)$. The resulting equation is a linear dynamical system $\\ddot q = \\ddot q_d$ iff $f_2$ is full row rank\n",
    "\n",
    "2. This is also known as computed control control. One huge downside of this control method is that huge amounts of control effort is used to linearize the system via feedback cancellation. Some of these cancellations involve removing dynamics that are beneficial for the system.\n",
    "\n",
    "3. Causes of underactuation: input saturation, state constraints (joint limit), model/state uncertainty."
   ]
  },
  {
   "cell_type": "code",
   "execution_count": null,
   "metadata": {},
   "outputs": [],
   "source": []
  }
 ],
 "metadata": {
  "kernelspec": {
   "display_name": "Python 3",
   "language": "python",
   "name": "python3"
  },
  "language_info": {
   "codemirror_mode": {
    "name": "ipython",
    "version": 3
   },
   "file_extension": ".py",
   "mimetype": "text/x-python",
   "name": "python",
   "nbconvert_exporter": "python",
   "pygments_lexer": "ipython3",
   "version": "3.6.9"
  }
 },
 "nbformat": 4,
 "nbformat_minor": 4
}
