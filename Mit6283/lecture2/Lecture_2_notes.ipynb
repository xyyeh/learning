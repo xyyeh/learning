{
 "cells": [
  {
   "cell_type": "markdown",
   "metadata": {},
   "source": [
    "### Lecture 2\n",
    "#### Analysis methods for nonlinear dynamics\n",
    "1. Integrating nonlinear differential equations for example, a simple pendulum $m L^2 \\ddot \\theta + b \\dot \\theta + m g L sin \\theta = u$ given $\\theta(0), \\dot \\theta(0)$ is apparently very difficult. But, we can ask easily answerable questions like: What is the steady state solution, i.e. as $t \\rightarrow \\infty$? or Does it ever enter some region $\\psi(\\theta) \\geq 0$\n",
    "\n",
    "2. Furthermore, simplifications via dimensional analysis can be done to further reduce the system to a simpler form. For example, suppose that we have large dampling and zero input, the equation reduces to $b \\dot \\theta + m g L sin \\theta = 0$. Graphically in the $(\\dot \\theta, \\theta)$ plane, we have:\n",
    "\n",
    "![title](simple_pendulum.png)\n",
    "\n",
    "3. The fixed points $(\\dot \\theta = 0)$ are located at $\\theta = -n\\pi, ..., \\pi, 0, \\pi, ..., n\\pi$. The interval $[-\\pi, \\pi]$ is the basin/region of attraction where any where that $\\theta$ is within the interval, it will be drawn to $0$ which happens to be a *locally* stable fixed point. The separations at $\\theta = -\\pi$ and $\\theta = \\pi$ are called separatrix. The separatrix basically splits regions of attractions.\n",
    "\n",
    "#### Local stability theory\n",
    "1. Stability in the sense of lyapunov (isL): if for any $\\epsilon > 0$, $\\exists \\delta > 0$ s.t. $|| x(0) - x^*||_2 < \\delta$ then $\\forall t > 0, || x(0) - x^*||_2 < \\epsilon$. Note that $\\delta < \\epsilon$\n",
    "2. Asymptotically stability: if $||x(0)-x^*|| < \\epsilon$, $\\lim_{x\\to\\infty} ||x(0)-x^*|| = 0$\n",
    "3. Exponential stability: $||x(t)-x^*|| < C e^{-\\alpha t}$ where $C,\\alpha > 0$\n",
    "4. We can talk about basins of attraction with just isL stable\n",
    "\n",
    "#### Notion about control\n",
    "1. Physics gave you a vector field $\\dot x = f(x)$ and you install actuators $\\dot x = f(x,u)$ where the $u$ changes the \"flow\" of vector field.\n",
    "2. Feedback linearization however is replacing $\\dot x = f(x)$ completely and "
   ]
  }
 ],
 "metadata": {
  "kernelspec": {
   "display_name": "Python 3",
   "language": "python",
   "name": "python3"
  },
  "language_info": {
   "codemirror_mode": {
    "name": "ipython",
    "version": 3
   },
   "file_extension": ".py",
   "mimetype": "text/x-python",
   "name": "python",
   "nbconvert_exporter": "python",
   "pygments_lexer": "ipython3",
   "version": "3.6.9"
  }
 },
 "nbformat": 4,
 "nbformat_minor": 4
}
