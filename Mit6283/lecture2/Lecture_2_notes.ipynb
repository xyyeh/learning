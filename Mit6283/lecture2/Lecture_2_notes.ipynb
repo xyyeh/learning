{
 "cells": [
  {
   "cell_type": "markdown",
   "metadata": {},
   "source": [
    "### Lecture 2\n",
    "#### Analysis methods for nonlinear dynamics\n",
    "1. Integrating nonlinear differential equations for example, a simple pendulum $m L^2 \\ddot \\theta + b \\dot \\theta + m g L sin \\theta = u$ given $\\theta(0), \\dot \\theta(0)$ is apparently very difficult. But, we can ask easily answerable questions like: What is the steady state solution, i.e. as $t \\rightarrow \\infty$? or Does it ever enter some region $\\psi(\\theta) \\geq 0$\n",
    "\n",
    "2. Furthermore, simplifications via dimensional analysis can be done to further reduce the system to a simpler form. For example, suppose that we have large dampling and zero input, the equation reduces to $b \\dot \\theta + m g L sin \\theta = 0$. Graphically in the $(\\dot \\theta, \\theta)$ plane, we have:\n",
    "\n",
    "![title](simple_pendulum.png)\n",
    "\n",
    "3. The fixed points $(\\dot \\theta = 0)$ are located at $\\theta = -n\\pi, ..., \\pi, 0, \\pi, ..., n\\pi$. The interval $[-\\pi, \\pi]$ is the basin/region of attraction where any where that $\\theta$ is within the interval, it will be drawn to $0$ which happens to be a *locally* stable fixed point. The separations at $\\theta = -\\pi$ and $\\theta = \\pi$ are called separatrix. The separatrix basically splits regions of attractions."
   ]
  },
  {
   "cell_type": "code",
   "execution_count": null,
   "metadata": {},
   "outputs": [],
   "source": []
  }
 ],
 "metadata": {
  "kernelspec": {
   "display_name": "Python 3",
   "language": "python",
   "name": "python3"
  },
  "language_info": {
   "codemirror_mode": {
    "name": "ipython",
    "version": 3
   },
   "file_extension": ".py",
   "mimetype": "text/x-python",
   "name": "python",
   "nbconvert_exporter": "python",
   "pygments_lexer": "ipython3",
   "version": "3.6.9"
  }
 },
 "nbformat": 4,
 "nbformat_minor": 4
}
