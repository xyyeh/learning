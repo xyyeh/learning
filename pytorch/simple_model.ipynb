{
 "cells": [
  {
   "cell_type": "markdown",
   "id": "dff520bf",
   "metadata": {},
   "source": [
    "### Check if we are using GPU"
   ]
  },
  {
   "cell_type": "code",
   "execution_count": 9,
   "id": "43484721",
   "metadata": {},
   "outputs": [
    {
     "name": "stdout",
     "output_type": "stream",
     "text": [
      "True if we are using GPU\n"
     ]
    }
   ],
   "source": [
    "import torch\n",
    "torch.cuda.is_available()\n",
    "print(\"True if we are using GPU\")"
   ]
  },
  {
   "cell_type": "code",
   "execution_count": 10,
   "id": "0aa4acf4",
   "metadata": {},
   "outputs": [
    {
     "name": "stdout",
     "output_type": "stream",
     "text": [
      "SimpleModel(\n",
      "  (fc1): Linear(in_features=10, out_features=5, bias=True)\n",
      "  (relu): ReLU()\n",
      "  (fc2): Linear(in_features=5, out_features=2, bias=True)\n",
      ")\n"
     ]
    }
   ],
   "source": [
    "import torch\n",
    "import torch.nn as nn\n",
    "\n",
    "# define a simple NN model\n",
    "class SimpleModel(nn.Module):\n",
    "    def __init__(self, input_size, hidden_size, output_size):\n",
    "        super(SimpleModel, self).__init__()\n",
    "        self.fc1 = nn.Linear(input_size, hidden_size)\n",
    "        self.relu = nn.ReLU()\n",
    "        self.fc2 = nn.Linear(hidden_size, output_size)\n",
    "\n",
    "    def forward(self, x):\n",
    "        x = self.fc1(x)\n",
    "        x = self.relu(x)\n",
    "        x = self.fc2(x)\n",
    "        return x\n",
    "    \n",
    "# instantiate the model\n",
    "input_size = 10\n",
    "hidden_size = 5\n",
    "output_size = 2\n",
    "model = SimpleModel(input_size, hidden_size, output_size)\n",
    "\n",
    "# print model\n",
    "print(model)\n",
    "\n",
    "# input\n",
    "input_data = torch.randn(1, input_size)\n",
    "\n",
    "# traced model\n",
    "traced_model = torch.jit.trace(model, input_data)\n"
   ]
  },
  {
   "cell_type": "code",
   "execution_count": 11,
   "id": "5bf5a28c",
   "metadata": {},
   "outputs": [
    {
     "name": "stdout",
     "output_type": "stream",
     "text": [
      "SimpleModel(\n",
      "  original_name=SimpleModel\n",
      "  (fc1): Linear(original_name=Linear)\n",
      "  (relu): ReLU(original_name=ReLU)\n",
      "  (fc2): Linear(original_name=Linear)\n",
      ")\n"
     ]
    }
   ],
   "source": [
    "# print the trace model\n",
    "print(traced_model)"
   ]
  }
 ],
 "metadata": {
  "kernelspec": {
   "display_name": "py38_ikflow",
   "language": "python",
   "name": "python3"
  },
  "language_info": {
   "codemirror_mode": {
    "name": "ipython",
    "version": 3
   },
   "file_extension": ".py",
   "mimetype": "text/x-python",
   "name": "python",
   "nbconvert_exporter": "python",
   "pygments_lexer": "ipython3",
   "version": "3.8.18"
  }
 },
 "nbformat": 4,
 "nbformat_minor": 5
}
